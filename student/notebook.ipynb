{
 "cells": [
  {
   "cell_type": "markdown",
   "source": [
    "## Project: Student Mental health Data analysis"
   ],
   "metadata": {
    "formattedRanges": [],
    "cell_id": "a62765df567a46b297c0e786b2cd3b26",
    "tags": [],
    "is_collapsed": false,
    "deepnote_cell_type": "text-cell-h2",
    "pycharm": {
     "name": "#%% md\n"
    }
   }
  },
  {
   "cell_type": "markdown",
   "source": [
    "### 1. Importing Libraries:"
   ],
   "metadata": {
    "formattedRanges": [],
    "cell_id": "06f8258dbe69417bb5352177802264da",
    "tags": [],
    "is_collapsed": false,
    "deepnote_cell_type": "text-cell-h3",
    "pycharm": {
     "name": "#%% md\n"
    }
   }
  },
  {
   "cell_type": "markdown",
   "source": [
    "Numpy is requried whenever calculations are required (calculating means, medians, sqaure root, etc.).  Pandas is a great module for data processing and data frames."
   ],
   "metadata": {
    "formattedRanges": [],
    "cell_id": "199959b20d1742febaf558f79c8b5e79",
    "tags": [],
    "is_collapsed": false,
    "deepnote_cell_type": "text-cell-p",
    "pycharm": {
     "name": "#%% md\n"
    }
   }
  },
  {
   "cell_type": "code",
   "metadata": {
    "cell_id": "4cfac6d7b8804daaafbb493cdb886bcf",
    "tags": [],
    "deepnote_to_be_reexecuted": false,
    "source_hash": "d01a836f",
    "execution_start": 1653312351775,
    "execution_millis": 2690,
    "deepnote_cell_type": "code",
    "deepnote_cell_height": 243,
    "pycharm": {
     "name": "#%%\n"
    }
   },
   "source": [
    "import pandas as pd # data processing, CSV file I/O (e.g. pd.read_csv)\n",
    "import numpy as np # linear algebra\n",
    "import matplotlib.pyplot as plt\n",
    "import seaborn as sns\n",
    "from termcolor import colored"
   ],
   "execution_count": 1,
   "outputs": []
  },
  {
   "cell_type": "markdown",
   "source": [
    "### 2. Loading Dataset &amp; Exploratory Data Analysis:\n"
   ],
   "metadata": {
    "formattedRanges": [],
    "cell_id": "0cb6fccd1daf480f9065d3a49b75d067",
    "tags": [],
    "is_collapsed": false,
    "deepnote_cell_type": "text-cell-h3",
    "pycharm": {
     "name": "#%% md\n"
    }
   }
  },
  {
   "cell_type": "code",
   "metadata": {
    "cell_id": "f276f45177574275a8589d7f9601361e",
    "tags": [],
    "deepnote_to_be_reexecuted": false,
    "source_hash": "979317f4",
    "execution_start": 1653312354470,
    "execution_millis": 51,
    "deepnote_cell_type": "code",
    "deepnote_cell_height": 825.15625,
    "pycharm": {
     "name": "#%%\n"
    }
   },
   "source": [
    "data = pd.read_csv('Student Mental health.csv')\n",
    "pd.set_option('display.max_columns',None)\n",
    "pd.set_option(\"display.max_rows\",None)\n",
    "\n",
    "\n",
    "print('The data has the shape of', data.shape[0], 'Rows and', data.shape[1], 'columns')\n",
    "\n",
    "print(data.info())\n",
    "print(data.describe())\n"
   ],
   "execution_count": 2,
   "outputs": [
    {
     "name": "stdout",
     "output_type": "stream",
     "text": [
      "The data has the shape of 101 Rows and 11 columns\n",
      "<class 'pandas.core.frame.DataFrame'>\n",
      "RangeIndex: 101 entries, 0 to 100\n",
      "Data columns (total 11 columns):\n",
      " #   Column                                        Non-Null Count  Dtype  \n",
      "---  ------                                        --------------  -----  \n",
      " 0   Timestamp                                     101 non-null    object \n",
      " 1   Choose your gender                            101 non-null    object \n",
      " 2   Age                                           100 non-null    float64\n",
      " 3   What is your course?                          101 non-null    object \n",
      " 4   Your current year of Study                    101 non-null    object \n",
      " 5   What is your CGPA?                            101 non-null    object \n",
      " 6   Marital status                                101 non-null    object \n",
      " 7   Do you have Depression?                       101 non-null    object \n",
      " 8   Do you have Anxiety?                          101 non-null    object \n",
      " 9   Do you have Panic attack?                     101 non-null    object \n",
      " 10  Did you seek any specialist for a treatment?  101 non-null    object \n",
      "dtypes: float64(1), object(10)\n",
      "memory usage: 8.8+ KB\n",
      "None\n",
      "             Age\n",
      "count  100.00000\n",
      "mean    20.53000\n",
      "std      2.49628\n",
      "min     18.00000\n",
      "25%     18.00000\n",
      "50%     19.00000\n",
      "75%     23.00000\n",
      "max     24.00000\n"
     ]
    }
   ]
  },
  {
   "cell_type": "markdown",
   "source": [
    "The \"head\" fucntion displays the first 5 rows of the data frame:"
   ],
   "metadata": {
    "formattedRanges": [],
    "cell_id": "49b5ab568a8b451c88c35dfc23269b5e",
    "tags": [],
    "is_collapsed": false,
    "deepnote_cell_type": "text-cell-p",
    "pycharm": {
     "name": "#%% md\n"
    }
   }
  },
  {
   "cell_type": "code",
   "metadata": {
    "cell_id": "aeeff75f01164e88be32c3e39fc6e7cc",
    "tags": [],
    "deepnote_to_be_reexecuted": false,
    "source_hash": "eee9244a",
    "execution_start": 1653312354525,
    "execution_millis": 146,
    "deepnote_cell_type": "code",
    "deepnote_cell_height": 701,
    "pycharm": {
     "name": "#%%\n"
    }
   },
   "source": [
    "print(data.head(10))"
   ],
   "execution_count": 3,
   "outputs": [
    {
     "name": "stdout",
     "output_type": "stream",
     "text": [
      "        Timestamp Choose your gender   Age What is your course?  \\\n",
      "0  8/7/2020 12:02             Female  18.0          Engineering   \n",
      "1  8/7/2020 12:04               Male  21.0    Islamic education   \n",
      "2  8/7/2020 12:05               Male  19.0                  BIT   \n",
      "3  8/7/2020 12:06             Female  22.0                 Laws   \n",
      "4  8/7/2020 12:13               Male  23.0         Mathemathics   \n",
      "5  8/7/2020 12:31               Male  19.0          Engineering   \n",
      "6  8/7/2020 12:32             Female  23.0     Pendidikan islam   \n",
      "7  8/7/2020 12:33             Female  18.0                  BCS   \n",
      "8  8/7/2020 12:35             Female  19.0      Human Resources   \n",
      "9  8/7/2020 12:39               Male  18.0                Irkhs   \n",
      "\n",
      "  Your current year of Study What is your CGPA? Marital status  \\\n",
      "0                     year 1        3.00 - 3.49             No   \n",
      "1                     year 2        3.00 - 3.49             No   \n",
      "2                     Year 1        3.00 - 3.49             No   \n",
      "3                     year 3        3.00 - 3.49            Yes   \n",
      "4                     year 4        3.00 - 3.49             No   \n",
      "5                     Year 2        3.50 - 4.00             No   \n",
      "6                     year 2       3.50 - 4.00             Yes   \n",
      "7                     year 1        3.50 - 4.00             No   \n",
      "8                     Year 2        2.50 - 2.99             No   \n",
      "9                     year 1        3.50 - 4.00             No   \n",
      "\n",
      "  Do you have Depression? Do you have Anxiety? Do you have Panic attack?  \\\n",
      "0                     Yes                   No                       Yes   \n",
      "1                      No                  Yes                        No   \n",
      "2                     Yes                  Yes                       Yes   \n",
      "3                     Yes                   No                        No   \n",
      "4                      No                   No                        No   \n",
      "5                      No                   No                       Yes   \n",
      "6                     Yes                   No                       Yes   \n",
      "7                      No                  Yes                        No   \n",
      "8                      No                   No                        No   \n",
      "9                      No                  Yes                       Yes   \n",
      "\n",
      "  Did you seek any specialist for a treatment?  \n",
      "0                                           No  \n",
      "1                                           No  \n",
      "2                                           No  \n",
      "3                                           No  \n",
      "4                                           No  \n",
      "5                                           No  \n",
      "6                                           No  \n",
      "7                                           No  \n",
      "8                                           No  \n",
      "9                                           No  \n"
     ]
    }
   ]
  },
  {
   "cell_type": "code",
   "metadata": {
    "cell_id": "21e297d5a1ba4e63a034f20fec604634",
    "tags": [],
    "deepnote_to_be_reexecuted": false,
    "source_hash": "24f15ac4",
    "execution_start": 1653312354542,
    "execution_millis": 129,
    "deepnote_cell_type": "code",
    "deepnote_cell_height": 623.765625,
    "pycharm": {
     "name": "#%%\n"
    }
   },
   "source": [
    "print(data.tail())"
   ],
   "execution_count": 4,
   "outputs": [
    {
     "name": "stdout",
     "output_type": "stream",
     "text": [
      "               Timestamp Choose your gender   Age What is your course?  \\\n",
      "96   13/07/2020 19:56:49             Female  21.0                  BCS   \n",
      "97   13/07/2020 21:21:42               Male  18.0          Engineering   \n",
      "98   13/07/2020 21:22:56             Female  19.0             Nursing    \n",
      "99   13/07/2020 21:23:57             Female  23.0     Pendidikan Islam   \n",
      "100  18/07/2020 20:16:21               Male  20.0   Biomedical science   \n",
      "\n",
      "    Your current year of Study What is your CGPA? Marital status  \\\n",
      "96                      year 1        3.50 - 4.00             No   \n",
      "97                      Year 2        3.00 - 3.49             No   \n",
      "98                      Year 3        3.50 - 4.00            Yes   \n",
      "99                      year 4        3.50 - 4.00             No   \n",
      "100                     Year 2        3.00 - 3.49             No   \n",
      "\n",
      "    Do you have Depression? Do you have Anxiety? Do you have Panic attack?  \\\n",
      "96                       No                  Yes                        No   \n",
      "97                      Yes                  Yes                        No   \n",
      "98                      Yes                   No                       Yes   \n",
      "99                       No                   No                        No   \n",
      "100                      No                   No                        No   \n",
      "\n",
      "    Did you seek any specialist for a treatment?  \n",
      "96                                            No  \n",
      "97                                            No  \n",
      "98                                            No  \n",
      "99                                            No  \n",
      "100                                           No  \n"
     ]
    }
   ]
  },
  {
   "cell_type": "markdown",
   "source": [
    "### 3. Missing values"
   ],
   "metadata": {
    "formattedRanges": [],
    "cell_id": "d42e811420f8488793dc6f14cbf792bc",
    "tags": [],
    "is_collapsed": false,
    "deepnote_cell_type": "text-cell-h3",
    "pycharm": {
     "name": "#%% md\n"
    }
   }
  },
  {
   "cell_type": "code",
   "metadata": {
    "cell_id": "4b39f81d3a9c48bfbb401ca178ef35d0",
    "tags": [],
    "deepnote_to_be_reexecuted": false,
    "source_hash": "f72cee6",
    "execution_start": 1653312354673,
    "execution_millis": 13,
    "deepnote_cell_type": "code",
    "deepnote_cell_height": 328.34375,
    "pycharm": {
     "name": "#%%\n"
    }
   },
   "source": [
    "print(data.isnull().sum())"
   ],
   "execution_count": 5,
   "outputs": [
    {
     "name": "stdout",
     "output_type": "stream",
     "text": [
      "Timestamp                                       0\n",
      "Choose your gender                              0\n",
      "Age                                             1\n",
      "What is your course?                            0\n",
      "Your current year of Study                      0\n",
      "What is your CGPA?                              0\n",
      "Marital status                                  0\n",
      "Do you have Depression?                         0\n",
      "Do you have Anxiety?                            0\n",
      "Do you have Panic attack?                       0\n",
      "Did you seek any specialist for a treatment?    0\n",
      "dtype: int64\n"
     ]
    }
   ]
  },
  {
   "cell_type": "code",
   "metadata": {
    "cell_id": "a85a8fafd40e45ad8782193b8f803ab6",
    "tags": [],
    "deepnote_to_be_reexecuted": false,
    "source_hash": "6b3ee86b",
    "execution_start": 1653312354674,
    "execution_millis": 275,
    "deepnote_cell_type": "code",
    "deepnote_cell_height": 644,
    "deepnote_output_heights": [
     475
    ],
    "pycharm": {
     "name": "#%%\n"
    }
   },
   "source": [
    "null = pd.DataFrame(zip(data.columns, data.isnull().sum()), columns=['Columns','Null_Count'])\n",
    "sns.barplot(x=\"Columns\", y='Null_Count', data=null)\n",
    "plt.xticks(rotation=90)\n",
    "plt.show()\n"
   ],
   "execution_count": 6,
   "outputs": [
    {
     "data": {
      "text/plain": "<Figure size 432x288 with 1 Axes>",
      "image/png": "[encoded data removed]"
     },
     "metadata": {},
     "output_type": "display_data"
    }
   ]
  },
  {
   "cell_type": "markdown",
   "source": [
    "We can simply delete rows with missing values, but usually we would 'want to take advantage of as many data points as possible. Replacing missing values with zeros would not be a good idea - as age 0 or price 0 have actual meanings and that would change our data.\n",
    "Therefore a good replacement value would be something that doesn't affect the data too much, such as the median or mean. the \"fillna\" function replaces every NaN (not a number) entry with the given input (the mean of the column in our case):\n"
   ],
   "metadata": {
    "formattedRanges": [],
    "cell_id": "75942a80770d4661bfe3488231199b27",
    "tags": [],
    "is_collapsed": false,
    "deepnote_cell_type": "text-cell-p",
    "pycharm": {
     "name": "#%% md\n"
    }
   }
  },
  {
   "cell_type": "code",
   "metadata": {
    "cell_id": "bb100ce62cb44af68948625317bd281a",
    "tags": [],
    "deepnote_to_be_reexecuted": false,
    "source_hash": "be0eda9b",
    "execution_start": 1653312354994,
    "execution_millis": 0,
    "deepnote_cell_type": "code",
    "deepnote_cell_height": 99,
    "pycharm": {
     "name": "#%%\n"
    }
   },
   "source": [
    "data['Age'] = data['Age'].fillna(np.mean(data['Age']))\n"
   ],
   "execution_count": 7,
   "outputs": []
  },
  {
   "cell_type": "code",
   "metadata": {
    "cell_id": "a8d893ba938a4b25a6a07c9b6c3fce8e",
    "tags": [],
    "deepnote_to_be_reexecuted": false,
    "source_hash": "f72cee6",
    "execution_start": 1653312354995,
    "execution_millis": 1,
    "deepnote_cell_type": "code",
    "deepnote_cell_height": 328.34375,
    "pycharm": {
     "name": "#%%\n"
    }
   },
   "source": [
    "print(data.isnull().sum())"
   ],
   "execution_count": 8,
   "outputs": [
    {
     "name": "stdout",
     "output_type": "stream",
     "text": [
      "Timestamp                                       0\n",
      "Choose your gender                              0\n",
      "Age                                             0\n",
      "What is your course?                            0\n",
      "Your current year of Study                      0\n",
      "What is your CGPA?                              0\n",
      "Marital status                                  0\n",
      "Do you have Depression?                         0\n",
      "Do you have Anxiety?                            0\n",
      "Do you have Panic attack?                       0\n",
      "Did you seek any specialist for a treatment?    0\n",
      "dtype: int64\n"
     ]
    }
   ]
  },
  {
   "cell_type": "code",
   "metadata": {
    "cell_id": "f91d20170efa4abeab5f7a87f7a9060e",
    "tags": [],
    "deepnote_to_be_reexecuted": false,
    "source_hash": "fa4fac0a",
    "execution_start": 1653312355036,
    "execution_millis": 4,
    "deepnote_cell_type": "code",
    "deepnote_cell_height": 210.171875,
    "pycharm": {
     "name": "#%%\n"
    }
   },
   "source": [
    "print(data.columns.unique())"
   ],
   "execution_count": 9,
   "outputs": [
    {
     "name": "stdout",
     "output_type": "stream",
     "text": [
      "Index(['Timestamp', 'Choose your gender', 'Age', 'What is your course?',\n",
      "       'Your current year of Study', 'What is your CGPA?', 'Marital status',\n",
      "       'Do you have Depression?', 'Do you have Anxiety?',\n",
      "       'Do you have Panic attack?',\n",
      "       'Did you seek any specialist for a treatment?'],\n",
      "      dtype='object')\n"
     ]
    }
   ]
  },
  {
   "cell_type": "code",
   "metadata": {
    "cell_id": "c26eddf9b592454897c054bc5b899446",
    "tags": [],
    "deepnote_to_be_reexecuted": false,
    "source_hash": "64295d6",
    "execution_start": 1653312355037,
    "execution_millis": 4,
    "deepnote_cell_type": "code",
    "deepnote_cell_height": 151.078125,
    "pycharm": {
     "name": "#%%\n"
    }
   },
   "source": [
    "print(data['Choose your gender'].value_counts())"
   ],
   "execution_count": 10,
   "outputs": [
    {
     "name": "stdout",
     "output_type": "stream",
     "text": [
      "Female    75\n",
      "Male      26\n",
      "Name: Choose your gender, dtype: int64\n"
     ]
    }
   ]
  },
  {
   "cell_type": "code",
   "metadata": {
    "cell_id": "ad84839e041243b3a6465f1a3d06f0d6",
    "tags": [],
    "deepnote_to_be_reexecuted": false,
    "source_hash": "f41c5b2c",
    "execution_start": 1653312355038,
    "execution_millis": 247,
    "deepnote_cell_type": "code",
    "deepnote_cell_height": 667,
    "deepnote_output_heights": [
     354
    ],
    "pycharm": {
     "name": "#%%\n"
    }
   },
   "source": [
    "fig, ax = plt.subplots(figsize=(8, 5))\n",
    "\n",
    "\n",
    "ax.pie(x = data['Choose your gender'].value_counts(), labels =('Female', 'Male'), autopct='%.1f%%', pctdistance=.75, startangle=24,\n",
    "       textprops={\"fontsize\":12}, wedgeprops={'edgecolor':'#383838'})\n",
    "\n",
    "ax.set_title('Gender in %', fontdict={'fontsize':14})\n",
    "ax.legend([], bbox_to_anchor=(.8, .77))\n",
    "\n",
    "fig = plt.gcf()\n",
    "\n",
    "plt.tight_layout()\n",
    "plt.show()"
   ],
   "execution_count": 11,
   "outputs": [
    {
     "data": {
      "text/plain": "<Figure size 576x360 with 1 Axes>",
      "image/png": "[encoded data removed]"
     },
     "metadata": {},
     "output_type": "display_data"
    }
   ]
  },
  {
   "cell_type": "code",
   "metadata": {
    "cell_id": "351d758fdce34b15ba697f1d4e133e20",
    "tags": [],
    "deepnote_to_be_reexecuted": false,
    "source_hash": "44e84e6e",
    "execution_start": 1653312355291,
    "execution_millis": 14,
    "deepnote_cell_type": "code",
    "deepnote_cell_height": 210.171875,
    "pycharm": {
     "name": "#%%\n"
    }
   },
   "source": [
    "print(data['Age'].head())"
   ],
   "execution_count": 12,
   "outputs": [
    {
     "name": "stdout",
     "output_type": "stream",
     "text": [
      "0    18.0\n",
      "1    21.0\n",
      "2    19.0\n",
      "3    22.0\n",
      "4    23.0\n",
      "Name: Age, dtype: float64\n"
     ]
    }
   ]
  },
  {
   "cell_type": "code",
   "metadata": {
    "cell_id": "f5268744be1949b1a760548561c1f08f",
    "tags": [],
    "deepnote_to_be_reexecuted": false,
    "source_hash": "fc0a60de",
    "execution_start": 1653312355315,
    "execution_millis": 19,
    "deepnote_cell_type": "code",
    "deepnote_cell_height": 99,
    "pycharm": {
     "name": "#%%\n"
    }
   },
   "source": [
    "data = data.dropna()\n",
    "data['Age'] = data['Age'].astype('int64')"
   ],
   "execution_count": 13,
   "outputs": []
  },
  {
   "cell_type": "code",
   "metadata": {
    "cell_id": "435ec9a5f69d410b9b5fac84bfb4a306",
    "tags": [],
    "deepnote_to_be_reexecuted": false,
    "source_hash": "44e84e6e",
    "execution_start": 1653312355359,
    "execution_millis": 18,
    "deepnote_cell_type": "code",
    "deepnote_cell_height": 210.171875,
    "pycharm": {
     "name": "#%%\n"
    }
   },
   "source": [
    "print(data['Age'].head())"
   ],
   "execution_count": 14,
   "outputs": [
    {
     "name": "stdout",
     "output_type": "stream",
     "text": [
      "0    18\n",
      "1    21\n",
      "2    19\n",
      "3    22\n",
      "4    23\n",
      "Name: Age, dtype: int64\n"
     ]
    }
   ]
  },
  {
   "cell_type": "code",
   "metadata": {
    "cell_id": "b8f29b4481854efb9bdb93ec2c18eb9b",
    "tags": [],
    "deepnote_to_be_reexecuted": false,
    "source_hash": "8874a2e1",
    "execution_start": 1653312355465,
    "execution_millis": 246,
    "deepnote_cell_type": "code",
    "deepnote_cell_height": 626.015625,
    "deepnote_output_heights": [
     21.1875,
     422.828125
    ],
    "pycharm": {
     "name": "#%%\n"
    }
   },
   "source": [
    "plt.figure(figsize=(20, 10))\n",
    "plt.title(\"Age of Patients\")\n",
    "plt.xlabel(\"Age\")\n",
    "sns.countplot(x='Age',data=data)"
   ],
   "execution_count": 15,
   "outputs": [
    {
     "data": {
      "text/plain": "<AxesSubplot:title={'center':'Age of Patients'}, xlabel='Age', ylabel='count'>"
     },
     "execution_count": 15,
     "metadata": {},
     "output_type": "execute_result"
    },
    {
     "data": {
      "text/plain": "<Figure size 1440x720 with 1 Axes>",
      "image/png": "[encoded data removed]"
     },
     "metadata": {},
     "output_type": "display_data"
    }
   ]
  },
  {
   "cell_type": "code",
   "metadata": {
    "cell_id": "6b099f5b1ee748c98904f51f5d84078f",
    "tags": [],
    "deepnote_to_be_reexecuted": false,
    "source_hash": "43388fbb",
    "execution_start": 1653312355766,
    "execution_millis": 430,
    "deepnote_cell_type": "code",
    "deepnote_cell_height": 457,
    "deepnote_output_heights": [
     270
    ],
    "pycharm": {
     "name": "#%%\n"
    }
   },
   "source": [
    "sns.set(style=\"darkgrid\")\n",
    "f, (ax_box, ax_hist) = plt.subplots(2, sharex=True, gridspec_kw={\"height_ratios\": (.15, .85)})\n",
    "sns.boxplot(data=data,x='Age', ax=ax_box)\n",
    "sns.histplot(data=data, x=\"Age\", ax=ax_hist,kde=True)\n",
    "ax_box.set(xlabel='')\n",
    "plt.show()"
   ],
   "execution_count": 16,
   "outputs": [
    {
     "data": {
      "text/plain": "<Figure size 432x288 with 2 Axes>",
      "image/png": "[encoded data removed]"
     },
     "metadata": {},
     "output_type": "display_data"
    }
   ]
  },
  {
   "cell_type": "code",
   "metadata": {
    "cell_id": "2f883ccffe6a4e278a0bb61127b12e10",
    "tags": [],
    "deepnote_to_be_reexecuted": false,
    "source_hash": "eee9244a",
    "execution_start": 1653312356220,
    "execution_millis": 37,
    "deepnote_cell_type": "code",
    "deepnote_cell_height": 701,
    "pycharm": {
     "name": "#%%\n"
    }
   },
   "source": [
    "print(data.head(10))"
   ],
   "execution_count": 17,
   "outputs": [
    {
     "name": "stdout",
     "output_type": "stream",
     "text": [
      "        Timestamp Choose your gender  Age What is your course?  \\\n",
      "0  8/7/2020 12:02             Female   18          Engineering   \n",
      "1  8/7/2020 12:04               Male   21    Islamic education   \n",
      "2  8/7/2020 12:05               Male   19                  BIT   \n",
      "3  8/7/2020 12:06             Female   22                 Laws   \n",
      "4  8/7/2020 12:13               Male   23         Mathemathics   \n",
      "5  8/7/2020 12:31               Male   19          Engineering   \n",
      "6  8/7/2020 12:32             Female   23     Pendidikan islam   \n",
      "7  8/7/2020 12:33             Female   18                  BCS   \n",
      "8  8/7/2020 12:35             Female   19      Human Resources   \n",
      "9  8/7/2020 12:39               Male   18                Irkhs   \n",
      "\n",
      "  Your current year of Study What is your CGPA? Marital status  \\\n",
      "0                     year 1        3.00 - 3.49             No   \n",
      "1                     year 2        3.00 - 3.49             No   \n",
      "2                     Year 1        3.00 - 3.49             No   \n",
      "3                     year 3        3.00 - 3.49            Yes   \n",
      "4                     year 4        3.00 - 3.49             No   \n",
      "5                     Year 2        3.50 - 4.00             No   \n",
      "6                     year 2       3.50 - 4.00             Yes   \n",
      "7                     year 1        3.50 - 4.00             No   \n",
      "8                     Year 2        2.50 - 2.99             No   \n",
      "9                     year 1        3.50 - 4.00             No   \n",
      "\n",
      "  Do you have Depression? Do you have Anxiety? Do you have Panic attack?  \\\n",
      "0                     Yes                   No                       Yes   \n",
      "1                      No                  Yes                        No   \n",
      "2                     Yes                  Yes                       Yes   \n",
      "3                     Yes                   No                        No   \n",
      "4                      No                   No                        No   \n",
      "5                      No                   No                       Yes   \n",
      "6                     Yes                   No                       Yes   \n",
      "7                      No                  Yes                        No   \n",
      "8                      No                   No                        No   \n",
      "9                      No                  Yes                       Yes   \n",
      "\n",
      "  Did you seek any specialist for a treatment?  \n",
      "0                                           No  \n",
      "1                                           No  \n",
      "2                                           No  \n",
      "3                                           No  \n",
      "4                                           No  \n",
      "5                                           No  \n",
      "6                                           No  \n",
      "7                                           No  \n",
      "8                                           No  \n",
      "9                                           No  \n"
     ]
    }
   ]
  },
  {
   "cell_type": "code",
   "metadata": {
    "cell_id": "6d38d792ab6d4c78891b3d3aed89adcc",
    "tags": [],
    "deepnote_to_be_reexecuted": false,
    "source_hash": "9ea11e8d",
    "execution_start": 1653312356221,
    "execution_millis": 36,
    "deepnote_cell_type": "code",
    "deepnote_cell_height": 701,
    "pycharm": {
     "name": "#%%\n"
    }
   },
   "source": [
    "print(data['What is your course?'].value_counts())"
   ],
   "execution_count": 18,
   "outputs": [
    {
     "name": "stdout",
     "output_type": "stream",
     "text": [
      "BCS                        18\n",
      "Engineering                17\n",
      "BIT                        10\n",
      "Biomedical science          4\n",
      "KOE                         4\n",
      "BENL                        2\n",
      "Laws                        2\n",
      "psychology                  2\n",
      "Engine                      2\n",
      "Islamic Education           1\n",
      "Biotechnology               1\n",
      "engin                       1\n",
      "Econs                       1\n",
      "MHSC                        1\n",
      "Malcom                      1\n",
      "Kop                         1\n",
      "Human Sciences              1\n",
      "Communication               1\n",
      "Nursing                     1\n",
      "Diploma Nursing             1\n",
      "IT                          1\n",
      "Pendidikan Islam            1\n",
      "Radiography                 1\n",
      "Fiqh fatwa                  1\n",
      "DIPLOMA TESL                1\n",
      "Koe                         1\n",
      "Fiqh                        1\n",
      "CTS                         1\n",
      "koe                         1\n",
      "Benl                        1\n",
      "Kirkhs                      1\n",
      "Mathemathics                1\n",
      "Pendidikan islam            1\n",
      "Human Resources             1\n",
      "Irkhs                       1\n",
      "Psychology                  1\n",
      "KENMS                       1\n",
      "Accounting                  1\n",
      "ENM                         1\n",
      "Marine science              1\n",
      "Banking Studies             1\n",
      "Business Administration     1\n",
      "Law                         1\n",
      "KIRKHS                      1\n",
      "Usuluddin                   1\n",
      "TAASL                       1\n",
      "ALA                         1\n",
      "Islamic education           1\n",
      "Pendidikan Islam            1\n",
      "Name: What is your course?, dtype: int64\n"
     ]
    }
   ]
  },
  {
   "cell_type": "code",
   "metadata": {
    "cell_id": "8ecaaf69e5c547608265f69c302a2590",
    "tags": [],
    "deepnote_to_be_reexecuted": false,
    "source_hash": "66de821b",
    "execution_start": 1653312356238,
    "execution_millis": 195,
    "deepnote_cell_type": "code",
    "deepnote_cell_height": 618,
    "pycharm": {
     "name": "#%%\n"
    }
   },
   "source": [
    "ages = data[data[\"Age\"] == 18]\n",
    "ages"
   ],
   "execution_count": 19,
   "outputs": [
    {
     "data": {
      "text/plain": "              Timestamp Choose your gender  Age What is your course?  \\\n0        8/7/2020 12:02             Female   18          Engineering   \n7        8/7/2020 12:33             Female   18                  BCS   \n9        8/7/2020 12:39               Male   18                Irkhs   \n12       8/7/2020 12:40             Female   18                  BCS   \n14       8/7/2020 12:43             Female   18                KENMS   \n19       8/7/2020 13:07             Female   18       Marine science   \n21       8/7/2020 13:13             Female   18                  KOE   \n25       8/7/2020 13:29             Female   18      Banking Studies   \n27       8/7/2020 13:41               Male   18          Engineering   \n31       8/7/2020 14:29               Male   18                  BCS   \n33       8/7/2020 14:31               Male   18                  BCS   \n35       8/7/2020 14:43             Female   18          Engineering   \n36       8/7/2020 14:43             Female   18                  Law   \n38       8/7/2020 14:47             Female   18               KIRKHS   \n45       8/7/2020 15:09               Male   18                  BCS   \n47       8/7/2020 15:14             Female   18               Engine   \n51       8/7/2020 15:37             Female   18                  BCS   \n58       8/7/2020 16:22             Female   18                  BCS   \n60       8/7/2020 16:34             Female   18                   IT   \n62       8/7/2020 17:05             Female   18                  CTS   \n66       8/7/2020 18:10             Female   18                  KOE   \n68       8/7/2020 19:05             Female   18               Malcom   \n71       8/7/2020 21:21             Female   18                 Laws   \n73        9/7/2020 6:57               Male   18   Biomedical science   \n77       9/7/2020 18:24             Female   18      Human Sciences    \n79  13/07/2020 10:10:30             Female   18          Engineering   \n85  13/07/2020 10:33:47             Female   18           psychology   \n87  13/07/2020 11:46:13             Female   18           psychology   \n91  13/07/2020 14:38:12               Male   18                  Koe   \n93  13/07/2020 16:15:13             Female   18                 BENL   \n95  13/07/2020 19:08:32             Female   18    Islamic Education   \n97  13/07/2020 21:21:42               Male   18          Engineering   \n\n   Your current year of Study What is your CGPA? Marital status  \\\n0                      year 1        3.00 - 3.49             No   \n7                      year 1        3.50 - 4.00             No   \n9                      year 1        3.50 - 4.00             No   \n12                     year 1        3.00 - 3.49             No   \n14                     Year 2        3.50 - 4.00             No   \n19                     year 2        3.50 - 4.00            Yes   \n21                     Year 2        3.00 - 3.49             No   \n25                     year 1        3.50 - 4.00             No   \n27                     Year 2        3.00 - 3.49            Yes   \n31                     year 2        3.00 - 3.49             No   \n33                     Year 2        3.50 - 4.00            Yes   \n35                     year 1        2.00 - 2.49             No   \n36                     Year 3        3.00 - 3.49             No   \n38                     year 1        3.50 - 4.00             No   \n45                     year 1        3.50 - 4.00             No   \n47                     year 4        3.50 - 4.00             No   \n51                     year 2        3.50 - 4.00             No   \n58                     year 1        3.50 - 4.00             No   \n60                     Year 3        3.00 - 3.49             No   \n62                     Year 1        3.50 - 4.00             No   \n66                     Year 3        3.00 - 3.49             No   \n68                     year 1        3.50 - 4.00             No   \n71                     Year 3        3.50 - 4.00             No   \n73                     year 1           0 - 1.99             No   \n77                     Year 2        3.00 - 3.49             No   \n79                     year 4        3.50 - 4.00             No   \n85                     year 1        3.50 - 4.00             No   \n87                     year 1        3.50 - 4.00             No   \n91                     Year 2        3.00 - 3.49             No   \n93                     year 1        3.00 - 3.49             No   \n95                     year 1        3.50 - 4.00             No   \n97                     Year 2        3.00 - 3.49             No   \n\n   Do you have Depression? Do you have Anxiety? Do you have Panic attack?  \\\n0                      Yes                   No                       Yes   \n7                       No                  Yes                        No   \n9                       No                  Yes                       Yes   \n12                     Yes                   No                        No   \n14                      No                  Yes                        No   \n19                     Yes                  Yes                       Yes   \n21                      No                   No                        No   \n25                      No                   No                        No   \n27                     Yes                  Yes                        No   \n31                      No                   No                        No   \n33                     Yes                  Yes                        No   \n35                      No                   No                        No   \n36                     Yes                  Yes                        No   \n38                      No                   No                        No   \n45                      No                  Yes                       Yes   \n47                      No                   No                        No   \n51                      No                  Yes                        No   \n58                      No                   No                        No   \n60                      No                   No                       Yes   \n62                      No                   No                       Yes   \n66                      No                  Yes                        No   \n68                     Yes                   No                        No   \n71                      No                   No                       Yes   \n73                      No                   No                        No   \n77                      No                   No                       Yes   \n79                      No                   No                        No   \n85                     Yes                  Yes                        No   \n87                     Yes                  Yes                       Yes   \n91                      No                  Yes                        No   \n93                     Yes                   No                        No   \n95                      No                   No                        No   \n97                     Yes                  Yes                        No   \n\n   Did you seek any specialist for a treatment?  \n0                                            No  \n7                                            No  \n9                                            No  \n12                                           No  \n14                                           No  \n19                                           No  \n21                                           No  \n25                                           No  \n27                                           No  \n31                                           No  \n33                                          Yes  \n35                                           No  \n36                                           No  \n38                                           No  \n45                                           No  \n47                                           No  \n51                                           No  \n58                                           No  \n60                                           No  \n62                                           No  \n66                                           No  \n68                                           No  \n71                                           No  \n73                                           No  \n77                                           No  \n79                                           No  \n85                                          Yes  \n87                                           No  \n91                                           No  \n93                                           No  \n95                                           No  \n97                                           No  ",
      "text/html": "<div>\n<style scoped>\n    .dataframe tbody tr th:only-of-type {\n        vertical-align: middle;\n    }\n\n    .dataframe tbody tr th {\n        vertical-align: top;\n    }\n\n    .dataframe thead th {\n        text-align: right;\n    }\n</style>\n<table border=\"1\" class=\"dataframe\">\n  <thead>\n    <tr style=\"text-align: right;\">\n      <th></th>\n      <th>Timestamp</th>\n      <th>Choose your gender</th>\n      <th>Age</th>\n      <th>What is your course?</th>\n      <th>Your current year of Study</th>\n      <th>What is your CGPA?</th>\n      <th>Marital status</th>\n      <th>Do you have Depression?</th>\n      <th>Do you have Anxiety?</th>\n      <th>Do you have Panic attack?</th>\n      <th>Did you seek any specialist for a treatment?</th>\n    </tr>\n  </thead>\n  <tbody>\n    <tr>\n      <th>0</th>\n      <td>8/7/2020 12:02</td>\n      <td>Female</td>\n      <td>18</td>\n      <td>Engineering</td>\n      <td>year 1</td>\n      <td>3.00 - 3.49</td>\n      <td>No</td>\n      <td>Yes</td>\n      <td>No</td>\n      <td>Yes</td>\n      <td>No</td>\n    </tr>\n    <tr>\n      <th>7</th>\n      <td>8/7/2020 12:33</td>\n      <td>Female</td>\n      <td>18</td>\n      <td>BCS</td>\n      <td>year 1</td>\n      <td>3.50 - 4.00</td>\n      <td>No</td>\n      <td>No</td>\n      <td>Yes</td>\n      <td>No</td>\n      <td>No</td>\n    </tr>\n    <tr>\n      <th>9</th>\n      <td>8/7/2020 12:39</td>\n      <td>Male</td>\n      <td>18</td>\n      <td>Irkhs</td>\n      <td>year 1</td>\n      <td>3.50 - 4.00</td>\n      <td>No</td>\n      <td>No</td>\n      <td>Yes</td>\n      <td>Yes</td>\n      <td>No</td>\n    </tr>\n    <tr>\n      <th>12</th>\n      <td>8/7/2020 12:40</td>\n      <td>Female</td>\n      <td>18</td>\n      <td>BCS</td>\n      <td>year 1</td>\n      <td>3.00 - 3.49</td>\n      <td>No</td>\n      <td>Yes</td>\n      <td>No</td>\n      <td>No</td>\n      <td>No</td>\n    </tr>\n    <tr>\n      <th>14</th>\n      <td>8/7/2020 12:43</td>\n      <td>Female</td>\n      <td>18</td>\n      <td>KENMS</td>\n      <td>Year 2</td>\n      <td>3.50 - 4.00</td>\n      <td>No</td>\n      <td>No</td>\n      <td>Yes</td>\n      <td>No</td>\n      <td>No</td>\n    </tr>\n    <tr>\n      <th>19</th>\n      <td>8/7/2020 13:07</td>\n      <td>Female</td>\n      <td>18</td>\n      <td>Marine science</td>\n      <td>year 2</td>\n      <td>3.50 - 4.00</td>\n      <td>Yes</td>\n      <td>Yes</td>\n      <td>Yes</td>\n      <td>Yes</td>\n      <td>No</td>\n    </tr>\n    <tr>\n      <th>21</th>\n      <td>8/7/2020 13:13</td>\n      <td>Female</td>\n      <td>18</td>\n      <td>KOE</td>\n      <td>Year 2</td>\n      <td>3.00 - 3.49</td>\n      <td>No</td>\n      <td>No</td>\n      <td>No</td>\n      <td>No</td>\n      <td>No</td>\n    </tr>\n    <tr>\n      <th>25</th>\n      <td>8/7/2020 13:29</td>\n      <td>Female</td>\n      <td>18</td>\n      <td>Banking Studies</td>\n      <td>year 1</td>\n      <td>3.50 - 4.00</td>\n      <td>No</td>\n      <td>No</td>\n      <td>No</td>\n      <td>No</td>\n      <td>No</td>\n    </tr>\n    <tr>\n      <th>27</th>\n      <td>8/7/2020 13:41</td>\n      <td>Male</td>\n      <td>18</td>\n      <td>Engineering</td>\n      <td>Year 2</td>\n      <td>3.00 - 3.49</td>\n      <td>Yes</td>\n      <td>Yes</td>\n      <td>Yes</td>\n      <td>No</td>\n      <td>No</td>\n    </tr>\n    <tr>\n      <th>31</th>\n      <td>8/7/2020 14:29</td>\n      <td>Male</td>\n      <td>18</td>\n      <td>BCS</td>\n      <td>year 2</td>\n      <td>3.00 - 3.49</td>\n      <td>No</td>\n      <td>No</td>\n      <td>No</td>\n      <td>No</td>\n      <td>No</td>\n    </tr>\n    <tr>\n      <th>33</th>\n      <td>8/7/2020 14:31</td>\n      <td>Male</td>\n      <td>18</td>\n      <td>BCS</td>\n      <td>Year 2</td>\n      <td>3.50 - 4.00</td>\n      <td>Yes</td>\n      <td>Yes</td>\n      <td>Yes</td>\n      <td>No</td>\n      <td>Yes</td>\n    </tr>\n    <tr>\n      <th>35</th>\n      <td>8/7/2020 14:43</td>\n      <td>Female</td>\n      <td>18</td>\n      <td>Engineering</td>\n      <td>year 1</td>\n      <td>2.00 - 2.49</td>\n      <td>No</td>\n      <td>No</td>\n      <td>No</td>\n      <td>No</td>\n      <td>No</td>\n    </tr>\n    <tr>\n      <th>36</th>\n      <td>8/7/2020 14:43</td>\n      <td>Female</td>\n      <td>18</td>\n      <td>Law</td>\n      <td>Year 3</td>\n      <td>3.00 - 3.49</td>\n      <td>No</td>\n      <td>Yes</td>\n      <td>Yes</td>\n      <td>No</td>\n      <td>No</td>\n    </tr>\n    <tr>\n      <th>38</th>\n      <td>8/7/2020 14:47</td>\n      <td>Female</td>\n      <td>18</td>\n      <td>KIRKHS</td>\n      <td>year 1</td>\n      <td>3.50 - 4.00</td>\n      <td>No</td>\n      <td>No</td>\n      <td>No</td>\n      <td>No</td>\n      <td>No</td>\n    </tr>\n    <tr>\n      <th>45</th>\n      <td>8/7/2020 15:09</td>\n      <td>Male</td>\n      <td>18</td>\n      <td>BCS</td>\n      <td>year 1</td>\n      <td>3.50 - 4.00</td>\n      <td>No</td>\n      <td>No</td>\n      <td>Yes</td>\n      <td>Yes</td>\n      <td>No</td>\n    </tr>\n    <tr>\n      <th>47</th>\n      <td>8/7/2020 15:14</td>\n      <td>Female</td>\n      <td>18</td>\n      <td>Engine</td>\n      <td>year 4</td>\n      <td>3.50 - 4.00</td>\n      <td>No</td>\n      <td>No</td>\n      <td>No</td>\n      <td>No</td>\n      <td>No</td>\n    </tr>\n    <tr>\n      <th>51</th>\n      <td>8/7/2020 15:37</td>\n      <td>Female</td>\n      <td>18</td>\n      <td>BCS</td>\n      <td>year 2</td>\n      <td>3.50 - 4.00</td>\n      <td>No</td>\n      <td>No</td>\n      <td>Yes</td>\n      <td>No</td>\n      <td>No</td>\n    </tr>\n    <tr>\n      <th>58</th>\n      <td>8/7/2020 16:22</td>\n      <td>Female</td>\n      <td>18</td>\n      <td>BCS</td>\n      <td>year 1</td>\n      <td>3.50 - 4.00</td>\n      <td>No</td>\n      <td>No</td>\n      <td>No</td>\n      <td>No</td>\n      <td>No</td>\n    </tr>\n    <tr>\n      <th>60</th>\n      <td>8/7/2020 16:34</td>\n      <td>Female</td>\n      <td>18</td>\n      <td>IT</td>\n      <td>Year 3</td>\n      <td>3.00 - 3.49</td>\n      <td>No</td>\n      <td>No</td>\n      <td>No</td>\n      <td>Yes</td>\n      <td>No</td>\n    </tr>\n    <tr>\n      <th>62</th>\n      <td>8/7/2020 17:05</td>\n      <td>Female</td>\n      <td>18</td>\n      <td>CTS</td>\n      <td>Year 1</td>\n      <td>3.50 - 4.00</td>\n      <td>No</td>\n      <td>No</td>\n      <td>No</td>\n      <td>Yes</td>\n      <td>No</td>\n    </tr>\n    <tr>\n      <th>66</th>\n      <td>8/7/2020 18:10</td>\n      <td>Female</td>\n      <td>18</td>\n      <td>KOE</td>\n      <td>Year 3</td>\n      <td>3.00 - 3.49</td>\n      <td>No</td>\n      <td>No</td>\n      <td>Yes</td>\n      <td>No</td>\n      <td>No</td>\n    </tr>\n    <tr>\n      <th>68</th>\n      <td>8/7/2020 19:05</td>\n      <td>Female</td>\n      <td>18</td>\n      <td>Malcom</td>\n      <td>year 1</td>\n      <td>3.50 - 4.00</td>\n      <td>No</td>\n      <td>Yes</td>\n      <td>No</td>\n      <td>No</td>\n      <td>No</td>\n    </tr>\n    <tr>\n      <th>71</th>\n      <td>8/7/2020 21:21</td>\n      <td>Female</td>\n      <td>18</td>\n      <td>Laws</td>\n      <td>Year 3</td>\n      <td>3.50 - 4.00</td>\n      <td>No</td>\n      <td>No</td>\n      <td>No</td>\n      <td>Yes</td>\n      <td>No</td>\n    </tr>\n    <tr>\n      <th>73</th>\n      <td>9/7/2020 6:57</td>\n      <td>Male</td>\n      <td>18</td>\n      <td>Biomedical science</td>\n      <td>year 1</td>\n      <td>0 - 1.99</td>\n      <td>No</td>\n      <td>No</td>\n      <td>No</td>\n      <td>No</td>\n      <td>No</td>\n    </tr>\n    <tr>\n      <th>77</th>\n      <td>9/7/2020 18:24</td>\n      <td>Female</td>\n      <td>18</td>\n      <td>Human Sciences</td>\n      <td>Year 2</td>\n      <td>3.00 - 3.49</td>\n      <td>No</td>\n      <td>No</td>\n      <td>No</td>\n      <td>Yes</td>\n      <td>No</td>\n    </tr>\n    <tr>\n      <th>79</th>\n      <td>13/07/2020 10:10:30</td>\n      <td>Female</td>\n      <td>18</td>\n      <td>Engineering</td>\n      <td>year 4</td>\n      <td>3.50 - 4.00</td>\n      <td>No</td>\n      <td>No</td>\n      <td>No</td>\n      <td>No</td>\n      <td>No</td>\n    </tr>\n    <tr>\n      <th>85</th>\n      <td>13/07/2020 10:33:47</td>\n      <td>Female</td>\n      <td>18</td>\n      <td>psychology</td>\n      <td>year 1</td>\n      <td>3.50 - 4.00</td>\n      <td>No</td>\n      <td>Yes</td>\n      <td>Yes</td>\n      <td>No</td>\n      <td>Yes</td>\n    </tr>\n    <tr>\n      <th>87</th>\n      <td>13/07/2020 11:46:13</td>\n      <td>Female</td>\n      <td>18</td>\n      <td>psychology</td>\n      <td>year 1</td>\n      <td>3.50 - 4.00</td>\n      <td>No</td>\n      <td>Yes</td>\n      <td>Yes</td>\n      <td>Yes</td>\n      <td>No</td>\n    </tr>\n    <tr>\n      <th>91</th>\n      <td>13/07/2020 14:38:12</td>\n      <td>Male</td>\n      <td>18</td>\n      <td>Koe</td>\n      <td>Year 2</td>\n      <td>3.00 - 3.49</td>\n      <td>No</td>\n      <td>No</td>\n      <td>Yes</td>\n      <td>No</td>\n      <td>No</td>\n    </tr>\n    <tr>\n      <th>93</th>\n      <td>13/07/2020 16:15:13</td>\n      <td>Female</td>\n      <td>18</td>\n      <td>BENL</td>\n      <td>year 1</td>\n      <td>3.00 - 3.49</td>\n      <td>No</td>\n      <td>Yes</td>\n      <td>No</td>\n      <td>No</td>\n      <td>No</td>\n    </tr>\n    <tr>\n      <th>95</th>\n      <td>13/07/2020 19:08:32</td>\n      <td>Female</td>\n      <td>18</td>\n      <td>Islamic Education</td>\n      <td>year 1</td>\n      <td>3.50 - 4.00</td>\n      <td>No</td>\n      <td>No</td>\n      <td>No</td>\n      <td>No</td>\n      <td>No</td>\n    </tr>\n    <tr>\n      <th>97</th>\n      <td>13/07/2020 21:21:42</td>\n      <td>Male</td>\n      <td>18</td>\n      <td>Engineering</td>\n      <td>Year 2</td>\n      <td>3.00 - 3.49</td>\n      <td>No</td>\n      <td>Yes</td>\n      <td>Yes</td>\n      <td>No</td>\n      <td>No</td>\n    </tr>\n  </tbody>\n</table>\n</div>"
     },
     "execution_count": 19,
     "metadata": {},
     "output_type": "execute_result"
    }
   ]
  },
  {
   "cell_type": "markdown",
   "source": [
    "### Depresion % by the age of 18"
   ],
   "metadata": {
    "formattedRanges": [],
    "cell_id": "14610a901baa43ab897c11d8ae79766f",
    "tags": [],
    "is_collapsed": false,
    "deepnote_cell_type": "text-cell-h3",
    "pycharm": {
     "name": "#%% md\n"
    }
   }
  },
  {
   "cell_type": "code",
   "metadata": {
    "cell_id": "86dea0b5b50844278856b6acc5755a8c",
    "tags": [],
    "deepnote_to_be_reexecuted": false,
    "source_hash": "5db43cc5",
    "execution_start": 1653312356320,
    "execution_millis": 234,
    "deepnote_cell_type": "code",
    "deepnote_cell_height": 174.578125,
    "deepnote_output_heights": [
     59.578125
    ],
    "pycharm": {
     "name": "#%%\n"
    }
   },
   "source": [
    "ages['Do you have Depression?'].value_counts()\n"
   ],
   "execution_count": 20,
   "outputs": [
    {
     "data": {
      "text/plain": "No     21\nYes    11\nName: Do you have Depression?, dtype: int64"
     },
     "execution_count": 20,
     "metadata": {},
     "output_type": "execute_result"
    }
   ]
  },
  {
   "cell_type": "code",
   "metadata": {
    "cell_id": "0c3d0cf187a1431d9901863e4cea4b9d",
    "tags": [],
    "deepnote_to_be_reexecuted": false,
    "source_hash": "daab7f2c",
    "execution_start": 1653312356370,
    "execution_millis": 502,
    "deepnote_cell_type": "code",
    "deepnote_cell_height": 753,
    "deepnote_output_heights": [
     422
    ],
    "pycharm": {
     "name": "#%%\n"
    }
   },
   "source": [
    "\n",
    "\n",
    "fig, ax = plt.subplots(figsize=(6, 6))\n",
    "x = ages['Do you have Depression?'].value_counts()\n",
    "ax.pie(x, labels = ('No ', 'Yes'), autopct='%.1f%%', pctdistance=.75, startangle=24,\n",
    "       textprops={\"fontsize\":12}, wedgeprops={'edgecolor':'#383838'})\n",
    "\n",
    "ax.set_title('Depresion by the age of 18', fontdict={'fontsize':14})\n",
    "ax.legend([], bbox_to_anchor=(.8, .77))\n",
    "centre_circle = plt.Circle((0,0),0.55,fc='white', ec='#383838')\n",
    "fig = plt.gcf()\n",
    "fig.gca().add_artist(centre_circle)\n",
    "plt.tight_layout()\n",
    "plt.show()"
   ],
   "execution_count": 21,
   "outputs": [
    {
     "data": {
      "text/plain": "<Figure size 432x432 with 1 Axes>",
      "image/png": "[encoded data removed]"
     },
     "metadata": {},
     "output_type": "display_data"
    }
   ]
  },
  {
   "cell_type": "code",
   "metadata": {
    "cell_id": "9d5b81aff45640509c9da25165e4e82e",
    "tags": [],
    "deepnote_to_be_reexecuted": false,
    "source_hash": "cbc9c638",
    "execution_start": 1653312356633,
    "execution_millis": 242,
    "deepnote_table_state": {
     "pageSize": 10,
     "pageIndex": 3,
     "filters": [],
     "sortBy": []
    },
    "deepnote_table_loading": false,
    "deepnote_cell_type": "code",
    "deepnote_cell_height": 413,
    "pycharm": {
     "name": "#%%\n"
    }
   },
   "source": [
    "df = data[data[\"Do you have Depression?\"] == 'Yes']\n",
    "df"
   ],
   "execution_count": 22,
   "outputs": [
    {
     "data": {
      "text/plain": "              Timestamp Choose your gender  Age What is your course?  \\\n0        8/7/2020 12:02             Female   18          Engineering   \n2        8/7/2020 12:05               Male   19                  BIT   \n3        8/7/2020 12:06             Female   22                 Laws   \n6        8/7/2020 12:32             Female   23     Pendidikan islam   \n11       8/7/2020 12:39             Female   24          Engineering   \n12       8/7/2020 12:40             Female   18                  BCS   \n17       8/7/2020 12:52             Female   24                  ENM   \n19       8/7/2020 13:07             Female   18       Marine science   \n24       8/7/2020 13:17             Female   23                  BCS   \n27       8/7/2020 13:41               Male   18          Engineering   \n28       8/7/2020 13:58             Female   24                  BIT   \n33       8/7/2020 14:31               Male   18                  BCS   \n34       8/7/2020 14:41             Female   19                  BIT   \n36       8/7/2020 14:43             Female   18                  Law   \n37       8/7/2020 14:45             Female   19                  BIT   \n39       8/7/2020 14:56             Female   24          Engineering   \n42       8/7/2020 14:58             Female   20           Usuluddin    \n48       8/7/2020 15:14               Male   24                  BCS   \n50       8/7/2020 15:27             Female   23                  ALA   \n53       8/7/2020 15:48             Female   20                  koe   \n54       8/7/2020 15:57             Female   19                  BCS   \n57       8/7/2020 16:21             Female   20                 BENL   \n65       8/7/2020 17:50             Female   23                Econs   \n67       8/7/2020 18:11               Male   19                 MHSC   \n68       8/7/2020 19:05             Female   18               Malcom   \n72       8/7/2020 22:35             Female   19                  BIT   \n76       9/7/2020 13:15             Female   23          Engineering   \n80  13/07/2020 10:11:26             Female   24       Communication    \n82  13/07/2020 10:12:26             Female   19          Engineering   \n85  13/07/2020 10:33:47             Female   18           psychology   \n87  13/07/2020 11:46:13             Female   18           psychology   \n92  13/07/2020 14:48:05             Female   19                  KOE   \n93  13/07/2020 16:15:13             Female   18                 BENL   \n97  13/07/2020 21:21:42               Male   18          Engineering   \n98  13/07/2020 21:22:56             Female   19             Nursing    \n\n   Your current year of Study What is your CGPA? Marital status  \\\n0                      year 1        3.00 - 3.49             No   \n2                      Year 1        3.00 - 3.49             No   \n3                      year 3        3.00 - 3.49            Yes   \n6                      year 2       3.50 - 4.00             Yes   \n11                     Year 3        3.50 - 4.00            Yes   \n12                     year 1        3.00 - 3.49             No   \n17                     year 4        3.00 - 3.49            Yes   \n19                     year 2        3.50 - 4.00            Yes   \n24                     Year 3        3.50 - 4.00             No   \n27                     Year 2        3.00 - 3.49            Yes   \n28                     Year 3        3.50 - 4.00            Yes   \n33                     Year 2        3.50 - 4.00            Yes   \n34                     year 1        3.00 - 3.49             No   \n36                     Year 3        3.00 - 3.49             No   \n37                     year 1        2.50 - 2.99             No   \n39                     Year 2        2.50 - 2.99            Yes   \n42                     year 2        3.00 - 3.49             No   \n48                     year 2        3.00 - 3.49             No   \n50                     year 1        2.50 - 2.99            Yes   \n53                     year 3        3.00 - 3.49            Yes   \n54                     year 1        3.50 - 4.00             No   \n57                     Year 3        3.00 - 3.49             No   \n65                     year 1        3.50 - 4.00             No   \n67                     Year 3        3.00 - 3.49            Yes   \n68                     year 1        3.50 - 4.00             No   \n72                     Year 3        3.00 - 3.49            Yes   \n76                     year 1        3.00 - 3.49             No   \n80                     Year 2        3.50 - 4.00            Yes   \n82                     year 1        3.00 - 3.49             No   \n85                     year 1        3.50 - 4.00             No   \n87                     year 1        3.50 - 4.00             No   \n92                     year 2        3.00 - 3.49            Yes   \n93                     year 1        3.00 - 3.49             No   \n97                     Year 2        3.00 - 3.49             No   \n98                     Year 3        3.50 - 4.00            Yes   \n\n   Do you have Depression? Do you have Anxiety? Do you have Panic attack?  \\\n0                      Yes                   No                       Yes   \n2                      Yes                  Yes                       Yes   \n3                      Yes                   No                        No   \n6                      Yes                   No                       Yes   \n11                     Yes                   No                        No   \n12                     Yes                   No                        No   \n17                     Yes                  Yes                       Yes   \n19                     Yes                  Yes                       Yes   \n24                     Yes                  Yes                       Yes   \n27                     Yes                  Yes                        No   \n28                     Yes                  Yes                       Yes   \n33                     Yes                  Yes                        No   \n34                     Yes                  Yes                       Yes   \n36                     Yes                  Yes                        No   \n37                     Yes                  Yes                       Yes   \n39                     Yes                   No                       Yes   \n42                     Yes                   No                        No   \n48                     Yes                   No                        No   \n50                     Yes                   No                       Yes   \n53                     Yes                  Yes                       Yes   \n54                     Yes                   No                       Yes   \n57                     Yes                  Yes                        No   \n65                     Yes                  Yes                        No   \n67                     Yes                   No                       Yes   \n68                     Yes                   No                        No   \n72                     Yes                   No                        No   \n76                     Yes                   No                        No   \n80                     Yes                  Yes                       Yes   \n82                     Yes                  Yes                        No   \n85                     Yes                  Yes                        No   \n87                     Yes                  Yes                       Yes   \n92                     Yes                   No                        No   \n93                     Yes                   No                        No   \n97                     Yes                  Yes                        No   \n98                     Yes                   No                       Yes   \n\n   Did you seek any specialist for a treatment?  \n0                                            No  \n2                                            No  \n3                                            No  \n6                                            No  \n11                                           No  \n12                                           No  \n17                                           No  \n19                                           No  \n24                                           No  \n27                                           No  \n28                                          Yes  \n33                                          Yes  \n34                                           No  \n36                                           No  \n37                                           No  \n39                                          Yes  \n42                                           No  \n48                                           No  \n50                                          Yes  \n53                                           No  \n54                                          Yes  \n57                                           No  \n65                                           No  \n67                                           No  \n68                                           No  \n72                                           No  \n76                                           No  \n80                                           No  \n82                                           No  \n85                                          Yes  \n87                                           No  \n92                                           No  \n93                                           No  \n97                                           No  \n98                                           No  ",
      "text/html": "<div>\n<style scoped>\n    .dataframe tbody tr th:only-of-type {\n        vertical-align: middle;\n    }\n\n    .dataframe tbody tr th {\n        vertical-align: top;\n    }\n\n    .dataframe thead th {\n        text-align: right;\n    }\n</style>\n<table border=\"1\" class=\"dataframe\">\n  <thead>\n    <tr style=\"text-align: right;\">\n      <th></th>\n      <th>Timestamp</th>\n      <th>Choose your gender</th>\n      <th>Age</th>\n      <th>What is your course?</th>\n      <th>Your current year of Study</th>\n      <th>What is your CGPA?</th>\n      <th>Marital status</th>\n      <th>Do you have Depression?</th>\n      <th>Do you have Anxiety?</th>\n      <th>Do you have Panic attack?</th>\n      <th>Did you seek any specialist for a treatment?</th>\n    </tr>\n  </thead>\n  <tbody>\n    <tr>\n      <th>0</th>\n      <td>8/7/2020 12:02</td>\n      <td>Female</td>\n      <td>18</td>\n      <td>Engineering</td>\n      <td>year 1</td>\n      <td>3.00 - 3.49</td>\n      <td>No</td>\n      <td>Yes</td>\n      <td>No</td>\n      <td>Yes</td>\n      <td>No</td>\n    </tr>\n    <tr>\n      <th>2</th>\n      <td>8/7/2020 12:05</td>\n      <td>Male</td>\n      <td>19</td>\n      <td>BIT</td>\n      <td>Year 1</td>\n      <td>3.00 - 3.49</td>\n      <td>No</td>\n      <td>Yes</td>\n      <td>Yes</td>\n      <td>Yes</td>\n      <td>No</td>\n    </tr>\n    <tr>\n      <th>3</th>\n      <td>8/7/2020 12:06</td>\n      <td>Female</td>\n      <td>22</td>\n      <td>Laws</td>\n      <td>year 3</td>\n      <td>3.00 - 3.49</td>\n      <td>Yes</td>\n      <td>Yes</td>\n      <td>No</td>\n      <td>No</td>\n      <td>No</td>\n    </tr>\n    <tr>\n      <th>6</th>\n      <td>8/7/2020 12:32</td>\n      <td>Female</td>\n      <td>23</td>\n      <td>Pendidikan islam</td>\n      <td>year 2</td>\n      <td>3.50 - 4.00</td>\n      <td>Yes</td>\n      <td>Yes</td>\n      <td>No</td>\n      <td>Yes</td>\n      <td>No</td>\n    </tr>\n    <tr>\n      <th>11</th>\n      <td>8/7/2020 12:39</td>\n      <td>Female</td>\n      <td>24</td>\n      <td>Engineering</td>\n      <td>Year 3</td>\n      <td>3.50 - 4.00</td>\n      <td>Yes</td>\n      <td>Yes</td>\n      <td>No</td>\n      <td>No</td>\n      <td>No</td>\n    </tr>\n    <tr>\n      <th>12</th>\n      <td>8/7/2020 12:40</td>\n      <td>Female</td>\n      <td>18</td>\n      <td>BCS</td>\n      <td>year 1</td>\n      <td>3.00 - 3.49</td>\n      <td>No</td>\n      <td>Yes</td>\n      <td>No</td>\n      <td>No</td>\n      <td>No</td>\n    </tr>\n    <tr>\n      <th>17</th>\n      <td>8/7/2020 12:52</td>\n      <td>Female</td>\n      <td>24</td>\n      <td>ENM</td>\n      <td>year 4</td>\n      <td>3.00 - 3.49</td>\n      <td>Yes</td>\n      <td>Yes</td>\n      <td>Yes</td>\n      <td>Yes</td>\n      <td>No</td>\n    </tr>\n    <tr>\n      <th>19</th>\n      <td>8/7/2020 13:07</td>\n      <td>Female</td>\n      <td>18</td>\n      <td>Marine science</td>\n      <td>year 2</td>\n      <td>3.50 - 4.00</td>\n      <td>Yes</td>\n      <td>Yes</td>\n      <td>Yes</td>\n      <td>Yes</td>\n      <td>No</td>\n    </tr>\n    <tr>\n      <th>24</th>\n      <td>8/7/2020 13:17</td>\n      <td>Female</td>\n      <td>23</td>\n      <td>BCS</td>\n      <td>Year 3</td>\n      <td>3.50 - 4.00</td>\n      <td>No</td>\n      <td>Yes</td>\n      <td>Yes</td>\n      <td>Yes</td>\n      <td>No</td>\n    </tr>\n    <tr>\n      <th>27</th>\n      <td>8/7/2020 13:41</td>\n      <td>Male</td>\n      <td>18</td>\n      <td>Engineering</td>\n      <td>Year 2</td>\n      <td>3.00 - 3.49</td>\n      <td>Yes</td>\n      <td>Yes</td>\n      <td>Yes</td>\n      <td>No</td>\n      <td>No</td>\n    </tr>\n    <tr>\n      <th>28</th>\n      <td>8/7/2020 13:58</td>\n      <td>Female</td>\n      <td>24</td>\n      <td>BIT</td>\n      <td>Year 3</td>\n      <td>3.50 - 4.00</td>\n      <td>Yes</td>\n      <td>Yes</td>\n      <td>Yes</td>\n      <td>Yes</td>\n      <td>Yes</td>\n    </tr>\n    <tr>\n      <th>33</th>\n      <td>8/7/2020 14:31</td>\n      <td>Male</td>\n      <td>18</td>\n      <td>BCS</td>\n      <td>Year 2</td>\n      <td>3.50 - 4.00</td>\n      <td>Yes</td>\n      <td>Yes</td>\n      <td>Yes</td>\n      <td>No</td>\n      <td>Yes</td>\n    </tr>\n    <tr>\n      <th>34</th>\n      <td>8/7/2020 14:41</td>\n      <td>Female</td>\n      <td>19</td>\n      <td>BIT</td>\n      <td>year 1</td>\n      <td>3.00 - 3.49</td>\n      <td>No</td>\n      <td>Yes</td>\n      <td>Yes</td>\n      <td>Yes</td>\n      <td>No</td>\n    </tr>\n    <tr>\n      <th>36</th>\n      <td>8/7/2020 14:43</td>\n      <td>Female</td>\n      <td>18</td>\n      <td>Law</td>\n      <td>Year 3</td>\n      <td>3.00 - 3.49</td>\n      <td>No</td>\n      <td>Yes</td>\n      <td>Yes</td>\n      <td>No</td>\n      <td>No</td>\n    </tr>\n    <tr>\n      <th>37</th>\n      <td>8/7/2020 14:45</td>\n      <td>Female</td>\n      <td>19</td>\n      <td>BIT</td>\n      <td>year 1</td>\n      <td>2.50 - 2.99</td>\n      <td>No</td>\n      <td>Yes</td>\n      <td>Yes</td>\n      <td>Yes</td>\n      <td>No</td>\n    </tr>\n    <tr>\n      <th>39</th>\n      <td>8/7/2020 14:56</td>\n      <td>Female</td>\n      <td>24</td>\n      <td>Engineering</td>\n      <td>Year 2</td>\n      <td>2.50 - 2.99</td>\n      <td>Yes</td>\n      <td>Yes</td>\n      <td>No</td>\n      <td>Yes</td>\n      <td>Yes</td>\n    </tr>\n    <tr>\n      <th>42</th>\n      <td>8/7/2020 14:58</td>\n      <td>Female</td>\n      <td>20</td>\n      <td>Usuluddin</td>\n      <td>year 2</td>\n      <td>3.00 - 3.49</td>\n      <td>No</td>\n      <td>Yes</td>\n      <td>No</td>\n      <td>No</td>\n      <td>No</td>\n    </tr>\n    <tr>\n      <th>48</th>\n      <td>8/7/2020 15:14</td>\n      <td>Male</td>\n      <td>24</td>\n      <td>BCS</td>\n      <td>year 2</td>\n      <td>3.00 - 3.49</td>\n      <td>No</td>\n      <td>Yes</td>\n      <td>No</td>\n      <td>No</td>\n      <td>No</td>\n    </tr>\n    <tr>\n      <th>50</th>\n      <td>8/7/2020 15:27</td>\n      <td>Female</td>\n      <td>23</td>\n      <td>ALA</td>\n      <td>year 1</td>\n      <td>2.50 - 2.99</td>\n      <td>Yes</td>\n      <td>Yes</td>\n      <td>No</td>\n      <td>Yes</td>\n      <td>Yes</td>\n    </tr>\n    <tr>\n      <th>53</th>\n      <td>8/7/2020 15:48</td>\n      <td>Female</td>\n      <td>20</td>\n      <td>koe</td>\n      <td>year 3</td>\n      <td>3.00 - 3.49</td>\n      <td>Yes</td>\n      <td>Yes</td>\n      <td>Yes</td>\n      <td>Yes</td>\n      <td>No</td>\n    </tr>\n    <tr>\n      <th>54</th>\n      <td>8/7/2020 15:57</td>\n      <td>Female</td>\n      <td>19</td>\n      <td>BCS</td>\n      <td>year 1</td>\n      <td>3.50 - 4.00</td>\n      <td>No</td>\n      <td>Yes</td>\n      <td>No</td>\n      <td>Yes</td>\n      <td>Yes</td>\n    </tr>\n    <tr>\n      <th>57</th>\n      <td>8/7/2020 16:21</td>\n      <td>Female</td>\n      <td>20</td>\n      <td>BENL</td>\n      <td>Year 3</td>\n      <td>3.00 - 3.49</td>\n      <td>No</td>\n      <td>Yes</td>\n      <td>Yes</td>\n      <td>No</td>\n      <td>No</td>\n    </tr>\n    <tr>\n      <th>65</th>\n      <td>8/7/2020 17:50</td>\n      <td>Female</td>\n      <td>23</td>\n      <td>Econs</td>\n      <td>year 1</td>\n      <td>3.50 - 4.00</td>\n      <td>No</td>\n      <td>Yes</td>\n      <td>Yes</td>\n      <td>No</td>\n      <td>No</td>\n    </tr>\n    <tr>\n      <th>67</th>\n      <td>8/7/2020 18:11</td>\n      <td>Male</td>\n      <td>19</td>\n      <td>MHSC</td>\n      <td>Year 3</td>\n      <td>3.00 - 3.49</td>\n      <td>Yes</td>\n      <td>Yes</td>\n      <td>No</td>\n      <td>Yes</td>\n      <td>No</td>\n    </tr>\n    <tr>\n      <th>68</th>\n      <td>8/7/2020 19:05</td>\n      <td>Female</td>\n      <td>18</td>\n      <td>Malcom</td>\n      <td>year 1</td>\n      <td>3.50 - 4.00</td>\n      <td>No</td>\n      <td>Yes</td>\n      <td>No</td>\n      <td>No</td>\n      <td>No</td>\n    </tr>\n    <tr>\n      <th>72</th>\n      <td>8/7/2020 22:35</td>\n      <td>Female</td>\n      <td>19</td>\n      <td>BIT</td>\n      <td>Year 3</td>\n      <td>3.00 - 3.49</td>\n      <td>Yes</td>\n      <td>Yes</td>\n      <td>No</td>\n      <td>No</td>\n      <td>No</td>\n    </tr>\n    <tr>\n      <th>76</th>\n      <td>9/7/2020 13:15</td>\n      <td>Female</td>\n      <td>23</td>\n      <td>Engineering</td>\n      <td>year 1</td>\n      <td>3.00 - 3.49</td>\n      <td>No</td>\n      <td>Yes</td>\n      <td>No</td>\n      <td>No</td>\n      <td>No</td>\n    </tr>\n    <tr>\n      <th>80</th>\n      <td>13/07/2020 10:11:26</td>\n      <td>Female</td>\n      <td>24</td>\n      <td>Communication</td>\n      <td>Year 2</td>\n      <td>3.50 - 4.00</td>\n      <td>Yes</td>\n      <td>Yes</td>\n      <td>Yes</td>\n      <td>Yes</td>\n      <td>No</td>\n    </tr>\n    <tr>\n      <th>82</th>\n      <td>13/07/2020 10:12:26</td>\n      <td>Female</td>\n      <td>19</td>\n      <td>Engineering</td>\n      <td>year 1</td>\n      <td>3.00 - 3.49</td>\n      <td>No</td>\n      <td>Yes</td>\n      <td>Yes</td>\n      <td>No</td>\n      <td>No</td>\n    </tr>\n    <tr>\n      <th>85</th>\n      <td>13/07/2020 10:33:47</td>\n      <td>Female</td>\n      <td>18</td>\n      <td>psychology</td>\n      <td>year 1</td>\n      <td>3.50 - 4.00</td>\n      <td>No</td>\n      <td>Yes</td>\n      <td>Yes</td>\n      <td>No</td>\n      <td>Yes</td>\n    </tr>\n    <tr>\n      <th>87</th>\n      <td>13/07/2020 11:46:13</td>\n      <td>Female</td>\n      <td>18</td>\n      <td>psychology</td>\n      <td>year 1</td>\n      <td>3.50 - 4.00</td>\n      <td>No</td>\n      <td>Yes</td>\n      <td>Yes</td>\n      <td>Yes</td>\n      <td>No</td>\n    </tr>\n    <tr>\n      <th>92</th>\n      <td>13/07/2020 14:48:05</td>\n      <td>Female</td>\n      <td>19</td>\n      <td>KOE</td>\n      <td>year 2</td>\n      <td>3.00 - 3.49</td>\n      <td>Yes</td>\n      <td>Yes</td>\n      <td>No</td>\n      <td>No</td>\n      <td>No</td>\n    </tr>\n    <tr>\n      <th>93</th>\n      <td>13/07/2020 16:15:13</td>\n      <td>Female</td>\n      <td>18</td>\n      <td>BENL</td>\n      <td>year 1</td>\n      <td>3.00 - 3.49</td>\n      <td>No</td>\n      <td>Yes</td>\n      <td>No</td>\n      <td>No</td>\n      <td>No</td>\n    </tr>\n    <tr>\n      <th>97</th>\n      <td>13/07/2020 21:21:42</td>\n      <td>Male</td>\n      <td>18</td>\n      <td>Engineering</td>\n      <td>Year 2</td>\n      <td>3.00 - 3.49</td>\n      <td>No</td>\n      <td>Yes</td>\n      <td>Yes</td>\n      <td>No</td>\n      <td>No</td>\n    </tr>\n    <tr>\n      <th>98</th>\n      <td>13/07/2020 21:22:56</td>\n      <td>Female</td>\n      <td>19</td>\n      <td>Nursing</td>\n      <td>Year 3</td>\n      <td>3.50 - 4.00</td>\n      <td>Yes</td>\n      <td>Yes</td>\n      <td>No</td>\n      <td>Yes</td>\n      <td>No</td>\n    </tr>\n  </tbody>\n</table>\n</div>"
     },
     "execution_count": 22,
     "metadata": {},
     "output_type": "execute_result"
    }
   ]
  },
  {
   "cell_type": "code",
   "metadata": {
    "cell_id": "f97e911fd6914d288052c2e47568e144",
    "tags": [],
    "deepnote_to_be_reexecuted": false,
    "source_hash": "c3058d7b",
    "execution_start": 1653312356749,
    "execution_millis": 127,
    "deepnote_cell_type": "code",
    "deepnote_cell_height": 156.578125,
    "deepnote_output_heights": [
     59.578125
    ],
    "pycharm": {
     "name": "#%%\n"
    }
   },
   "source": [
    "data[\"Do you have Depression?\"].value_counts()"
   ],
   "execution_count": 23,
   "outputs": [
    {
     "data": {
      "text/plain": "No     66\nYes    35\nName: Do you have Depression?, dtype: int64"
     },
     "execution_count": 23,
     "metadata": {},
     "output_type": "execute_result"
    }
   ]
  },
  {
   "cell_type": "code",
   "metadata": {
    "cell_id": "a7c1dd44ad1e41b0a8a8fec864e5f870",
    "tags": [],
    "deepnote_to_be_reexecuted": false,
    "source_hash": "2387d5b",
    "execution_start": 1653312356818,
    "execution_millis": 60,
    "deepnote_cell_type": "code",
    "deepnote_cell_height": 156.578125,
    "deepnote_output_heights": [
     59.578125
    ],
    "pycharm": {
     "name": "#%%\n"
    }
   },
   "source": [
    "data['Do you have Anxiety?'].value_counts()"
   ],
   "execution_count": 24,
   "outputs": [
    {
     "data": {
      "text/plain": "No     67\nYes    34\nName: Do you have Anxiety?, dtype: int64"
     },
     "execution_count": 24,
     "metadata": {},
     "output_type": "execute_result"
    }
   ]
  },
  {
   "cell_type": "code",
   "metadata": {
    "cell_id": "6c8e9588a3b54ad0b5cf8ea23a02b5a9",
    "tags": [],
    "deepnote_to_be_reexecuted": false,
    "source_hash": "fff493c1",
    "execution_start": 1653312356819,
    "execution_millis": 59,
    "deepnote_cell_type": "code",
    "deepnote_cell_height": 156.578125,
    "deepnote_output_heights": [
     59.578125
    ],
    "pycharm": {
     "name": "#%%\n"
    }
   },
   "source": [
    "data['Do you have Panic attack?'].value_counts()"
   ],
   "execution_count": 25,
   "outputs": [
    {
     "data": {
      "text/plain": "No     68\nYes    33\nName: Do you have Panic attack?, dtype: int64"
     },
     "execution_count": 25,
     "metadata": {},
     "output_type": "execute_result"
    }
   ]
  },
  {
   "cell_type": "code",
   "metadata": {
    "cell_id": "0aad66be9ba54fa4b9f6a3ff9d9bcfbd",
    "tags": [],
    "deepnote_to_be_reexecuted": false,
    "source_hash": "eee9244a",
    "execution_start": 1653312356864,
    "execution_millis": 15,
    "deepnote_cell_type": "code",
    "deepnote_cell_height": 701,
    "pycharm": {
     "name": "#%%\n"
    }
   },
   "source": [
    "print(data.head(10))"
   ],
   "execution_count": 26,
   "outputs": [
    {
     "name": "stdout",
     "output_type": "stream",
     "text": [
      "        Timestamp Choose your gender  Age What is your course?  \\\n",
      "0  8/7/2020 12:02             Female   18          Engineering   \n",
      "1  8/7/2020 12:04               Male   21    Islamic education   \n",
      "2  8/7/2020 12:05               Male   19                  BIT   \n",
      "3  8/7/2020 12:06             Female   22                 Laws   \n",
      "4  8/7/2020 12:13               Male   23         Mathemathics   \n",
      "5  8/7/2020 12:31               Male   19          Engineering   \n",
      "6  8/7/2020 12:32             Female   23     Pendidikan islam   \n",
      "7  8/7/2020 12:33             Female   18                  BCS   \n",
      "8  8/7/2020 12:35             Female   19      Human Resources   \n",
      "9  8/7/2020 12:39               Male   18                Irkhs   \n",
      "\n",
      "  Your current year of Study What is your CGPA? Marital status  \\\n",
      "0                     year 1        3.00 - 3.49             No   \n",
      "1                     year 2        3.00 - 3.49             No   \n",
      "2                     Year 1        3.00 - 3.49             No   \n",
      "3                     year 3        3.00 - 3.49            Yes   \n",
      "4                     year 4        3.00 - 3.49             No   \n",
      "5                     Year 2        3.50 - 4.00             No   \n",
      "6                     year 2       3.50 - 4.00             Yes   \n",
      "7                     year 1        3.50 - 4.00             No   \n",
      "8                     Year 2        2.50 - 2.99             No   \n",
      "9                     year 1        3.50 - 4.00             No   \n",
      "\n",
      "  Do you have Depression? Do you have Anxiety? Do you have Panic attack?  \\\n",
      "0                     Yes                   No                       Yes   \n",
      "1                      No                  Yes                        No   \n",
      "2                     Yes                  Yes                       Yes   \n",
      "3                     Yes                   No                        No   \n",
      "4                      No                   No                        No   \n",
      "5                      No                   No                       Yes   \n",
      "6                     Yes                   No                       Yes   \n",
      "7                      No                  Yes                        No   \n",
      "8                      No                   No                        No   \n",
      "9                      No                  Yes                       Yes   \n",
      "\n",
      "  Did you seek any specialist for a treatment?  \n",
      "0                                           No  \n",
      "1                                           No  \n",
      "2                                           No  \n",
      "3                                           No  \n",
      "4                                           No  \n",
      "5                                           No  \n",
      "6                                           No  \n",
      "7                                           No  \n",
      "8                                           No  \n",
      "9                                           No  \n"
     ]
    }
   ]
  },
  {
   "cell_type": "code",
   "metadata": {
    "cell_id": "820fff946b0741f2af9ea7c6a98cf69e",
    "tags": [],
    "deepnote_to_be_reexecuted": false,
    "source_hash": "2e3c785c",
    "execution_start": 1653312356865,
    "execution_millis": 44,
    "deepnote_cell_type": "code",
    "deepnote_cell_height": 156.578125,
    "deepnote_output_heights": [
     59.578125
    ],
    "pycharm": {
     "name": "#%%\n"
    }
   },
   "source": [
    "data['Did you seek any specialist for a treatment?'].value_counts()"
   ],
   "execution_count": 27,
   "outputs": [
    {
     "data": {
      "text/plain": "No     95\nYes     6\nName: Did you seek any specialist for a treatment?, dtype: int64"
     },
     "execution_count": 27,
     "metadata": {},
     "output_type": "execute_result"
    }
   ]
  },
  {
   "cell_type": "code",
   "metadata": {
    "cell_id": "70a5c1de2ea34c91a1a19b31c560b7f4",
    "tags": [],
    "deepnote_to_be_reexecuted": false,
    "source_hash": "7dc88833",
    "execution_start": 1653312356907,
    "execution_millis": 2,
    "deepnote_cell_type": "code",
    "deepnote_cell_height": 149.390625,
    "pycharm": {
     "name": "#%%\n"
    }
   },
   "source": [
    "print('% of student who seek for treatment', 100*np.mean(data['Did you seek any specialist for a treatment?'] == 'Yes'))\n",
    "print('% of didnt seek for specialist or treatment', 100*np.mean(data['Did you seek any specialist for a treatment?'] == 'No'))"
   ],
   "execution_count": 28,
   "outputs": [
    {
     "name": "stdout",
     "output_type": "stream",
     "text": [
      "% of student who seek for treatment 5.9405940594059405\n",
      "% of didnt seek for specialist or treatment 94.05940594059405\n"
     ]
    }
   ]
  }
 ],
 "nbformat": 4,
 "nbformat_minor": 2,
 "metadata": {
  "orig_nbformat": 2,
  "deepnote": {},
  "deepnote_notebook_id": "1521e406-4f68-40d8-af2b-6e49e29ead54",
  "deepnote_execution_queue": []
 }
}