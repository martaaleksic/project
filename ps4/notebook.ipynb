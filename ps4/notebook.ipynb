{
 "cells": [
  {
   "cell_type": "markdown",
   "source": [
    "## Project Name: PS4 Games Sales Data Analysis "
   ],
   "metadata": {
    "formattedRanges": [],
    "cell_id": "3cd68763ab9742b1925947a6b37b92b4",
    "tags": [],
    "is_collapsed": false,
    "deepnote_cell_type": "text-cell-h2",
    "pycharm": {
     "name": "#%% md\n"
    }
   }
  },
  {
   "cell_type": "markdown",
   "source": [
    "### 1. Importing Libraries:"
   ],
   "metadata": {
    "formattedRanges": [],
    "cell_id": "17bda085655245cb8ac956a93c08189a",
    "tags": [],
    "is_collapsed": false,
    "deepnote_cell_type": "text-cell-h3",
    "pycharm": {
     "name": "#%% md\n"
    }
   }
  },
  {
   "cell_type": "markdown",
   "source": [
    "Numpy is requried whenever calculations are required (calculating means, medians, sqaure root, etc.).  Pandas is a great module for data processing and data frames."
   ],
   "metadata": {
    "formattedRanges": [],
    "cell_id": "478e76dad7454555a854fd3a90423307",
    "tags": [],
    "is_collapsed": false,
    "deepnote_cell_type": "text-cell-p",
    "pycharm": {
     "name": "#%% md\n"
    }
   }
  },
  {
   "cell_type": "code",
   "metadata": {
    "cell_id": "509f3269d0a4493893540b57584f7b97",
    "tags": [],
    "deepnote_to_be_reexecuted": false,
    "source_hash": "9c10c21d",
    "execution_start": 1655117154106,
    "execution_millis": 2472,
    "deepnote_cell_type": "code",
    "deepnote_cell_height": 243,
    "pycharm": {
     "name": "#%%\n"
    }
   },
   "source": [
    "import numpy as np # linear algebra\n",
    "import pandas as pd # data processing, CSV file I/O (e.g. pd.read_csv)\n",
    "import matplotlib.pyplot as plt\n",
    "import seaborn as sns\n",
    "from termcolor import colored\n",
    "\n",
    "import os\n",
    "for dirname, _, filenames in os.walk('/kaggle/input'):\n",
    "    for filename in filenames:\n",
    "        print(os.path.join(dirname, filename))"
   ],
   "execution_count": 1,
   "outputs": []
  },
  {
   "cell_type": "markdown",
   "source": [
    "### 2. Loading Dataset &amp; Exploratory Data Analysis:"
   ],
   "metadata": {
    "formattedRanges": [],
    "cell_id": "7f1f40c0faf84a638358db7351675452",
    "tags": [],
    "is_collapsed": false,
    "deepnote_cell_type": "text-cell-h3",
    "pycharm": {
     "name": "#%% md\n"
    }
   }
  },
  {
   "cell_type": "markdown",
   "source": [
    "We would use the pandas module to read the files. Using the \"read_csv\" function. The files format is .csv."
   ],
   "metadata": {
    "formattedRanges": [],
    "cell_id": "3e831bd5ff9b4b62bd816e23f275ff1d",
    "tags": [],
    "is_collapsed": false,
    "deepnote_cell_type": "text-cell-p",
    "pycharm": {
     "name": "#%% md\n"
    }
   }
  },
  {
   "cell_type": "code",
   "metadata": {
    "cell_id": "954ff3f0b5cc4c81935946ea7f9041b8",
    "tags": [],
    "deepnote_to_be_reexecuted": false,
    "source_hash": "6bb85b8e",
    "execution_start": 1655117156591,
    "execution_millis": 76,
    "deepnote_cell_type": "code",
    "deepnote_cell_height": 863,
    "pycharm": {
     "name": "#%%\n"
    }
   },
   "source": [
    "data = pd.read_csv('PS4_GamesSales.csv', header=0,encoding='unicode_escape')\n",
    "pd.set_option('display.max_columns',None)\n",
    "pd.set_option(\"display.max_rows\",None)\n",
    "\n",
    "print('The data has the shape of', data.shape[0], 'Rows and', data.shape[1], 'columns')\n",
    "\n",
    "print(data.info())\n",
    "print(data.describe())\n"
   ],
   "execution_count": 3,
   "outputs": [
    {
     "name": "stdout",
     "output_type": "stream",
     "text": [
      "The data has the shape of 1034 Rows and 9 columns\n",
      "<class 'pandas.core.frame.DataFrame'>\n",
      "RangeIndex: 1034 entries, 0 to 1033\n",
      "Data columns (total 9 columns):\n",
      " #   Column         Non-Null Count  Dtype  \n",
      "---  ------         --------------  -----  \n",
      " 0   Game           1034 non-null   object \n",
      " 1   Year           825 non-null    float64\n",
      " 2   Genre          1034 non-null   object \n",
      " 3   Publisher      825 non-null    object \n",
      " 4   North America  1034 non-null   float64\n",
      " 5   Europe         1034 non-null   float64\n",
      " 6   Japan          1034 non-null   float64\n",
      " 7   Rest of World  1034 non-null   float64\n",
      " 8   Global         1034 non-null   float64\n",
      "dtypes: float64(6), object(3)\n",
      "memory usage: 72.8+ KB\n",
      "None\n",
      "              Year  North America       Europe        Japan  Rest of World  \\\n",
      "count   825.000000    1034.000000  1034.000000  1034.000000    1034.000000   \n",
      "mean   2015.966061       0.204613     0.248714     0.033636       0.089014   \n",
      "std       1.298360       0.563471     0.785491     0.108344       0.249410   \n",
      "min    2013.000000       0.000000     0.000000     0.000000       0.000000   \n",
      "25%    2015.000000       0.000000     0.000000     0.000000       0.000000   \n",
      "50%    2016.000000       0.020000     0.000000     0.000000       0.010000   \n",
      "75%    2017.000000       0.120000     0.130000     0.030000       0.050000   \n",
      "max    2020.000000       6.180000     9.710000     2.170000       3.020000   \n",
      "\n",
      "            Global  \n",
      "count  1034.000000  \n",
      "mean      0.576054  \n",
      "std       1.583534  \n",
      "min       0.000000  \n",
      "25%       0.000000  \n",
      "50%       0.060000  \n",
      "75%       0.357500  \n",
      "max      19.390000  \n"
     ]
    }
   ]
  },
  {
   "cell_type": "markdown",
   "source": [
    "The \"head\" fucntion displays the first 5 rows of the data frame"
   ],
   "metadata": {
    "formattedRanges": [],
    "cell_id": "4ef48cf638bb4a0790859f8222a6af92",
    "tags": [],
    "is_collapsed": false,
    "deepnote_cell_type": "text-cell-p",
    "pycharm": {
     "name": "#%% md\n"
    }
   }
  },
  {
   "cell_type": "code",
   "metadata": {
    "cell_id": "5e1a08535eea4718a271504b8d5a076f",
    "tags": [],
    "deepnote_to_be_reexecuted": false,
    "source_hash": "6227ef98",
    "execution_start": 1655117156686,
    "execution_millis": 2,
    "deepnote_cell_type": "code",
    "deepnote_cell_height": 348.03125,
    "pycharm": {
     "name": "#%%\n"
    }
   },
   "source": [
    "print(data.head())"
   ],
   "execution_count": null,
   "outputs": []
  },
  {
   "cell_type": "code",
   "metadata": {
    "cell_id": "326bfd824bd247adaa670782c6b01255",
    "tags": [],
    "deepnote_to_be_reexecuted": false,
    "source_hash": "2009be3f",
    "execution_start": 1655117156738,
    "execution_millis": 37,
    "deepnote_cell_type": "code",
    "deepnote_cell_height": 600,
    "pycharm": {
     "name": "#%%\n"
    }
   },
   "source": [
    "data.tail(10)"
   ],
   "execution_count": null,
   "outputs": []
  },
  {
   "cell_type": "code",
   "metadata": {
    "cell_id": "02ed15c05ace4d00a4dbe735a04d230b",
    "tags": [],
    "deepnote_to_be_reexecuted": false,
    "source_hash": "db74d6c1",
    "execution_start": 1655117156776,
    "execution_millis": 1294,
    "deepnote_cell_type": "code",
    "deepnote_cell_height": 866.78125,
    "deepnote_output_heights": [
     611
    ],
    "pycharm": {
     "name": "#%%\n"
    }
   },
   "source": [
    "data.hist(figsize=(15,15))\n",
    "plt.show()\n",
    "print(data.shape)\n",
    "print(data.columns)"
   ],
   "execution_count": null,
   "outputs": []
  },
  {
   "cell_type": "markdown",
   "source": [
    "### Pair Plot"
   ],
   "metadata": {
    "formattedRanges": [],
    "cell_id": "68686988c82045458c78b4ad496479b4",
    "tags": [],
    "is_collapsed": false,
    "deepnote_cell_type": "text-cell-h3",
    "pycharm": {
     "name": "#%% md\n"
    }
   }
  },
  {
   "cell_type": "markdown",
   "source": [
    "Plot pairwise relationships in a dataset. By default, this function will create a grid of Axes such that each numeric variable in data will by shared across the y-axes across a single row and the x-axes across a single column. The diagonal plots are treated differently: a univariate distribution plot is drawn to show the marginal distribution of the data in each column. It is also possible to show a subset of variables or plot different variables on the rows and columns."
   ],
   "metadata": {
    "formattedRanges": [],
    "cell_id": "cda5424cd21349d588b0d1beb2760724",
    "tags": [],
    "is_collapsed": false,
    "deepnote_cell_type": "text-cell-p",
    "pycharm": {
     "name": "#%% md\n"
    }
   }
  },
  {
   "cell_type": "code",
   "metadata": {
    "cell_id": "407de8e699084230aa9d8e1f07753e70",
    "tags": [],
    "deepnote_to_be_reexecuted": false,
    "source_hash": "2cc8410c",
    "execution_start": 1655117158070,
    "execution_millis": 13769,
    "deepnote_cell_type": "code",
    "deepnote_cell_height": 760.1875,
    "deepnote_output_heights": [
     21.1875,
     611
    ],
    "pycharm": {
     "name": "#%%\n"
    }
   },
   "source": [
    "sns.pairplot(data)"
   ],
   "execution_count": null,
   "outputs": []
  },
  {
   "cell_type": "markdown",
   "source": [
    "### CorrelationStrength of the relationship between two variables"
   ],
   "metadata": {
    "formattedRanges": [],
    "cell_id": "d87f00a7024f44fe9f8f03b858b0123c",
    "tags": [],
    "is_collapsed": false,
    "deepnote_cell_type": "text-cell-h3",
    "pycharm": {
     "name": "#%% md\n"
    }
   }
  },
  {
   "cell_type": "code",
   "metadata": {
    "cell_id": "5a49c4eb98904df59735d24731cba239",
    "tags": [],
    "deepnote_to_be_reexecuted": false,
    "source_hash": "d0fc2601",
    "execution_start": 1655117171841,
    "execution_millis": 48,
    "deepnote_cell_type": "code",
    "deepnote_cell_height": 436,
    "pycharm": {
     "name": "#%%\n"
    }
   },
   "source": [
    "data.corr()"
   ],
   "execution_count": null,
   "outputs": []
  },
  {
   "cell_type": "code",
   "metadata": {
    "cell_id": "db24ab509dee404b8e1707fb6e036e2e",
    "tags": [],
    "deepnote_to_be_reexecuted": false,
    "source_hash": "98cbc472",
    "execution_start": 1655117171947,
    "execution_millis": 1046,
    "deepnote_cell_type": "code",
    "deepnote_cell_height": 744,
    "deepnote_output_heights": [
     611
    ],
    "pycharm": {
     "name": "#%%\n"
    }
   },
   "source": [
    "f,ax = plt.subplots(figsize=(18, 18))\n",
    "sns.heatmap(data.corr(), annot=True, linewidths=.5, fmt= '.1f',ax=ax)\n",
    "plt.show()"
   ],
   "execution_count": null,
   "outputs": []
  },
  {
   "cell_type": "markdown",
   "source": [
    "Huge matrix that includes a lot of numbers. The range of this numbers are -1 to 1. Meaning of 1 is two variable are positively correlated with each other like radius mean and area mean. Meaning of zero is there is no correlation between variables like radius mean and fractal dimension seMeaning of -1 is two variables are negatively correlated with each other like radius mean and fractal dimension mean.Actually correlation between of them is not -1, it is -0.3 but the idea is that if sign of correlation is negative that means that there is negative correlation."
   ],
   "metadata": {
    "formattedRanges": [],
    "cell_id": "c75943f1f52e44d8b4d0e9d4debbac3e",
    "tags": [],
    "is_collapsed": false,
    "deepnote_cell_type": "text-cell-p",
    "pycharm": {
     "name": "#%% md\n"
    }
   }
  },
  {
   "cell_type": "markdown",
   "source": [
    "### 3. Missing Values Distribution:"
   ],
   "metadata": {
    "formattedRanges": [],
    "cell_id": "64abc8ffec684c5a908eff00d23d85d8",
    "tags": [],
    "is_collapsed": false,
    "deepnote_cell_type": "text-cell-h3",
    "pycharm": {
     "name": "#%% md\n"
    }
   }
  },
  {
   "cell_type": "markdown",
   "source": [
    "DataFrame isna() detect missing values. Return a boolean same-sized object indicating if the values are NA. NA values, such as None or numpy NaN, gets mapped to True values. Everything else gets mapped to False values."
   ],
   "metadata": {
    "formattedRanges": [],
    "cell_id": "f45c2d40b1b84805b1ba34d218c67ba3",
    "tags": [],
    "is_collapsed": false,
    "deepnote_cell_type": "text-cell-p",
    "pycharm": {
     "name": "#%% md\n"
    }
   }
  },
  {
   "cell_type": "code",
   "metadata": {
    "cell_id": "2568de3ba3894d25ba0869f6de12aabe",
    "tags": [],
    "deepnote_to_be_reexecuted": false,
    "source_hash": "782780a6",
    "execution_start": 1655117172747,
    "execution_millis": 332,
    "deepnote_cell_type": "code",
    "deepnote_cell_height": 765.640625,
    "deepnote_output_heights": [
     null,
     264
    ],
    "pycharm": {
     "name": "#%%\n"
    }
   },
   "source": [
    "plt.figure(figsize=(20,6))\n",
    "\n",
    "na = pd.DataFrame(data.isna().sum())\n",
    "\n",
    "sns.barplot(y=na[0], x=na.index)\n",
    "plt.title('Missing Values Distribution', size = 20, weight='bold')\n",
    "print(colored(\"Missing values column wise -\", 'magenta'))\n",
    "print(colored(data.isna().sum(), 'magenta'))\n",
    "\n",
    "plt.show()"
   ],
   "execution_count": null,
   "outputs": []
  },
  {
   "cell_type": "markdown",
   "source": [
    "### 4. Calculate the % of missing data from each column"
   ],
   "metadata": {
    "formattedRanges": [],
    "cell_id": "d8dfa05b9bc24883af04e8c5be0579b6",
    "tags": [],
    "is_collapsed": false,
    "deepnote_cell_type": "text-cell-h3",
    "pycharm": {
     "name": "#%% md\n"
    }
   }
  },
  {
   "cell_type": "code",
   "metadata": {
    "cell_id": "787a5a16c0ee4f9aa1746ccbbf2c9f23",
    "tags": [],
    "deepnote_to_be_reexecuted": false,
    "source_hash": "17e9e2cc",
    "execution_start": 1655117173092,
    "execution_millis": 28,
    "deepnote_cell_type": "code",
    "deepnote_cell_height": 409.859375,
    "pycharm": {
     "name": "#%%\n"
    }
   },
   "source": [
    "nan_ratio = []\n",
    "for col in data.columns:\n",
    "    nan_item = []\n",
    "    nan_item.append(col)\n",
    "    nan_item.append(data[col].isnull().sum())\n",
    "    nan_item.append(str(round(100 * data[col].isnull().sum() / data.shape[0], 2)) + '%')\n",
    "    nan_ratio.append(nan_item)\n",
    "\n",
    "df_nan = pd.DataFrame(nan_ratio, columns=[\"Column\", \"NaN count\", \"NaN ratio\"]).set_index(\"Column\")\n",
    "df_nan = df_nan.sort_values(\"NaN ratio\", ascending=False)\n",
    "print(df_nan.astype(object).T)"
   ],
   "execution_count": null,
   "outputs": []
  },
  {
   "cell_type": "code",
   "metadata": {
    "cell_id": "99ae828d735543d287a986f67b40f677",
    "tags": [],
    "deepnote_to_be_reexecuted": false,
    "source_hash": "5a183336",
    "execution_start": 1655117173136,
    "execution_millis": 1040,
    "deepnote_cell_type": "code",
    "deepnote_cell_height": 592.1875,
    "deepnote_output_heights": [
     21.1875,
     317
    ],
    "pycharm": {
     "name": "#%%\n"
    }
   },
   "source": [
    "from sklearn.impute import SimpleImputer\n",
    "data = data.replace('N.V.', np.nan)\n",
    "\n",
    "s_imp = SimpleImputer(strategy = 'most_frequent', verbose = 1).fit(data[['Year', 'Publisher']])\n",
    "data[['Year', 'Publisher']] = s_imp.transform(data[['Year', 'Publisher']])\n",
    "\n",
    "\n",
    "sns.heatmap(data.corr(), annot=True, cmap='coolwarm')"
   ],
   "execution_count": null,
   "outputs": []
  },
  {
   "cell_type": "code",
   "metadata": {
    "cell_id": "0a4aebbd3c7847dcba1f342cff719b4d",
    "tags": [],
    "deepnote_to_be_reexecuted": false,
    "source_hash": "f942bfa0",
    "execution_start": 1655117174186,
    "execution_millis": 6,
    "deepnote_cell_type": "code",
    "deepnote_cell_height": 81,
    "pycharm": {
     "name": "#%%\n"
    }
   },
   "source": [
    "data['Year'] = data['Year'].astype('int64')"
   ],
   "execution_count": null,
   "outputs": []
  },
  {
   "cell_type": "code",
   "metadata": {
    "cell_id": "b49a4e6795ea4b7990d21588f0c8116d",
    "tags": [],
    "deepnote_to_be_reexecuted": false,
    "source_hash": "dc790093",
    "execution_start": 1655117174197,
    "execution_millis": 9,
    "deepnote_cell_type": "code",
    "deepnote_cell_height": 288.953125,
    "pycharm": {
     "name": "#%%\n"
    }
   },
   "source": [
    "print(data.isnull().sum().sort_values())"
   ],
   "execution_count": null,
   "outputs": []
  },
  {
   "cell_type": "markdown",
   "source": [
    "### 5. Which genre is the most popular?"
   ],
   "metadata": {
    "formattedRanges": [],
    "cell_id": "a65f2a6b0d054050b7b984662b851723",
    "tags": [],
    "is_collapsed": false,
    "deepnote_cell_type": "text-cell-h3",
    "pycharm": {
     "name": "#%% md\n"
    }
   }
  },
  {
   "cell_type": "markdown",
   "source": [
    "Seaborn countplot show the counts of observations in each categorical bin using bars."
   ],
   "metadata": {
    "formattedRanges": [],
    "cell_id": "af3ba87e45644189bbf5357209d9cfe1",
    "tags": [],
    "is_collapsed": false,
    "deepnote_cell_type": "text-cell-p",
    "pycharm": {
     "name": "#%% md\n"
    }
   }
  },
  {
   "cell_type": "code",
   "metadata": {
    "cell_id": "19d93a33b9024e6c9dff7d25190b43e7",
    "tags": [],
    "deepnote_to_be_reexecuted": false,
    "source_hash": "4efb24e9",
    "execution_start": 1655117174216,
    "execution_millis": 321,
    "deepnote_cell_type": "code",
    "deepnote_cell_height": 651,
    "deepnote_output_heights": [
     482
    ],
    "pycharm": {
     "name": "#%%\n"
    }
   },
   "source": [
    "plt.figure(figsize=(13, 8))\n",
    "\n",
    "sns.countplot(data=data, x='Genre', order=data['Genre'].value_counts().keys(), palette=\"Set2\").set_xlim(0, 9)\n",
    "\n",
    "plt.show()"
   ],
   "execution_count": null,
   "outputs": []
  },
  {
   "cell_type": "code",
   "metadata": {
    "cell_id": "35c1064a118a4ae0a76bb312eda25265",
    "tags": [],
    "deepnote_to_be_reexecuted": false,
    "source_hash": "b623e53d",
    "execution_start": 1655117174543,
    "execution_millis": 6,
    "deepnote_cell_type": "code",
    "deepnote_cell_height": 81,
    "pycharm": {
     "name": "#%%\n"
    }
   },
   "source": [],
   "execution_count": null,
   "outputs": []
  },
  {
   "cell_type": "code",
   "metadata": {
    "cell_id": "6c7f1818dad2421db02a0cb32cb0e20a",
    "tags": [],
    "deepnote_to_be_reexecuted": false,
    "source_hash": "952aee60",
    "execution_start": 1655117174571,
    "execution_millis": 257,
    "deepnote_cell_type": "code",
    "deepnote_cell_height": 667,
    "deepnote_output_heights": [
     498
    ],
    "pycharm": {
     "name": "#%%\n"
    }
   },
   "source": [
    "plt.figure(figsize=(13, 8))\n",
    "\n",
    "sns.countplot(data=data, x='Year', order=data['Year'].value_counts().keys(), palette=\"Set2\").set(title='Count by Year')\n",
    "\n",
    "plt.show()"
   ],
   "execution_count": null,
   "outputs": []
  },
  {
   "cell_type": "code",
   "metadata": {
    "cell_id": "07c35b5ab6c740e68e2ec14b5c35da44",
    "tags": [],
    "deepnote_to_be_reexecuted": false,
    "source_hash": "aadb0388",
    "execution_start": 1655117174839,
    "execution_millis": 928,
    "deepnote_cell_type": "code",
    "deepnote_cell_height": 942,
    "deepnote_output_heights": [
     611
    ],
    "pycharm": {
     "name": "#%%\n"
    }
   },
   "source": [
    "x = data.Genre.value_counts(sort=False)\n",
    "\n",
    "fig, ax = plt.subplots(figsize=(10, 10))\n",
    "\n",
    "ax.pie(x, labels = data.Genre.unique(), autopct='%.1f%%', pctdistance=.75, startangle=24,\n",
    "       textprops={\"fontsize\":12}, wedgeprops={'edgecolor':'#383838'})\n",
    "\n",
    "ax.set_title('Genre by all publisher', fontdict={'fontsize':14})\n",
    "ax.legend([], bbox_to_anchor=(.8, .77))\n",
    "\n",
    "fig = plt.gcf()\n",
    "\n",
    "plt.tight_layout()\n",
    "plt.show()"
   ],
   "execution_count": null,
   "outputs": []
  },
  {
   "cell_type": "code",
   "metadata": {
    "cell_id": "a400f31f0a464cf9b28995766640d93d",
    "tags": [],
    "deepnote_to_be_reexecuted": false,
    "source_hash": "ddf51064",
    "execution_start": 1655117175732,
    "execution_millis": 37,
    "deepnote_cell_type": "code",
    "deepnote_cell_height": 210.171875,
    "pycharm": {
     "name": "#%%\n"
    }
   },
   "source": [
    "print(data['Game'].value_counts().head(5))"
   ],
   "execution_count": null,
   "outputs": []
  },
  {
   "cell_type": "markdown",
   "source": [
    "Count number of distinct elements in specified axis."
   ],
   "metadata": {
    "formattedRanges": [],
    "cell_id": "f0afd54cb8424ebc95c316bff58ca04b",
    "tags": [],
    "is_collapsed": false,
    "deepnote_cell_type": "text-cell-p",
    "pycharm": {
     "name": "#%% md\n"
    }
   }
  },
  {
   "cell_type": "code",
   "metadata": {
    "cell_id": "b5799e9846274753992bfa9bb4ca6303",
    "tags": [],
    "deepnote_to_be_reexecuted": false,
    "source_hash": "a305f3f2",
    "execution_start": 1655117430292,
    "execution_millis": 11,
    "deepnote_cell_type": "code",
    "deepnote_cell_height": 111.6875,
    "pycharm": {
     "name": "#%%\n"
    }
   },
   "source": [
    "print(data['Game'].nunique())"
   ],
   "execution_count": null,
   "outputs": []
  },
  {
   "cell_type": "markdown",
   "source": [
    "### 6. Publisher"
   ],
   "metadata": {
    "formattedRanges": [],
    "cell_id": "33f0ce486a8b4c38860dbcf016a17998",
    "tags": [],
    "is_collapsed": false,
    "deepnote_cell_type": "text-cell-h3",
    "pycharm": {
     "name": "#%% md\n"
    }
   }
  },
  {
   "cell_type": "markdown",
   "source": [
    "The unique() function is used to find the unique elements of an array."
   ],
   "metadata": {
    "formattedRanges": [],
    "cell_id": "a9924c4333724b3d807b6e90a1ef8a13",
    "tags": [],
    "is_collapsed": false,
    "deepnote_cell_type": "text-cell-p",
    "pycharm": {
     "name": "#%% md\n"
    }
   }
  },
  {
   "cell_type": "code",
   "metadata": {
    "cell_id": "49b041f273cf46bfa98b72230ea5d399",
    "tags": [],
    "deepnote_to_be_reexecuted": false,
    "source_hash": "aea91b3",
    "execution_start": 1655118545550,
    "execution_millis": 2,
    "deepnote_cell_type": "code",
    "deepnote_cell_height": 129.6875,
    "pycharm": {
     "name": "#%%\n"
    }
   },
   "source": [
    "print(data.Publisher.nunique())\n"
   ],
   "execution_count": null,
   "outputs": []
  },
  {
   "cell_type": "code",
   "metadata": {
    "cell_id": "413c4a04182f451c9a5834f319526844",
    "tags": [],
    "deepnote_to_be_reexecuted": false,
    "source_hash": "aef8606b",
    "execution_start": 1655117416578,
    "execution_millis": 2,
    "deepnote_cell_type": "code",
    "deepnote_cell_height": 228.171875,
    "pycharm": {
     "name": "#%%\n"
    }
   },
   "source": [
    " x = data['Publisher'].value_counts().head()\n",
    " print(x)"
   ],
   "execution_count": null,
   "outputs": []
  },
  {
   "cell_type": "code",
   "metadata": {
    "cell_id": "0efdfb09208a464bbe0dd6b7c57389c3",
    "tags": [],
    "deepnote_to_be_reexecuted": false,
    "source_hash": "1c253541",
    "execution_start": 1655117175816,
    "execution_millis": 447,
    "deepnote_cell_type": "code",
    "deepnote_cell_height": 663,
    "deepnote_output_heights": [
     332
    ],
    "pycharm": {
     "name": "#%%\n"
    }
   },
   "source": [
    "\n",
    "\n",
    "fig, ax = plt.subplots(figsize=(6, 6))\n",
    "\n",
    "ax.pie(x, labels = ('Namco Bandai Games ', 'Sony Interactive Entertainment ', 'Ubisoft ', 'Square Enix ', 'Tecmo Koei'), autopct='%.1f%%', pctdistance=.75, startangle=24,\n",
    "       textprops={\"fontsize\":12}, wedgeprops={'edgecolor':'#383838'})\n",
    "\n",
    "ax.set_title('Best Seller Publisher in %', fontdict={'fontsize':14})\n",
    "ax.legend([], bbox_to_anchor=(.8, .77))\n",
    "centre_circle = plt.Circle((0,0),0.55,fc='white', ec='#383838')\n",
    "fig = plt.gcf()\n",
    "fig.gca().add_artist(centre_circle)\n",
    "plt.tight_layout()\n",
    "plt.show()"
   ],
   "execution_count": null,
   "outputs": []
  },
  {
   "cell_type": "code",
   "metadata": {
    "cell_id": "9b3da2bf82dd4a47af43b348db385ff4",
    "tags": [],
    "deepnote_to_be_reexecuted": false,
    "source_hash": "aa52e49b",
    "execution_start": 1655117176268,
    "execution_millis": 269,
    "deepnote_cell_type": "code",
    "deepnote_cell_height": 775.078125,
    "deepnote_output_heights": [
     null,
     21.1875,
     484
    ],
    "pycharm": {
     "name": "#%%\n"
    }
   },
   "source": [
    "plt.figure(figsize=(13, 8))\n",
    "publisher = data['Publisher'].value_counts(ascending=False).head()\n",
    "sns.barplot(publisher.index, publisher.values).set(title='Best Seller Publisher')\n",
    "\n"
   ],
   "execution_count": null,
   "outputs": []
  },
  {
   "cell_type": "markdown",
   "source": [
    "### 7. Namco Bandai Games:"
   ],
   "metadata": {
    "formattedRanges": [],
    "cell_id": "825fbb1368aa4a42831f479b14998942",
    "tags": [],
    "is_collapsed": false,
    "deepnote_cell_type": "text-cell-h3",
    "pycharm": {
     "name": "#%% md\n"
    }
   }
  },
  {
   "cell_type": "code",
   "metadata": {
    "cell_id": "92295555200046c390a84c1a4c1623fe",
    "tags": [],
    "deepnote_to_be_reexecuted": false,
    "source_hash": "fea16be8",
    "execution_start": 1655117176559,
    "execution_millis": 8,
    "deepnote_table_state": {
     "pageSize": 10,
     "pageIndex": 0,
     "filters": [],
     "sortBy": []
    },
    "deepnote_table_loading": false,
    "deepnote_cell_type": "code",
    "deepnote_cell_height": 384.03125,
    "pycharm": {
     "name": "#%%\n"
    }
   },
   "source": [
    "games = data[data[\"Publisher\"] == \"Namco Bandai Games\"]\n",
    "print(games.head())\n"
   ],
   "execution_count": null,
   "outputs": []
  },
  {
   "cell_type": "markdown",
   "source": [
    "Zero value check:"
   ],
   "metadata": {
    "formattedRanges": [],
    "cell_id": "1d9b26b576cb426a85091cc931a36092",
    "tags": [],
    "is_collapsed": false,
    "deepnote_cell_type": "text-cell-p",
    "pycharm": {
     "name": "#%% md\n"
    }
   }
  },
  {
   "cell_type": "code",
   "metadata": {
    "cell_id": "f99c7f0b28c94ea29777a9a1c1960f43",
    "tags": [],
    "deepnote_to_be_reexecuted": false,
    "source_hash": "78507314",
    "execution_start": 1655117176617,
    "execution_millis": 1,
    "deepnote_cell_type": "code",
    "deepnote_cell_height": 288.953125,
    "pycharm": {
     "name": "#%%\n"
    }
   },
   "source": [
    "print(games.isnull().sum().sort_values())"
   ],
   "execution_count": null,
   "outputs": []
  },
  {
   "cell_type": "markdown",
   "source": [
    "### What is the best selling genre by Namco Bandai Games?"
   ],
   "metadata": {
    "formattedRanges": [],
    "cell_id": "0c009a72bdd44a32ae0e5bac409406c4",
    "tags": [],
    "is_collapsed": false,
    "deepnote_cell_type": "text-cell-h3",
    "pycharm": {
     "name": "#%% md\n"
    }
   }
  },
  {
   "cell_type": "markdown",
   "source": [
    "Creating a pie plot :"
   ],
   "metadata": {
    "formattedRanges": [],
    "cell_id": "72c49a44448945efa9151d49b1102bc0",
    "tags": [],
    "is_collapsed": false,
    "deepnote_cell_type": "text-cell-p",
    "pycharm": {
     "name": "#%% md\n"
    }
   }
  },
  {
   "cell_type": "code",
   "metadata": {
    "cell_id": "dba3afb4923546d6be2f4813602b7878",
    "tags": [],
    "deepnote_to_be_reexecuted": false,
    "source_hash": "178f273d",
    "execution_start": 1655118559306,
    "execution_millis": 14,
    "deepnote_cell_type": "code",
    "deepnote_cell_height": 210.171875,
    "pycharm": {
     "name": "#%%\n"
    }
   },
   "source": [
    "print(games['Genre'].value_counts().head())"
   ],
   "execution_count": null,
   "outputs": []
  },
  {
   "cell_type": "code",
   "metadata": {
    "cell_id": "7eb991c7f1544399b7bc6b7cdd4b5ff2",
    "tags": [],
    "deepnote_to_be_reexecuted": false,
    "source_hash": "48d5b84e",
    "execution_start": 1655118566027,
    "execution_millis": 5,
    "deepnote_cell_type": "code",
    "deepnote_cell_height": 151.078125,
    "pycharm": {
     "name": "#%%\n"
    }
   },
   "source": [
    "print(x.keys())"
   ],
   "execution_count": null,
   "outputs": []
  },
  {
   "cell_type": "code",
   "metadata": {
    "cell_id": "fd871045d5964d21b428f7223ea13856",
    "tags": [],
    "deepnote_to_be_reexecuted": false,
    "source_hash": "eb73592b",
    "execution_start": 1655117176666,
    "execution_millis": 337,
    "deepnote_cell_type": "code",
    "deepnote_cell_height": 901,
    "deepnote_output_heights": [
     570
    ],
    "pycharm": {
     "name": "#%%\n"
    }
   },
   "source": [
    "x = games['Genre'].value_counts().head()\n",
    "\n",
    "fig, ax = plt.subplots(figsize=(8, 8))\n",
    "\n",
    "ax.pie(x, labels = x.keys(), autopct='%.1f%%', pctdistance=.75, startangle=24,\n",
    "       textprops={\"fontsize\":12}, wedgeprops={'edgecolor':'#383838'})\n",
    "\n",
    "ax.set_title('The best-selling genre by Namco Bandai Games', fontdict={'fontsize':14})\n",
    "ax.legend([], bbox_to_anchor=(.8, .77))\n",
    "\n",
    "fig = plt.gcf()\n",
    "\n",
    "plt.tight_layout()\n",
    "plt.show()"
   ],
   "execution_count": null,
   "outputs": []
  },
  {
   "cell_type": "code",
   "metadata": {
    "cell_id": "36145380b72742ab9897ad14a6550975",
    "tags": [],
    "deepnote_to_be_reexecuted": false,
    "source_hash": "e9cd79fc",
    "execution_start": 1655118578706,
    "execution_millis": 5,
    "deepnote_cell_type": "code",
    "deepnote_cell_height": 210.171875,
    "pycharm": {
     "name": "#%%\n"
    }
   },
   "source": [
    "print(games['Year'].value_counts().head())"
   ],
   "execution_count": null,
   "outputs": []
  },
  {
   "cell_type": "markdown",
   "source": [
    "### How did the total sales change in North America, Europe, Japan, other area from 2013 to 2020?"
   ],
   "metadata": {
    "formattedRanges": [],
    "cell_id": "563916d064a44f2d84b0d6c4bbd546ed",
    "tags": [],
    "is_collapsed": false,
    "deepnote_cell_type": "text-cell-h3",
    "pycharm": {
     "name": "#%% md\n"
    }
   }
  },
  {
   "cell_type": "markdown",
   "source": [
    "Finding maximum sales values :"
   ],
   "metadata": {
    "formattedRanges": [],
    "cell_id": "2dfdb8382568402f8c0f242d0afa0ba7",
    "tags": [],
    "is_collapsed": false,
    "deepnote_cell_type": "text-cell-p",
    "pycharm": {
     "name": "#%% md\n"
    }
   }
  },
  {
   "cell_type": "code",
   "metadata": {
    "cell_id": "20172308c41a4481b17b77534a0ceb3a",
    "tags": [],
    "deepnote_to_be_reexecuted": false,
    "source_hash": "43e0aadc",
    "execution_start": 1655117177018,
    "execution_millis": 15,
    "deepnote_cell_type": "code",
    "deepnote_cell_height": 368.78125,
    "pycharm": {
     "name": "#%%\n"
    }
   },
   "source": [
    "n1 = np.around( data['North America'].max(), 2)\n",
    "print('Max Sales Value in North America is : ', n1)\n",
    "\n",
    "n2 = np.around( data['Europe'].max(), 2)\n",
    "print('Max Sales Value in Europe is : ', n2)\n",
    "\n",
    "n3 = np.around( data['Japan'].max(), 2)\n",
    "print('Max Sales Value in Japan is : ', n3)\n",
    "\n",
    "n4 = np.around( data['Rest of World'].max(), 2)\n",
    "print('Max Sales Value in Rest of World is : ', n4)\n"
   ],
   "execution_count": null,
   "outputs": []
  },
  {
   "cell_type": "code",
   "metadata": {
    "cell_id": "ccef28ffcdba407d90551d04b97424ea",
    "tags": [],
    "deepnote_to_be_reexecuted": false,
    "source_hash": "cb454d9f",
    "execution_start": 1655118587568,
    "execution_millis": 13,
    "deepnote_cell_type": "code",
    "deepnote_cell_height": 129.6875,
    "pycharm": {
     "name": "#%%\n"
    }
   },
   "source": [
    "n = n1, n2, n3, n4\n",
    "print(n)"
   ],
   "execution_count": null,
   "outputs": []
  },
  {
   "cell_type": "code",
   "metadata": {
    "cell_id": "15da8f7aae814f39bcdc5baac5941a5c",
    "tags": [],
    "deepnote_to_be_reexecuted": false,
    "source_hash": "6a9e3944",
    "execution_start": 1655117177094,
    "execution_millis": 368,
    "deepnote_cell_type": "code",
    "deepnote_cell_height": 682,
    "deepnote_output_heights": [
     387
    ],
    "pycharm": {
     "name": "#%%\n"
    }
   },
   "source": [
    "fig, ax = plt.subplots(figsize=(6, 6))\n",
    "\n",
    "ax.pie(n, labels = ('North America', 'Europe ', 'Japan ', 'Rest of World'), autopct='%.1f%%', pctdistance=.75, startangle=24,\n",
    "       textprops={\"fontsize\":12}, wedgeprops={'edgecolor':'#383838'})\n",
    "\n",
    "ax.set_title('The best market', fontdict={'fontsize':14})\n",
    "ax.legend([], bbox_to_anchor=(.8, .77))\n",
    "centre_circle = plt.Circle((0,0),0.55,fc='white', ec='#383838')\n",
    "fig = plt.gcf()\n",
    "fig.gca().add_artist(centre_circle)\n",
    "plt.tight_layout()\n",
    "plt.show()"
   ],
   "execution_count": null,
   "outputs": []
  },
  {
   "cell_type": "markdown",
   "source": [
    "Market comparison :"
   ],
   "metadata": {
    "formattedRanges": [],
    "cell_id": "f05709e5ad4c401694491a053dfe62e7",
    "tags": [],
    "is_collapsed": false,
    "deepnote_cell_type": "text-cell-p",
    "pycharm": {
     "name": "#%% md\n"
    }
   }
  },
  {
   "cell_type": "code",
   "metadata": {
    "cell_id": "9ba2becf9e374599b1b550dd74ff342c",
    "tags": [],
    "deepnote_to_be_reexecuted": false,
    "source_hash": "f9533903",
    "execution_start": 1655117177516,
    "execution_millis": 237,
    "deepnote_cell_type": "code",
    "deepnote_cell_height": 610.90625,
    "deepnote_output_heights": [
     261.90625
    ],
    "pycharm": {
     "name": "#%%\n"
    }
   },
   "source": [
    "plt.style.use('ggplot')\n",
    "fig, ax = plt.subplots(figsize=(20,6))\n",
    "\n",
    "x = data.groupby(by='Year')['Europe'].sum()\n",
    "y = data.groupby(by='Year')['Japan'].sum()\n",
    "z = data.groupby(by='Year')['North America'].sum()\n",
    "ax.plot(x)\n",
    "ax.plot(y)\n",
    "ax.plot(z)\n",
    "ax.set_xlabel('Year')\n",
    "ax.set_ylabel('Sales')\n",
    "plt.show()\n",
    "\n",
    "\n"
   ],
   "execution_count": null,
   "outputs": []
  },
  {
   "cell_type": "code",
   "metadata": {
    "cell_id": "03a4f92e8aad47968f40b075fd26c47e",
    "tags": [],
    "deepnote_to_be_reexecuted": false,
    "source_hash": "bc86961f",
    "execution_start": 1655117177803,
    "execution_millis": 975,
    "owner_user_id": "7bd5af93-e3d3-4e2f-a311-d9d94a691c75",
    "deepnote_cell_type": "code",
    "deepnote_cell_height": 994.1875,
    "deepnote_output_heights": [
     21.1875,
     611
    ],
    "pycharm": {
     "name": "#%%\n"
    }
   },
   "source": [
    "\n",
    "\n",
    "fig, ax = plt.subplots(nrows= 2, ncols=2, figsize=(14, 15), sharex=False)\n",
    "ax[0, 0].plot(data.groupby('Year').Europe.sum())\n",
    "ax[0, 0].set_title('Sales in Europe')\n",
    "\n",
    "ax[0, 1].plot(data.groupby('Year').Japan.sum())\n",
    "ax[0, 1].set_title('Sales in Japan')\n",
    "\n",
    "ax[1, 0].plot(data.groupby('Year')['North America'].sum())\n",
    "ax[1, 0].set_title('Sales in North America')\n",
    "\n",
    "ax[1, 1].plot(data.groupby('Year')['Rest of World'].sum())\n",
    "ax[1, 1].set_title('Sales in Rest of World')"
   ],
   "execution_count": null,
   "outputs": []
  },
  {
   "cell_type": "markdown",
   "source": [
    "<a style='text-decoration:none;line-height:16px;display:flex;color:#5B5B62;padding:10px;justify-content:end;' href='https://deepnote.com?utm_source=created-in-deepnote-cell&projectId=bcf94c8c-3d39-466d-930e-f464d3a731e0' target=\"_blank\">\n",
    "<img alt='Created in deepnote.com' style='display:inline;max-height:16px;margin:0px;margin-right:7.5px;' src='data:image/svg+xml;base64,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' > </img>\n",
    "Created in <span style='font-weight:600;margin-left:4px;'>Deepnote</span></a>"
   ],
   "metadata": {
    "tags": [],
    "created_in_deepnote_cell": true,
    "deepnote_cell_type": "markdown",
    "pycharm": {
     "name": "#%% md\n"
    }
   }
  }
 ],
 "nbformat": 4,
 "nbformat_minor": 2,
 "metadata": {
  "orig_nbformat": 2,
  "deepnote": {},
  "deepnote_notebook_id": "12156dd5-b2d6-4962-acff-44b46cfa24e6",
  "deepnote_execution_queue": []
 }
}