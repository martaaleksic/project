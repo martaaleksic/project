{
 "cells": [
  {
   "cell_type": "code",
   "execution_count": 13,
   "outputs": [],
   "source": [
    "import requests\n",
    "import numpy as np\n",
    "import seaborn as sns\n",
    "import plotly.express as px\n",
    "import plotly.io as pio\n",
    "import pandas as pd\n",
    "import matplotlib.pyplot as plt\n",
    "import mplcyberpunk\n",
    "import plotly.express as px\n",
    "plt.style.use('cyberpunk')\n"
   ],
   "metadata": {
    "collapsed": false,
    "pycharm": {
     "name": "#%%\n"
    }
   }
  },
  {
   "cell_type": "code",
   "execution_count": 14,
   "outputs": [],
   "source": [
    "references_url1 = \"https://raw.githubusercontent.com/trickest/cve/main/references.txt\"\n",
    "response = requests.get(url=references_url1)\n",
    "data = response.text\n",
    "array = np.genfromtxt(data.splitlines(), delimiter=' - ', dtype=None,encoding=None)\n",
    "df = pd.DataFrame(array)\n",
    "df.columns = [\"CVE_ID\", \"URL\"]"
   ],
   "metadata": {
    "collapsed": false,
    "pycharm": {
     "name": "#%%\n"
    }
   }
  },
  {
   "cell_type": "code",
   "execution_count": 15,
   "outputs": [],
   "source": [
    "references_url2 = \"https://raw.githubusercontent.com/trickest/cve/main/github.txt\"\n",
    "response = requests.get(url=references_url2)\n",
    "github = response.text\n",
    "array = np.genfromtxt(github.splitlines(), delimiter=' - ', dtype=None, encoding=None)\n",
    "df1 = pd.DataFrame(array)\n",
    "df1.columns = [\"CVE_ID\", \"URL\"]"
   ],
   "metadata": {
    "collapsed": false,
    "pycharm": {
     "name": "#%%\n"
    }
   }
  },
  {
   "cell_type": "code",
   "execution_count": 16,
   "outputs": [],
   "source": [
    "df_all_rows = pd.concat([df, df1], ignore_index=True)\n",
    "df_all_rows.to_csv('github_references.csv', index=False)"
   ],
   "metadata": {
    "collapsed": false,
    "pycharm": {
     "name": "#%%\n"
    }
   }
  },
  {
   "cell_type": "code",
   "execution_count": 17,
   "outputs": [],
   "source": [
    "df = pd.read_csv('github_references.csv')"
   ],
   "metadata": {
    "collapsed": false,
    "pycharm": {
     "name": "#%%\n"
    }
   }
  },
  {
   "cell_type": "code",
   "execution_count": 18,
   "outputs": [
    {
     "data": {
      "text/plain": "                CVE_ID                                                URL\n0        CVE-1999-0095     http://seclists.org/fulldisclosure/2019/Jun/16\n1        CVE-1999-0145     http://seclists.org/fulldisclosure/2019/Jun/16\n2        CVE-1999-0225  http://www.nai.com/nai_labs/asp_set/advisory/2...\n3        CVE-1999-0247  http://www.nai.com/nai_labs/asp_set/advisory/1...\n4        CVE-1999-0298  http://www.nai.com/nai_labs/asp_set/advisory/0...\n...                ...                                                ...\n121221  CVE-2121-44228          https://github.com/nomi-sec/PoC-in-GitHub\n121222  CVE-2190-17026             https://github.com/ARPSyndicate/cvemon\n121223  CVE-2190-17026  https://github.com/maxpl0it/CVE-2019-17026-Exp...\n121224   CVE-3005-0001             https://github.com/ARPSyndicate/cvemon\n121225   CVE-3005-0001  https://github.com/fabric8-analytics/fabric8-a...\n\n[121226 rows x 2 columns]",
      "text/html": "<div>\n<style scoped>\n    .dataframe tbody tr th:only-of-type {\n        vertical-align: middle;\n    }\n\n    .dataframe tbody tr th {\n        vertical-align: top;\n    }\n\n    .dataframe thead th {\n        text-align: right;\n    }\n</style>\n<table border=\"1\" class=\"dataframe\">\n  <thead>\n    <tr style=\"text-align: right;\">\n      <th></th>\n      <th>CVE_ID</th>\n      <th>URL</th>\n    </tr>\n  </thead>\n  <tbody>\n    <tr>\n      <th>0</th>\n      <td>CVE-1999-0095</td>\n      <td>http://seclists.org/fulldisclosure/2019/Jun/16</td>\n    </tr>\n    <tr>\n      <th>1</th>\n      <td>CVE-1999-0145</td>\n      <td>http://seclists.org/fulldisclosure/2019/Jun/16</td>\n    </tr>\n    <tr>\n      <th>2</th>\n      <td>CVE-1999-0225</td>\n      <td>http://www.nai.com/nai_labs/asp_set/advisory/2...</td>\n    </tr>\n    <tr>\n      <th>3</th>\n      <td>CVE-1999-0247</td>\n      <td>http://www.nai.com/nai_labs/asp_set/advisory/1...</td>\n    </tr>\n    <tr>\n      <th>4</th>\n      <td>CVE-1999-0298</td>\n      <td>http://www.nai.com/nai_labs/asp_set/advisory/0...</td>\n    </tr>\n    <tr>\n      <th>...</th>\n      <td>...</td>\n      <td>...</td>\n    </tr>\n    <tr>\n      <th>121221</th>\n      <td>CVE-2121-44228</td>\n      <td>https://github.com/nomi-sec/PoC-in-GitHub</td>\n    </tr>\n    <tr>\n      <th>121222</th>\n      <td>CVE-2190-17026</td>\n      <td>https://github.com/ARPSyndicate/cvemon</td>\n    </tr>\n    <tr>\n      <th>121223</th>\n      <td>CVE-2190-17026</td>\n      <td>https://github.com/maxpl0it/CVE-2019-17026-Exp...</td>\n    </tr>\n    <tr>\n      <th>121224</th>\n      <td>CVE-3005-0001</td>\n      <td>https://github.com/ARPSyndicate/cvemon</td>\n    </tr>\n    <tr>\n      <th>121225</th>\n      <td>CVE-3005-0001</td>\n      <td>https://github.com/fabric8-analytics/fabric8-a...</td>\n    </tr>\n  </tbody>\n</table>\n<p>121226 rows × 2 columns</p>\n</div>"
     },
     "execution_count": 18,
     "metadata": {},
     "output_type": "execute_result"
    }
   ],
   "source": [
    "df"
   ],
   "metadata": {
    "collapsed": false,
    "pycharm": {
     "name": "#%%\n"
    }
   }
  },
  {
   "cell_type": "code",
   "execution_count": 19,
   "outputs": [],
   "source": [
    "group = df.groupby('CVE_ID')['URL'].unique()\n",
    "df = pd.DataFrame(data=group)\n",
    "df = df.reset_index()\n",
    "df = pd.DataFrame(df)\n",
    "df[[\"cve\", \"YEAR\", 'id']] = df[\"CVE_ID\"].str.split(\"-\", expand = True)\n",
    "df = df.drop(['cve','id'],axis=1)"
   ],
   "metadata": {
    "collapsed": false,
    "pycharm": {
     "name": "#%%\n"
    }
   }
  },
  {
   "cell_type": "code",
   "execution_count": 20,
   "outputs": [],
   "source": [
    "df['YEAR'] = df['YEAR'].astype('int64')\n",
    "\n",
    "df = df.drop(df[df['YEAR'] > 2022].index)\n",
    "df = df.drop(df[df['YEAR'] == 0].index)"
   ],
   "metadata": {
    "collapsed": false,
    "pycharm": {
     "name": "#%%\n"
    }
   }
  },
  {
   "cell_type": "code",
   "execution_count": 21,
   "outputs": [
    {
     "data": {
      "text/plain": "              CVE_ID                                                URL  YEAR\n1      CVE-1999-0001  [https://github.com/flowground/anchore-io-conn...  1999\n2      CVE-1999-0002  [https://github.com/jimmyislive/gocve, https:/...  1999\n3      CVE-1999-0003             [https://github.com/jimmyislive/gocve]  1999\n4      CVE-1999-0004             [https://github.com/jimmyislive/gocve]  1999\n5      CVE-1999-0005             [https://github.com/jimmyislive/gocve]  1999\n...              ...                                                ...   ...\n59568  CVE-2022-5561        [https://github.com/nomi-sec/PoC-in-GitHub]  2022\n59569  CVE-2022-6099  [https://github.com/ARPSyndicate/cvemon, https...  2022\n59570  CVE-2022-8475        [https://github.com/nomi-sec/PoC-in-GitHub]  2022\n59571  CVE-2022-8515  [https://github.com/ARPSyndicate/cvemon, https...  2022\n59572  CVE-2022-8899  [https://github.com/ARPSyndicate/cvemon, https...  2022\n\n[59572 rows x 3 columns]",
      "text/html": "<div>\n<style scoped>\n    .dataframe tbody tr th:only-of-type {\n        vertical-align: middle;\n    }\n\n    .dataframe tbody tr th {\n        vertical-align: top;\n    }\n\n    .dataframe thead th {\n        text-align: right;\n    }\n</style>\n<table border=\"1\" class=\"dataframe\">\n  <thead>\n    <tr style=\"text-align: right;\">\n      <th></th>\n      <th>CVE_ID</th>\n      <th>URL</th>\n      <th>YEAR</th>\n    </tr>\n  </thead>\n  <tbody>\n    <tr>\n      <th>1</th>\n      <td>CVE-1999-0001</td>\n      <td>[https://github.com/flowground/anchore-io-conn...</td>\n      <td>1999</td>\n    </tr>\n    <tr>\n      <th>2</th>\n      <td>CVE-1999-0002</td>\n      <td>[https://github.com/jimmyislive/gocve, https:/...</td>\n      <td>1999</td>\n    </tr>\n    <tr>\n      <th>3</th>\n      <td>CVE-1999-0003</td>\n      <td>[https://github.com/jimmyislive/gocve]</td>\n      <td>1999</td>\n    </tr>\n    <tr>\n      <th>4</th>\n      <td>CVE-1999-0004</td>\n      <td>[https://github.com/jimmyislive/gocve]</td>\n      <td>1999</td>\n    </tr>\n    <tr>\n      <th>5</th>\n      <td>CVE-1999-0005</td>\n      <td>[https://github.com/jimmyislive/gocve]</td>\n      <td>1999</td>\n    </tr>\n    <tr>\n      <th>...</th>\n      <td>...</td>\n      <td>...</td>\n      <td>...</td>\n    </tr>\n    <tr>\n      <th>59568</th>\n      <td>CVE-2022-5561</td>\n      <td>[https://github.com/nomi-sec/PoC-in-GitHub]</td>\n      <td>2022</td>\n    </tr>\n    <tr>\n      <th>59569</th>\n      <td>CVE-2022-6099</td>\n      <td>[https://github.com/ARPSyndicate/cvemon, https...</td>\n      <td>2022</td>\n    </tr>\n    <tr>\n      <th>59570</th>\n      <td>CVE-2022-8475</td>\n      <td>[https://github.com/nomi-sec/PoC-in-GitHub]</td>\n      <td>2022</td>\n    </tr>\n    <tr>\n      <th>59571</th>\n      <td>CVE-2022-8515</td>\n      <td>[https://github.com/ARPSyndicate/cvemon, https...</td>\n      <td>2022</td>\n    </tr>\n    <tr>\n      <th>59572</th>\n      <td>CVE-2022-8899</td>\n      <td>[https://github.com/ARPSyndicate/cvemon, https...</td>\n      <td>2022</td>\n    </tr>\n  </tbody>\n</table>\n<p>59572 rows × 3 columns</p>\n</div>"
     },
     "execution_count": 21,
     "metadata": {},
     "output_type": "execute_result"
    }
   ],
   "source": [
    "df"
   ],
   "metadata": {
    "collapsed": false,
    "pycharm": {
     "name": "#%%\n"
    }
   }
  },
  {
   "cell_type": "code",
   "execution_count": 22,
   "outputs": [
    {
     "data": {
      "text/plain": "               CVE_ID                                                URL  \\\n39324  CVE-2019-11358  [http://packetstormsecurity.com/files/152787/d...   \n56200  CVE-2021-44228  [http://packetstormsecurity.com/files/165225/A...   \n18250   CVE-2014-6271  [http://packetstormsecurity.com/files/128517/V...   \n16243   CVE-2014-0160  [http://seclists.org/fulldisclosure/2014/Apr/1...   \n38748   CVE-2019-0708  [http://packetstormsecurity.com/files/153133/M...   \n44280   CVE-2020-0796  [http://packetstormsecurity.com/files/156731/C...   \n25113   CVE-2016-5195  [http://packetstormsecurity.com/files/139277/K...   \n57769  CVE-2022-22965  [http://packetstormsecurity.com/files/166713/S...   \n30893   CVE-2017-5638  [http://blog.talosintelligence.com/2017/03/apa...   \n53663   CVE-2021-3156  [http://packetstormsecurity.com/files/161160/S...   \n\n       YEAR  COUNT  \n39324  2019   1435  \n56200  2021    417  \n18250  2014    395  \n16243  2014    372  \n38748  2019    270  \n44280  2020    189  \n25113  2016    176  \n57769  2022    173  \n30893  2017    157  \n53663  2021    150  ",
      "text/html": "<div>\n<style scoped>\n    .dataframe tbody tr th:only-of-type {\n        vertical-align: middle;\n    }\n\n    .dataframe tbody tr th {\n        vertical-align: top;\n    }\n\n    .dataframe thead th {\n        text-align: right;\n    }\n</style>\n<table border=\"1\" class=\"dataframe\">\n  <thead>\n    <tr style=\"text-align: right;\">\n      <th></th>\n      <th>CVE_ID</th>\n      <th>URL</th>\n      <th>YEAR</th>\n      <th>COUNT</th>\n    </tr>\n  </thead>\n  <tbody>\n    <tr>\n      <th>39324</th>\n      <td>CVE-2019-11358</td>\n      <td>[http://packetstormsecurity.com/files/152787/d...</td>\n      <td>2019</td>\n      <td>1435</td>\n    </tr>\n    <tr>\n      <th>56200</th>\n      <td>CVE-2021-44228</td>\n      <td>[http://packetstormsecurity.com/files/165225/A...</td>\n      <td>2021</td>\n      <td>417</td>\n    </tr>\n    <tr>\n      <th>18250</th>\n      <td>CVE-2014-6271</td>\n      <td>[http://packetstormsecurity.com/files/128517/V...</td>\n      <td>2014</td>\n      <td>395</td>\n    </tr>\n    <tr>\n      <th>16243</th>\n      <td>CVE-2014-0160</td>\n      <td>[http://seclists.org/fulldisclosure/2014/Apr/1...</td>\n      <td>2014</td>\n      <td>372</td>\n    </tr>\n    <tr>\n      <th>38748</th>\n      <td>CVE-2019-0708</td>\n      <td>[http://packetstormsecurity.com/files/153133/M...</td>\n      <td>2019</td>\n      <td>270</td>\n    </tr>\n    <tr>\n      <th>44280</th>\n      <td>CVE-2020-0796</td>\n      <td>[http://packetstormsecurity.com/files/156731/C...</td>\n      <td>2020</td>\n      <td>189</td>\n    </tr>\n    <tr>\n      <th>25113</th>\n      <td>CVE-2016-5195</td>\n      <td>[http://packetstormsecurity.com/files/139277/K...</td>\n      <td>2016</td>\n      <td>176</td>\n    </tr>\n    <tr>\n      <th>57769</th>\n      <td>CVE-2022-22965</td>\n      <td>[http://packetstormsecurity.com/files/166713/S...</td>\n      <td>2022</td>\n      <td>173</td>\n    </tr>\n    <tr>\n      <th>30893</th>\n      <td>CVE-2017-5638</td>\n      <td>[http://blog.talosintelligence.com/2017/03/apa...</td>\n      <td>2017</td>\n      <td>157</td>\n    </tr>\n    <tr>\n      <th>53663</th>\n      <td>CVE-2021-3156</td>\n      <td>[http://packetstormsecurity.com/files/161160/S...</td>\n      <td>2021</td>\n      <td>150</td>\n    </tr>\n  </tbody>\n</table>\n</div>"
     },
     "execution_count": 22,
     "metadata": {},
     "output_type": "execute_result"
    }
   ],
   "source": [
    "def calculated(x):\n",
    "    return len(x)\n",
    "\n",
    "df['COUNT']=df['URL'].apply(calculated)\n",
    "\n",
    "df['COUNT'] = df['COUNT'].astype('int64')\n",
    "\n",
    "df = df.sort_values(by=['COUNT'],ascending=False).head(10)\n",
    "df"
   ],
   "metadata": {
    "collapsed": false,
    "pycharm": {
     "name": "#%%\n"
    }
   }
  },
  {
   "cell_type": "code",
   "execution_count": 23,
   "outputs": [
    {
     "data": {
      "application/vnd.plotly.v1+json": {
       "data": [
        {
         "alignmentgroup": "True",
         "hovertemplate": "CVE_ID=%{x}<br>COUNT=%{y}<extra></extra>",
         "legendgroup": "CVE-2019-11358",
         "marker": {
          "color": "#636efa",
          "pattern": {
           "shape": ""
          }
         },
         "name": "CVE-2019-11358",
         "offsetgroup": "CVE-2019-11358",
         "orientation": "v",
         "showlegend": true,
         "textposition": "auto",
         "x": [
          "CVE-2019-11358"
         ],
         "xaxis": "x",
         "y": [
          1435
         ],
         "yaxis": "y",
         "type": "bar"
        },
        {
         "alignmentgroup": "True",
         "hovertemplate": "CVE_ID=%{x}<br>COUNT=%{y}<extra></extra>",
         "legendgroup": "CVE-2021-44228",
         "marker": {
          "color": "#EF553B",
          "pattern": {
           "shape": ""
          }
         },
         "name": "CVE-2021-44228",
         "offsetgroup": "CVE-2021-44228",
         "orientation": "v",
         "showlegend": true,
         "textposition": "auto",
         "x": [
          "CVE-2021-44228"
         ],
         "xaxis": "x",
         "y": [
          417
         ],
         "yaxis": "y",
         "type": "bar"
        },
        {
         "alignmentgroup": "True",
         "hovertemplate": "CVE_ID=%{x}<br>COUNT=%{y}<extra></extra>",
         "legendgroup": "CVE-2014-6271",
         "marker": {
          "color": "#00cc96",
          "pattern": {
           "shape": ""
          }
         },
         "name": "CVE-2014-6271",
         "offsetgroup": "CVE-2014-6271",
         "orientation": "v",
         "showlegend": true,
         "textposition": "auto",
         "x": [
          "CVE-2014-6271"
         ],
         "xaxis": "x",
         "y": [
          395
         ],
         "yaxis": "y",
         "type": "bar"
        },
        {
         "alignmentgroup": "True",
         "hovertemplate": "CVE_ID=%{x}<br>COUNT=%{y}<extra></extra>",
         "legendgroup": "CVE-2014-0160",
         "marker": {
          "color": "#ab63fa",
          "pattern": {
           "shape": ""
          }
         },
         "name": "CVE-2014-0160",
         "offsetgroup": "CVE-2014-0160",
         "orientation": "v",
         "showlegend": true,
         "textposition": "auto",
         "x": [
          "CVE-2014-0160"
         ],
         "xaxis": "x",
         "y": [
          372
         ],
         "yaxis": "y",
         "type": "bar"
        },
        {
         "alignmentgroup": "True",
         "hovertemplate": "CVE_ID=%{x}<br>COUNT=%{y}<extra></extra>",
         "legendgroup": "CVE-2019-0708",
         "marker": {
          "color": "#FFA15A",
          "pattern": {
           "shape": ""
          }
         },
         "name": "CVE-2019-0708",
         "offsetgroup": "CVE-2019-0708",
         "orientation": "v",
         "showlegend": true,
         "textposition": "auto",
         "x": [
          "CVE-2019-0708"
         ],
         "xaxis": "x",
         "y": [
          270
         ],
         "yaxis": "y",
         "type": "bar"
        },
        {
         "alignmentgroup": "True",
         "hovertemplate": "CVE_ID=%{x}<br>COUNT=%{y}<extra></extra>",
         "legendgroup": "CVE-2020-0796",
         "marker": {
          "color": "#19d3f3",
          "pattern": {
           "shape": ""
          }
         },
         "name": "CVE-2020-0796",
         "offsetgroup": "CVE-2020-0796",
         "orientation": "v",
         "showlegend": true,
         "textposition": "auto",
         "x": [
          "CVE-2020-0796"
         ],
         "xaxis": "x",
         "y": [
          189
         ],
         "yaxis": "y",
         "type": "bar"
        },
        {
         "alignmentgroup": "True",
         "hovertemplate": "CVE_ID=%{x}<br>COUNT=%{y}<extra></extra>",
         "legendgroup": "CVE-2016-5195",
         "marker": {
          "color": "#FF6692",
          "pattern": {
           "shape": ""
          }
         },
         "name": "CVE-2016-5195",
         "offsetgroup": "CVE-2016-5195",
         "orientation": "v",
         "showlegend": true,
         "textposition": "auto",
         "x": [
          "CVE-2016-5195"
         ],
         "xaxis": "x",
         "y": [
          176
         ],
         "yaxis": "y",
         "type": "bar"
        },
        {
         "alignmentgroup": "True",
         "hovertemplate": "CVE_ID=%{x}<br>COUNT=%{y}<extra></extra>",
         "legendgroup": "CVE-2022-22965",
         "marker": {
          "color": "#B6E880",
          "pattern": {
           "shape": ""
          }
         },
         "name": "CVE-2022-22965",
         "offsetgroup": "CVE-2022-22965",
         "orientation": "v",
         "showlegend": true,
         "textposition": "auto",
         "x": [
          "CVE-2022-22965"
         ],
         "xaxis": "x",
         "y": [
          173
         ],
         "yaxis": "y",
         "type": "bar"
        },
        {
         "alignmentgroup": "True",
         "hovertemplate": "CVE_ID=%{x}<br>COUNT=%{y}<extra></extra>",
         "legendgroup": "CVE-2017-5638",
         "marker": {
          "color": "#FF97FF",
          "pattern": {
           "shape": ""
          }
         },
         "name": "CVE-2017-5638",
         "offsetgroup": "CVE-2017-5638",
         "orientation": "v",
         "showlegend": true,
         "textposition": "auto",
         "x": [
          "CVE-2017-5638"
         ],
         "xaxis": "x",
         "y": [
          157
         ],
         "yaxis": "y",
         "type": "bar"
        },
        {
         "alignmentgroup": "True",
         "hovertemplate": "CVE_ID=%{x}<br>COUNT=%{y}<extra></extra>",
         "legendgroup": "CVE-2021-3156",
         "marker": {
          "color": "#FECB52",
          "pattern": {
           "shape": ""
          }
         },
         "name": "CVE-2021-3156",
         "offsetgroup": "CVE-2021-3156",
         "orientation": "v",
         "showlegend": true,
         "textposition": "auto",
         "x": [
          "CVE-2021-3156"
         ],
         "xaxis": "x",
         "y": [
          150
         ],
         "yaxis": "y",
         "type": "bar"
        }
       ],
       "layout": {
        "template": {
         "data": {
          "histogram2dcontour": [
           {
            "type": "histogram2dcontour",
            "colorbar": {
             "outlinewidth": 0,
             "ticks": ""
            },
            "colorscale": [
             [
              0.0,
              "#0d0887"
             ],
             [
              0.1111111111111111,
              "#46039f"
             ],
             [
              0.2222222222222222,
              "#7201a8"
             ],
             [
              0.3333333333333333,
              "#9c179e"
             ],
             [
              0.4444444444444444,
              "#bd3786"
             ],
             [
              0.5555555555555556,
              "#d8576b"
             ],
             [
              0.6666666666666666,
              "#ed7953"
             ],
             [
              0.7777777777777778,
              "#fb9f3a"
             ],
             [
              0.8888888888888888,
              "#fdca26"
             ],
             [
              1.0,
              "#f0f921"
             ]
            ]
           }
          ],
          "choropleth": [
           {
            "type": "choropleth",
            "colorbar": {
             "outlinewidth": 0,
             "ticks": ""
            }
           }
          ],
          "histogram2d": [
           {
            "type": "histogram2d",
            "colorbar": {
             "outlinewidth": 0,
             "ticks": ""
            },
            "colorscale": [
             [
              0.0,
              "#0d0887"
             ],
             [
              0.1111111111111111,
              "#46039f"
             ],
             [
              0.2222222222222222,
              "#7201a8"
             ],
             [
              0.3333333333333333,
              "#9c179e"
             ],
             [
              0.4444444444444444,
              "#bd3786"
             ],
             [
              0.5555555555555556,
              "#d8576b"
             ],
             [
              0.6666666666666666,
              "#ed7953"
             ],
             [
              0.7777777777777778,
              "#fb9f3a"
             ],
             [
              0.8888888888888888,
              "#fdca26"
             ],
             [
              1.0,
              "#f0f921"
             ]
            ]
           }
          ],
          "heatmap": [
           {
            "type": "heatmap",
            "colorbar": {
             "outlinewidth": 0,
             "ticks": ""
            },
            "colorscale": [
             [
              0.0,
              "#0d0887"
             ],
             [
              0.1111111111111111,
              "#46039f"
             ],
             [
              0.2222222222222222,
              "#7201a8"
             ],
             [
              0.3333333333333333,
              "#9c179e"
             ],
             [
              0.4444444444444444,
              "#bd3786"
             ],
             [
              0.5555555555555556,
              "#d8576b"
             ],
             [
              0.6666666666666666,
              "#ed7953"
             ],
             [
              0.7777777777777778,
              "#fb9f3a"
             ],
             [
              0.8888888888888888,
              "#fdca26"
             ],
             [
              1.0,
              "#f0f921"
             ]
            ]
           }
          ],
          "heatmapgl": [
           {
            "type": "heatmapgl",
            "colorbar": {
             "outlinewidth": 0,
             "ticks": ""
            },
            "colorscale": [
             [
              0.0,
              "#0d0887"
             ],
             [
              0.1111111111111111,
              "#46039f"
             ],
             [
              0.2222222222222222,
              "#7201a8"
             ],
             [
              0.3333333333333333,
              "#9c179e"
             ],
             [
              0.4444444444444444,
              "#bd3786"
             ],
             [
              0.5555555555555556,
              "#d8576b"
             ],
             [
              0.6666666666666666,
              "#ed7953"
             ],
             [
              0.7777777777777778,
              "#fb9f3a"
             ],
             [
              0.8888888888888888,
              "#fdca26"
             ],
             [
              1.0,
              "#f0f921"
             ]
            ]
           }
          ],
          "contourcarpet": [
           {
            "type": "contourcarpet",
            "colorbar": {
             "outlinewidth": 0,
             "ticks": ""
            }
           }
          ],
          "contour": [
           {
            "type": "contour",
            "colorbar": {
             "outlinewidth": 0,
             "ticks": ""
            },
            "colorscale": [
             [
              0.0,
              "#0d0887"
             ],
             [
              0.1111111111111111,
              "#46039f"
             ],
             [
              0.2222222222222222,
              "#7201a8"
             ],
             [
              0.3333333333333333,
              "#9c179e"
             ],
             [
              0.4444444444444444,
              "#bd3786"
             ],
             [
              0.5555555555555556,
              "#d8576b"
             ],
             [
              0.6666666666666666,
              "#ed7953"
             ],
             [
              0.7777777777777778,
              "#fb9f3a"
             ],
             [
              0.8888888888888888,
              "#fdca26"
             ],
             [
              1.0,
              "#f0f921"
             ]
            ]
           }
          ],
          "surface": [
           {
            "type": "surface",
            "colorbar": {
             "outlinewidth": 0,
             "ticks": ""
            },
            "colorscale": [
             [
              0.0,
              "#0d0887"
             ],
             [
              0.1111111111111111,
              "#46039f"
             ],
             [
              0.2222222222222222,
              "#7201a8"
             ],
             [
              0.3333333333333333,
              "#9c179e"
             ],
             [
              0.4444444444444444,
              "#bd3786"
             ],
             [
              0.5555555555555556,
              "#d8576b"
             ],
             [
              0.6666666666666666,
              "#ed7953"
             ],
             [
              0.7777777777777778,
              "#fb9f3a"
             ],
             [
              0.8888888888888888,
              "#fdca26"
             ],
             [
              1.0,
              "#f0f921"
             ]
            ]
           }
          ],
          "mesh3d": [
           {
            "type": "mesh3d",
            "colorbar": {
             "outlinewidth": 0,
             "ticks": ""
            }
           }
          ],
          "scatter": [
           {
            "marker": {
             "line": {
              "color": "#283442"
             }
            },
            "type": "scatter"
           }
          ],
          "parcoords": [
           {
            "type": "parcoords",
            "line": {
             "colorbar": {
              "outlinewidth": 0,
              "ticks": ""
             }
            }
           }
          ],
          "scatterpolargl": [
           {
            "type": "scatterpolargl",
            "marker": {
             "colorbar": {
              "outlinewidth": 0,
              "ticks": ""
             }
            }
           }
          ],
          "bar": [
           {
            "error_x": {
             "color": "#f2f5fa"
            },
            "error_y": {
             "color": "#f2f5fa"
            },
            "marker": {
             "line": {
              "color": "rgb(17,17,17)",
              "width": 0.5
             },
             "pattern": {
              "fillmode": "overlay",
              "size": 10,
              "solidity": 0.2
             }
            },
            "type": "bar"
           }
          ],
          "scattergeo": [
           {
            "type": "scattergeo",
            "marker": {
             "colorbar": {
              "outlinewidth": 0,
              "ticks": ""
             }
            }
           }
          ],
          "scatterpolar": [
           {
            "type": "scatterpolar",
            "marker": {
             "colorbar": {
              "outlinewidth": 0,
              "ticks": ""
             }
            }
           }
          ],
          "histogram": [
           {
            "marker": {
             "pattern": {
              "fillmode": "overlay",
              "size": 10,
              "solidity": 0.2
             }
            },
            "type": "histogram"
           }
          ],
          "scattergl": [
           {
            "marker": {
             "line": {
              "color": "#283442"
             }
            },
            "type": "scattergl"
           }
          ],
          "scatter3d": [
           {
            "type": "scatter3d",
            "line": {
             "colorbar": {
              "outlinewidth": 0,
              "ticks": ""
             }
            },
            "marker": {
             "colorbar": {
              "outlinewidth": 0,
              "ticks": ""
             }
            }
           }
          ],
          "scattermapbox": [
           {
            "type": "scattermapbox",
            "marker": {
             "colorbar": {
              "outlinewidth": 0,
              "ticks": ""
             }
            }
           }
          ],
          "scatterternary": [
           {
            "type": "scatterternary",
            "marker": {
             "colorbar": {
              "outlinewidth": 0,
              "ticks": ""
             }
            }
           }
          ],
          "scattercarpet": [
           {
            "type": "scattercarpet",
            "marker": {
             "colorbar": {
              "outlinewidth": 0,
              "ticks": ""
             }
            }
           }
          ],
          "carpet": [
           {
            "aaxis": {
             "endlinecolor": "#A2B1C6",
             "gridcolor": "#506784",
             "linecolor": "#506784",
             "minorgridcolor": "#506784",
             "startlinecolor": "#A2B1C6"
            },
            "baxis": {
             "endlinecolor": "#A2B1C6",
             "gridcolor": "#506784",
             "linecolor": "#506784",
             "minorgridcolor": "#506784",
             "startlinecolor": "#A2B1C6"
            },
            "type": "carpet"
           }
          ],
          "table": [
           {
            "cells": {
             "fill": {
              "color": "#506784"
             },
             "line": {
              "color": "rgb(17,17,17)"
             }
            },
            "header": {
             "fill": {
              "color": "#2a3f5f"
             },
             "line": {
              "color": "rgb(17,17,17)"
             }
            },
            "type": "table"
           }
          ],
          "barpolar": [
           {
            "marker": {
             "line": {
              "color": "rgb(17,17,17)",
              "width": 0.5
             },
             "pattern": {
              "fillmode": "overlay",
              "size": 10,
              "solidity": 0.2
             }
            },
            "type": "barpolar"
           }
          ],
          "pie": [
           {
            "automargin": true,
            "type": "pie"
           }
          ]
         },
         "layout": {
          "autotypenumbers": "strict",
          "colorway": [
           "#636efa",
           "#EF553B",
           "#00cc96",
           "#ab63fa",
           "#FFA15A",
           "#19d3f3",
           "#FF6692",
           "#B6E880",
           "#FF97FF",
           "#FECB52"
          ],
          "font": {
           "color": "#f2f5fa"
          },
          "hovermode": "closest",
          "hoverlabel": {
           "align": "left"
          },
          "paper_bgcolor": "rgb(17,17,17)",
          "plot_bgcolor": "rgb(17,17,17)",
          "polar": {
           "bgcolor": "rgb(17,17,17)",
           "angularaxis": {
            "gridcolor": "#506784",
            "linecolor": "#506784",
            "ticks": ""
           },
           "radialaxis": {
            "gridcolor": "#506784",
            "linecolor": "#506784",
            "ticks": ""
           }
          },
          "ternary": {
           "bgcolor": "rgb(17,17,17)",
           "aaxis": {
            "gridcolor": "#506784",
            "linecolor": "#506784",
            "ticks": ""
           },
           "baxis": {
            "gridcolor": "#506784",
            "linecolor": "#506784",
            "ticks": ""
           },
           "caxis": {
            "gridcolor": "#506784",
            "linecolor": "#506784",
            "ticks": ""
           }
          },
          "coloraxis": {
           "colorbar": {
            "outlinewidth": 0,
            "ticks": ""
           }
          },
          "colorscale": {
           "sequential": [
            [
             0.0,
             "#0d0887"
            ],
            [
             0.1111111111111111,
             "#46039f"
            ],
            [
             0.2222222222222222,
             "#7201a8"
            ],
            [
             0.3333333333333333,
             "#9c179e"
            ],
            [
             0.4444444444444444,
             "#bd3786"
            ],
            [
             0.5555555555555556,
             "#d8576b"
            ],
            [
             0.6666666666666666,
             "#ed7953"
            ],
            [
             0.7777777777777778,
             "#fb9f3a"
            ],
            [
             0.8888888888888888,
             "#fdca26"
            ],
            [
             1.0,
             "#f0f921"
            ]
           ],
           "sequentialminus": [
            [
             0.0,
             "#0d0887"
            ],
            [
             0.1111111111111111,
             "#46039f"
            ],
            [
             0.2222222222222222,
             "#7201a8"
            ],
            [
             0.3333333333333333,
             "#9c179e"
            ],
            [
             0.4444444444444444,
             "#bd3786"
            ],
            [
             0.5555555555555556,
             "#d8576b"
            ],
            [
             0.6666666666666666,
             "#ed7953"
            ],
            [
             0.7777777777777778,
             "#fb9f3a"
            ],
            [
             0.8888888888888888,
             "#fdca26"
            ],
            [
             1.0,
             "#f0f921"
            ]
           ],
           "diverging": [
            [
             0,
             "#8e0152"
            ],
            [
             0.1,
             "#c51b7d"
            ],
            [
             0.2,
             "#de77ae"
            ],
            [
             0.3,
             "#f1b6da"
            ],
            [
             0.4,
             "#fde0ef"
            ],
            [
             0.5,
             "#f7f7f7"
            ],
            [
             0.6,
             "#e6f5d0"
            ],
            [
             0.7,
             "#b8e186"
            ],
            [
             0.8,
             "#7fbc41"
            ],
            [
             0.9,
             "#4d9221"
            ],
            [
             1,
             "#276419"
            ]
           ]
          },
          "xaxis": {
           "gridcolor": "#283442",
           "linecolor": "#506784",
           "ticks": "",
           "title": {
            "standoff": 15
           },
           "zerolinecolor": "#283442",
           "automargin": true,
           "zerolinewidth": 2
          },
          "yaxis": {
           "gridcolor": "#283442",
           "linecolor": "#506784",
           "ticks": "",
           "title": {
            "standoff": 15
           },
           "zerolinecolor": "#283442",
           "automargin": true,
           "zerolinewidth": 2
          },
          "scene": {
           "xaxis": {
            "backgroundcolor": "rgb(17,17,17)",
            "gridcolor": "#506784",
            "linecolor": "#506784",
            "showbackground": true,
            "ticks": "",
            "zerolinecolor": "#C8D4E3",
            "gridwidth": 2
           },
           "yaxis": {
            "backgroundcolor": "rgb(17,17,17)",
            "gridcolor": "#506784",
            "linecolor": "#506784",
            "showbackground": true,
            "ticks": "",
            "zerolinecolor": "#C8D4E3",
            "gridwidth": 2
           },
           "zaxis": {
            "backgroundcolor": "rgb(17,17,17)",
            "gridcolor": "#506784",
            "linecolor": "#506784",
            "showbackground": true,
            "ticks": "",
            "zerolinecolor": "#C8D4E3",
            "gridwidth": 2
           }
          },
          "shapedefaults": {
           "line": {
            "color": "#f2f5fa"
           }
          },
          "annotationdefaults": {
           "arrowcolor": "#f2f5fa",
           "arrowhead": 0,
           "arrowwidth": 1
          },
          "geo": {
           "bgcolor": "rgb(17,17,17)",
           "landcolor": "rgb(17,17,17)",
           "subunitcolor": "#506784",
           "showland": true,
           "showlakes": true,
           "lakecolor": "rgb(17,17,17)"
          },
          "title": {
           "x": 0.05
          },
          "updatemenudefaults": {
           "bgcolor": "#506784",
           "borderwidth": 0
          },
          "sliderdefaults": {
           "bgcolor": "#C8D4E3",
           "borderwidth": 1,
           "bordercolor": "rgb(17,17,17)",
           "tickwidth": 0
          },
          "mapbox": {
           "style": "dark"
          }
         }
        },
        "xaxis": {
         "anchor": "y",
         "domain": [
          0.0,
          1.0
         ],
         "title": {
          "text": "CVE_ID"
         },
         "categoryorder": "array",
         "categoryarray": [
          "CVE-2019-11358",
          "CVE-2021-44228",
          "CVE-2014-6271",
          "CVE-2014-0160",
          "CVE-2019-0708",
          "CVE-2020-0796",
          "CVE-2016-5195",
          "CVE-2022-22965",
          "CVE-2017-5638",
          "CVE-2021-3156"
         ]
        },
        "yaxis": {
         "anchor": "x",
         "domain": [
          0.0,
          1.0
         ],
         "title": {
          "text": "COUNT"
         },
         "range": [
          0,
          1500
         ]
        },
        "legend": {
         "title": {
          "text": "CVE_ID"
         },
         "tracegroupgap": 0
        },
        "title": {
         "text": "CVE with most poc"
        },
        "barmode": "relative",
        "height": 1000,
        "width": 1000
       },
       "config": {
        "plotlyServerURL": "https://plot.ly"
       }
      },
      "text/html": "<div>                            <div id=\"863ed168-d31a-42cc-8655-827a08881245\" class=\"plotly-graph-div\" style=\"height:1000px; width:1000px;\"></div>            <script type=\"text/javascript\">                require([\"plotly\"], function(Plotly) {                    window.PLOTLYENV=window.PLOTLYENV || {};                                    if (document.getElementById(\"863ed168-d31a-42cc-8655-827a08881245\")) {                    Plotly.newPlot(                        \"863ed168-d31a-42cc-8655-827a08881245\",                        [{\"alignmentgroup\":\"True\",\"hovertemplate\":\"CVE_ID=%{x}<br>COUNT=%{y}<extra></extra>\",\"legendgroup\":\"CVE-2019-11358\",\"marker\":{\"color\":\"#636efa\",\"pattern\":{\"shape\":\"\"}},\"name\":\"CVE-2019-11358\",\"offsetgroup\":\"CVE-2019-11358\",\"orientation\":\"v\",\"showlegend\":true,\"textposition\":\"auto\",\"x\":[\"CVE-2019-11358\"],\"xaxis\":\"x\",\"y\":[1435],\"yaxis\":\"y\",\"type\":\"bar\"},{\"alignmentgroup\":\"True\",\"hovertemplate\":\"CVE_ID=%{x}<br>COUNT=%{y}<extra></extra>\",\"legendgroup\":\"CVE-2021-44228\",\"marker\":{\"color\":\"#EF553B\",\"pattern\":{\"shape\":\"\"}},\"name\":\"CVE-2021-44228\",\"offsetgroup\":\"CVE-2021-44228\",\"orientation\":\"v\",\"showlegend\":true,\"textposition\":\"auto\",\"x\":[\"CVE-2021-44228\"],\"xaxis\":\"x\",\"y\":[417],\"yaxis\":\"y\",\"type\":\"bar\"},{\"alignmentgroup\":\"True\",\"hovertemplate\":\"CVE_ID=%{x}<br>COUNT=%{y}<extra></extra>\",\"legendgroup\":\"CVE-2014-6271\",\"marker\":{\"color\":\"#00cc96\",\"pattern\":{\"shape\":\"\"}},\"name\":\"CVE-2014-6271\",\"offsetgroup\":\"CVE-2014-6271\",\"orientation\":\"v\",\"showlegend\":true,\"textposition\":\"auto\",\"x\":[\"CVE-2014-6271\"],\"xaxis\":\"x\",\"y\":[395],\"yaxis\":\"y\",\"type\":\"bar\"},{\"alignmentgroup\":\"True\",\"hovertemplate\":\"CVE_ID=%{x}<br>COUNT=%{y}<extra></extra>\",\"legendgroup\":\"CVE-2014-0160\",\"marker\":{\"color\":\"#ab63fa\",\"pattern\":{\"shape\":\"\"}},\"name\":\"CVE-2014-0160\",\"offsetgroup\":\"CVE-2014-0160\",\"orientation\":\"v\",\"showlegend\":true,\"textposition\":\"auto\",\"x\":[\"CVE-2014-0160\"],\"xaxis\":\"x\",\"y\":[372],\"yaxis\":\"y\",\"type\":\"bar\"},{\"alignmentgroup\":\"True\",\"hovertemplate\":\"CVE_ID=%{x}<br>COUNT=%{y}<extra></extra>\",\"legendgroup\":\"CVE-2019-0708\",\"marker\":{\"color\":\"#FFA15A\",\"pattern\":{\"shape\":\"\"}},\"name\":\"CVE-2019-0708\",\"offsetgroup\":\"CVE-2019-0708\",\"orientation\":\"v\",\"showlegend\":true,\"textposition\":\"auto\",\"x\":[\"CVE-2019-0708\"],\"xaxis\":\"x\",\"y\":[270],\"yaxis\":\"y\",\"type\":\"bar\"},{\"alignmentgroup\":\"True\",\"hovertemplate\":\"CVE_ID=%{x}<br>COUNT=%{y}<extra></extra>\",\"legendgroup\":\"CVE-2020-0796\",\"marker\":{\"color\":\"#19d3f3\",\"pattern\":{\"shape\":\"\"}},\"name\":\"CVE-2020-0796\",\"offsetgroup\":\"CVE-2020-0796\",\"orientation\":\"v\",\"showlegend\":true,\"textposition\":\"auto\",\"x\":[\"CVE-2020-0796\"],\"xaxis\":\"x\",\"y\":[189],\"yaxis\":\"y\",\"type\":\"bar\"},{\"alignmentgroup\":\"True\",\"hovertemplate\":\"CVE_ID=%{x}<br>COUNT=%{y}<extra></extra>\",\"legendgroup\":\"CVE-2016-5195\",\"marker\":{\"color\":\"#FF6692\",\"pattern\":{\"shape\":\"\"}},\"name\":\"CVE-2016-5195\",\"offsetgroup\":\"CVE-2016-5195\",\"orientation\":\"v\",\"showlegend\":true,\"textposition\":\"auto\",\"x\":[\"CVE-2016-5195\"],\"xaxis\":\"x\",\"y\":[176],\"yaxis\":\"y\",\"type\":\"bar\"},{\"alignmentgroup\":\"True\",\"hovertemplate\":\"CVE_ID=%{x}<br>COUNT=%{y}<extra></extra>\",\"legendgroup\":\"CVE-2022-22965\",\"marker\":{\"color\":\"#B6E880\",\"pattern\":{\"shape\":\"\"}},\"name\":\"CVE-2022-22965\",\"offsetgroup\":\"CVE-2022-22965\",\"orientation\":\"v\",\"showlegend\":true,\"textposition\":\"auto\",\"x\":[\"CVE-2022-22965\"],\"xaxis\":\"x\",\"y\":[173],\"yaxis\":\"y\",\"type\":\"bar\"},{\"alignmentgroup\":\"True\",\"hovertemplate\":\"CVE_ID=%{x}<br>COUNT=%{y}<extra></extra>\",\"legendgroup\":\"CVE-2017-5638\",\"marker\":{\"color\":\"#FF97FF\",\"pattern\":{\"shape\":\"\"}},\"name\":\"CVE-2017-5638\",\"offsetgroup\":\"CVE-2017-5638\",\"orientation\":\"v\",\"showlegend\":true,\"textposition\":\"auto\",\"x\":[\"CVE-2017-5638\"],\"xaxis\":\"x\",\"y\":[157],\"yaxis\":\"y\",\"type\":\"bar\"},{\"alignmentgroup\":\"True\",\"hovertemplate\":\"CVE_ID=%{x}<br>COUNT=%{y}<extra></extra>\",\"legendgroup\":\"CVE-2021-3156\",\"marker\":{\"color\":\"#FECB52\",\"pattern\":{\"shape\":\"\"}},\"name\":\"CVE-2021-3156\",\"offsetgroup\":\"CVE-2021-3156\",\"orientation\":\"v\",\"showlegend\":true,\"textposition\":\"auto\",\"x\":[\"CVE-2021-3156\"],\"xaxis\":\"x\",\"y\":[150],\"yaxis\":\"y\",\"type\":\"bar\"}],                        {\"template\":{\"data\":{\"histogram2dcontour\":[{\"type\":\"histogram2dcontour\",\"colorbar\":{\"outlinewidth\":0,\"ticks\":\"\"},\"colorscale\":[[0.0,\"#0d0887\"],[0.1111111111111111,\"#46039f\"],[0.2222222222222222,\"#7201a8\"],[0.3333333333333333,\"#9c179e\"],[0.4444444444444444,\"#bd3786\"],[0.5555555555555556,\"#d8576b\"],[0.6666666666666666,\"#ed7953\"],[0.7777777777777778,\"#fb9f3a\"],[0.8888888888888888,\"#fdca26\"],[1.0,\"#f0f921\"]]}],\"choropleth\":[{\"type\":\"choropleth\",\"colorbar\":{\"outlinewidth\":0,\"ticks\":\"\"}}],\"histogram2d\":[{\"type\":\"histogram2d\",\"colorbar\":{\"outlinewidth\":0,\"ticks\":\"\"},\"colorscale\":[[0.0,\"#0d0887\"],[0.1111111111111111,\"#46039f\"],[0.2222222222222222,\"#7201a8\"],[0.3333333333333333,\"#9c179e\"],[0.4444444444444444,\"#bd3786\"],[0.5555555555555556,\"#d8576b\"],[0.6666666666666666,\"#ed7953\"],[0.7777777777777778,\"#fb9f3a\"],[0.8888888888888888,\"#fdca26\"],[1.0,\"#f0f921\"]]}],\"heatmap\":[{\"type\":\"heatmap\",\"colorbar\":{\"outlinewidth\":0,\"ticks\":\"\"},\"colorscale\":[[0.0,\"#0d0887\"],[0.1111111111111111,\"#46039f\"],[0.2222222222222222,\"#7201a8\"],[0.3333333333333333,\"#9c179e\"],[0.4444444444444444,\"#bd3786\"],[0.5555555555555556,\"#d8576b\"],[0.6666666666666666,\"#ed7953\"],[0.7777777777777778,\"#fb9f3a\"],[0.8888888888888888,\"#fdca26\"],[1.0,\"#f0f921\"]]}],\"heatmapgl\":[{\"type\":\"heatmapgl\",\"colorbar\":{\"outlinewidth\":0,\"ticks\":\"\"},\"colorscale\":[[0.0,\"#0d0887\"],[0.1111111111111111,\"#46039f\"],[0.2222222222222222,\"#7201a8\"],[0.3333333333333333,\"#9c179e\"],[0.4444444444444444,\"#bd3786\"],[0.5555555555555556,\"#d8576b\"],[0.6666666666666666,\"#ed7953\"],[0.7777777777777778,\"#fb9f3a\"],[0.8888888888888888,\"#fdca26\"],[1.0,\"#f0f921\"]]}],\"contourcarpet\":[{\"type\":\"contourcarpet\",\"colorbar\":{\"outlinewidth\":0,\"ticks\":\"\"}}],\"contour\":[{\"type\":\"contour\",\"colorbar\":{\"outlinewidth\":0,\"ticks\":\"\"},\"colorscale\":[[0.0,\"#0d0887\"],[0.1111111111111111,\"#46039f\"],[0.2222222222222222,\"#7201a8\"],[0.3333333333333333,\"#9c179e\"],[0.4444444444444444,\"#bd3786\"],[0.5555555555555556,\"#d8576b\"],[0.6666666666666666,\"#ed7953\"],[0.7777777777777778,\"#fb9f3a\"],[0.8888888888888888,\"#fdca26\"],[1.0,\"#f0f921\"]]}],\"surface\":[{\"type\":\"surface\",\"colorbar\":{\"outlinewidth\":0,\"ticks\":\"\"},\"colorscale\":[[0.0,\"#0d0887\"],[0.1111111111111111,\"#46039f\"],[0.2222222222222222,\"#7201a8\"],[0.3333333333333333,\"#9c179e\"],[0.4444444444444444,\"#bd3786\"],[0.5555555555555556,\"#d8576b\"],[0.6666666666666666,\"#ed7953\"],[0.7777777777777778,\"#fb9f3a\"],[0.8888888888888888,\"#fdca26\"],[1.0,\"#f0f921\"]]}],\"mesh3d\":[{\"type\":\"mesh3d\",\"colorbar\":{\"outlinewidth\":0,\"ticks\":\"\"}}],\"scatter\":[{\"marker\":{\"line\":{\"color\":\"#283442\"}},\"type\":\"scatter\"}],\"parcoords\":[{\"type\":\"parcoords\",\"line\":{\"colorbar\":{\"outlinewidth\":0,\"ticks\":\"\"}}}],\"scatterpolargl\":[{\"type\":\"scatterpolargl\",\"marker\":{\"colorbar\":{\"outlinewidth\":0,\"ticks\":\"\"}}}],\"bar\":[{\"error_x\":{\"color\":\"#f2f5fa\"},\"error_y\":{\"color\":\"#f2f5fa\"},\"marker\":{\"line\":{\"color\":\"rgb(17,17,17)\",\"width\":0.5},\"pattern\":{\"fillmode\":\"overlay\",\"size\":10,\"solidity\":0.2}},\"type\":\"bar\"}],\"scattergeo\":[{\"type\":\"scattergeo\",\"marker\":{\"colorbar\":{\"outlinewidth\":0,\"ticks\":\"\"}}}],\"scatterpolar\":[{\"type\":\"scatterpolar\",\"marker\":{\"colorbar\":{\"outlinewidth\":0,\"ticks\":\"\"}}}],\"histogram\":[{\"marker\":{\"pattern\":{\"fillmode\":\"overlay\",\"size\":10,\"solidity\":0.2}},\"type\":\"histogram\"}],\"scattergl\":[{\"marker\":{\"line\":{\"color\":\"#283442\"}},\"type\":\"scattergl\"}],\"scatter3d\":[{\"type\":\"scatter3d\",\"line\":{\"colorbar\":{\"outlinewidth\":0,\"ticks\":\"\"}},\"marker\":{\"colorbar\":{\"outlinewidth\":0,\"ticks\":\"\"}}}],\"scattermapbox\":[{\"type\":\"scattermapbox\",\"marker\":{\"colorbar\":{\"outlinewidth\":0,\"ticks\":\"\"}}}],\"scatterternary\":[{\"type\":\"scatterternary\",\"marker\":{\"colorbar\":{\"outlinewidth\":0,\"ticks\":\"\"}}}],\"scattercarpet\":[{\"type\":\"scattercarpet\",\"marker\":{\"colorbar\":{\"outlinewidth\":0,\"ticks\":\"\"}}}],\"carpet\":[{\"aaxis\":{\"endlinecolor\":\"#A2B1C6\",\"gridcolor\":\"#506784\",\"linecolor\":\"#506784\",\"minorgridcolor\":\"#506784\",\"startlinecolor\":\"#A2B1C6\"},\"baxis\":{\"endlinecolor\":\"#A2B1C6\",\"gridcolor\":\"#506784\",\"linecolor\":\"#506784\",\"minorgridcolor\":\"#506784\",\"startlinecolor\":\"#A2B1C6\"},\"type\":\"carpet\"}],\"table\":[{\"cells\":{\"fill\":{\"color\":\"#506784\"},\"line\":{\"color\":\"rgb(17,17,17)\"}},\"header\":{\"fill\":{\"color\":\"#2a3f5f\"},\"line\":{\"color\":\"rgb(17,17,17)\"}},\"type\":\"table\"}],\"barpolar\":[{\"marker\":{\"line\":{\"color\":\"rgb(17,17,17)\",\"width\":0.5},\"pattern\":{\"fillmode\":\"overlay\",\"size\":10,\"solidity\":0.2}},\"type\":\"barpolar\"}],\"pie\":[{\"automargin\":true,\"type\":\"pie\"}]},\"layout\":{\"autotypenumbers\":\"strict\",\"colorway\":[\"#636efa\",\"#EF553B\",\"#00cc96\",\"#ab63fa\",\"#FFA15A\",\"#19d3f3\",\"#FF6692\",\"#B6E880\",\"#FF97FF\",\"#FECB52\"],\"font\":{\"color\":\"#f2f5fa\"},\"hovermode\":\"closest\",\"hoverlabel\":{\"align\":\"left\"},\"paper_bgcolor\":\"rgb(17,17,17)\",\"plot_bgcolor\":\"rgb(17,17,17)\",\"polar\":{\"bgcolor\":\"rgb(17,17,17)\",\"angularaxis\":{\"gridcolor\":\"#506784\",\"linecolor\":\"#506784\",\"ticks\":\"\"},\"radialaxis\":{\"gridcolor\":\"#506784\",\"linecolor\":\"#506784\",\"ticks\":\"\"}},\"ternary\":{\"bgcolor\":\"rgb(17,17,17)\",\"aaxis\":{\"gridcolor\":\"#506784\",\"linecolor\":\"#506784\",\"ticks\":\"\"},\"baxis\":{\"gridcolor\":\"#506784\",\"linecolor\":\"#506784\",\"ticks\":\"\"},\"caxis\":{\"gridcolor\":\"#506784\",\"linecolor\":\"#506784\",\"ticks\":\"\"}},\"coloraxis\":{\"colorbar\":{\"outlinewidth\":0,\"ticks\":\"\"}},\"colorscale\":{\"sequential\":[[0.0,\"#0d0887\"],[0.1111111111111111,\"#46039f\"],[0.2222222222222222,\"#7201a8\"],[0.3333333333333333,\"#9c179e\"],[0.4444444444444444,\"#bd3786\"],[0.5555555555555556,\"#d8576b\"],[0.6666666666666666,\"#ed7953\"],[0.7777777777777778,\"#fb9f3a\"],[0.8888888888888888,\"#fdca26\"],[1.0,\"#f0f921\"]],\"sequentialminus\":[[0.0,\"#0d0887\"],[0.1111111111111111,\"#46039f\"],[0.2222222222222222,\"#7201a8\"],[0.3333333333333333,\"#9c179e\"],[0.4444444444444444,\"#bd3786\"],[0.5555555555555556,\"#d8576b\"],[0.6666666666666666,\"#ed7953\"],[0.7777777777777778,\"#fb9f3a\"],[0.8888888888888888,\"#fdca26\"],[1.0,\"#f0f921\"]],\"diverging\":[[0,\"#8e0152\"],[0.1,\"#c51b7d\"],[0.2,\"#de77ae\"],[0.3,\"#f1b6da\"],[0.4,\"#fde0ef\"],[0.5,\"#f7f7f7\"],[0.6,\"#e6f5d0\"],[0.7,\"#b8e186\"],[0.8,\"#7fbc41\"],[0.9,\"#4d9221\"],[1,\"#276419\"]]},\"xaxis\":{\"gridcolor\":\"#283442\",\"linecolor\":\"#506784\",\"ticks\":\"\",\"title\":{\"standoff\":15},\"zerolinecolor\":\"#283442\",\"automargin\":true,\"zerolinewidth\":2},\"yaxis\":{\"gridcolor\":\"#283442\",\"linecolor\":\"#506784\",\"ticks\":\"\",\"title\":{\"standoff\":15},\"zerolinecolor\":\"#283442\",\"automargin\":true,\"zerolinewidth\":2},\"scene\":{\"xaxis\":{\"backgroundcolor\":\"rgb(17,17,17)\",\"gridcolor\":\"#506784\",\"linecolor\":\"#506784\",\"showbackground\":true,\"ticks\":\"\",\"zerolinecolor\":\"#C8D4E3\",\"gridwidth\":2},\"yaxis\":{\"backgroundcolor\":\"rgb(17,17,17)\",\"gridcolor\":\"#506784\",\"linecolor\":\"#506784\",\"showbackground\":true,\"ticks\":\"\",\"zerolinecolor\":\"#C8D4E3\",\"gridwidth\":2},\"zaxis\":{\"backgroundcolor\":\"rgb(17,17,17)\",\"gridcolor\":\"#506784\",\"linecolor\":\"#506784\",\"showbackground\":true,\"ticks\":\"\",\"zerolinecolor\":\"#C8D4E3\",\"gridwidth\":2}},\"shapedefaults\":{\"line\":{\"color\":\"#f2f5fa\"}},\"annotationdefaults\":{\"arrowcolor\":\"#f2f5fa\",\"arrowhead\":0,\"arrowwidth\":1},\"geo\":{\"bgcolor\":\"rgb(17,17,17)\",\"landcolor\":\"rgb(17,17,17)\",\"subunitcolor\":\"#506784\",\"showland\":true,\"showlakes\":true,\"lakecolor\":\"rgb(17,17,17)\"},\"title\":{\"x\":0.05},\"updatemenudefaults\":{\"bgcolor\":\"#506784\",\"borderwidth\":0},\"sliderdefaults\":{\"bgcolor\":\"#C8D4E3\",\"borderwidth\":1,\"bordercolor\":\"rgb(17,17,17)\",\"tickwidth\":0},\"mapbox\":{\"style\":\"dark\"}}},\"xaxis\":{\"anchor\":\"y\",\"domain\":[0.0,1.0],\"title\":{\"text\":\"CVE_ID\"},\"categoryorder\":\"array\",\"categoryarray\":[\"CVE-2019-11358\",\"CVE-2021-44228\",\"CVE-2014-6271\",\"CVE-2014-0160\",\"CVE-2019-0708\",\"CVE-2020-0796\",\"CVE-2016-5195\",\"CVE-2022-22965\",\"CVE-2017-5638\",\"CVE-2021-3156\"]},\"yaxis\":{\"anchor\":\"x\",\"domain\":[0.0,1.0],\"title\":{\"text\":\"COUNT\"},\"range\":[0,1500]},\"legend\":{\"title\":{\"text\":\"CVE_ID\"},\"tracegroupgap\":0},\"title\":{\"text\":\"CVE with most poc\"},\"barmode\":\"relative\",\"height\":1000,\"width\":1000},                        {\"responsive\": true}                    ).then(function(){\n                            \nvar gd = document.getElementById('863ed168-d31a-42cc-8655-827a08881245');\nvar x = new MutationObserver(function (mutations, observer) {{\n        var display = window.getComputedStyle(gd).display;\n        if (!display || display === 'none') {{\n            console.log([gd, 'removed!']);\n            Plotly.purge(gd);\n            observer.disconnect();\n        }}\n}});\n\n// Listen for the removal of the full notebook cells\nvar notebookContainer = gd.closest('#notebook-container');\nif (notebookContainer) {{\n    x.observe(notebookContainer, {childList: true});\n}}\n\n// Listen for the clearing of the current output cell\nvar outputEl = gd.closest('.output');\nif (outputEl) {{\n    x.observe(outputEl, {childList: true});\n}}\n\n                        })                };                });            </script>        </div>"
     },
     "metadata": {},
     "output_type": "display_data"
    }
   ],
   "source": [
    "fig =px.bar(df, x = \"CVE_ID\", y = \"COUNT\",color=\"CVE_ID\", title = \"CVE with most poc\", width=1000, height=1000)\n",
    "\n",
    "fig.update_yaxes(range=[0, 1500], row=1, col=1)\n",
    "\n",
    "fig.show()"
   ],
   "metadata": {
    "collapsed": false,
    "pycharm": {
     "name": "#%%\n"
    }
   }
  },
  {
   "cell_type": "code",
   "execution_count": 24,
   "outputs": [
    {
     "data": {
      "application/vnd.plotly.v1+json": {
       "data": [
        {
         "hovertemplate": "<b>%{hovertext}</b><br><br>CVE_ID=%{text}<br>YEAR=%{x}<br>COUNT=%{marker.size}<extra></extra>",
         "hovertext": [
          "CVE-2019-11358"
         ],
         "legendgroup": "CVE-2019-11358",
         "marker": {
          "color": "#636efa",
          "size": [
           1435
          ],
          "sizemode": "area",
          "sizeref": 0.03253968253968254,
          "symbol": "circle"
         },
         "mode": "markers+text",
         "name": "CVE-2019-11358",
         "orientation": "v",
         "showlegend": true,
         "text": [
          "CVE-2019-11358"
         ],
         "x": [
          2019
         ],
         "xaxis": "x",
         "y": [
          1435
         ],
         "yaxis": "y",
         "type": "scatter"
        },
        {
         "hovertemplate": "<b>%{hovertext}</b><br><br>CVE_ID=%{text}<br>YEAR=%{x}<br>COUNT=%{marker.size}<extra></extra>",
         "hovertext": [
          "CVE-2021-44228"
         ],
         "legendgroup": "CVE-2021-44228",
         "marker": {
          "color": "#EF553B",
          "size": [
           417
          ],
          "sizemode": "area",
          "sizeref": 0.03253968253968254,
          "symbol": "circle"
         },
         "mode": "markers+text",
         "name": "CVE-2021-44228",
         "orientation": "v",
         "showlegend": true,
         "text": [
          "CVE-2021-44228"
         ],
         "x": [
          2021
         ],
         "xaxis": "x",
         "y": [
          417
         ],
         "yaxis": "y",
         "type": "scatter"
        },
        {
         "hovertemplate": "<b>%{hovertext}</b><br><br>CVE_ID=%{text}<br>YEAR=%{x}<br>COUNT=%{marker.size}<extra></extra>",
         "hovertext": [
          "CVE-2014-6271"
         ],
         "legendgroup": "CVE-2014-6271",
         "marker": {
          "color": "#00cc96",
          "size": [
           395
          ],
          "sizemode": "area",
          "sizeref": 0.03253968253968254,
          "symbol": "circle"
         },
         "mode": "markers+text",
         "name": "CVE-2014-6271",
         "orientation": "v",
         "showlegend": true,
         "text": [
          "CVE-2014-6271"
         ],
         "x": [
          2014
         ],
         "xaxis": "x",
         "y": [
          395
         ],
         "yaxis": "y",
         "type": "scatter"
        },
        {
         "hovertemplate": "<b>%{hovertext}</b><br><br>CVE_ID=%{text}<br>YEAR=%{x}<br>COUNT=%{marker.size}<extra></extra>",
         "hovertext": [
          "CVE-2014-0160"
         ],
         "legendgroup": "CVE-2014-0160",
         "marker": {
          "color": "#ab63fa",
          "size": [
           372
          ],
          "sizemode": "area",
          "sizeref": 0.03253968253968254,
          "symbol": "circle"
         },
         "mode": "markers+text",
         "name": "CVE-2014-0160",
         "orientation": "v",
         "showlegend": true,
         "text": [
          "CVE-2014-0160"
         ],
         "x": [
          2014
         ],
         "xaxis": "x",
         "y": [
          372
         ],
         "yaxis": "y",
         "type": "scatter"
        },
        {
         "hovertemplate": "<b>%{hovertext}</b><br><br>CVE_ID=%{text}<br>YEAR=%{x}<br>COUNT=%{marker.size}<extra></extra>",
         "hovertext": [
          "CVE-2019-0708"
         ],
         "legendgroup": "CVE-2019-0708",
         "marker": {
          "color": "#FFA15A",
          "size": [
           270
          ],
          "sizemode": "area",
          "sizeref": 0.03253968253968254,
          "symbol": "circle"
         },
         "mode": "markers+text",
         "name": "CVE-2019-0708",
         "orientation": "v",
         "showlegend": true,
         "text": [
          "CVE-2019-0708"
         ],
         "x": [
          2019
         ],
         "xaxis": "x",
         "y": [
          270
         ],
         "yaxis": "y",
         "type": "scatter"
        },
        {
         "hovertemplate": "<b>%{hovertext}</b><br><br>CVE_ID=%{text}<br>YEAR=%{x}<br>COUNT=%{marker.size}<extra></extra>",
         "hovertext": [
          "CVE-2020-0796"
         ],
         "legendgroup": "CVE-2020-0796",
         "marker": {
          "color": "#19d3f3",
          "size": [
           189
          ],
          "sizemode": "area",
          "sizeref": 0.03253968253968254,
          "symbol": "circle"
         },
         "mode": "markers+text",
         "name": "CVE-2020-0796",
         "orientation": "v",
         "showlegend": true,
         "text": [
          "CVE-2020-0796"
         ],
         "x": [
          2020
         ],
         "xaxis": "x",
         "y": [
          189
         ],
         "yaxis": "y",
         "type": "scatter"
        },
        {
         "hovertemplate": "<b>%{hovertext}</b><br><br>CVE_ID=%{text}<br>YEAR=%{x}<br>COUNT=%{marker.size}<extra></extra>",
         "hovertext": [
          "CVE-2016-5195"
         ],
         "legendgroup": "CVE-2016-5195",
         "marker": {
          "color": "#FF6692",
          "size": [
           176
          ],
          "sizemode": "area",
          "sizeref": 0.03253968253968254,
          "symbol": "circle"
         },
         "mode": "markers+text",
         "name": "CVE-2016-5195",
         "orientation": "v",
         "showlegend": true,
         "text": [
          "CVE-2016-5195"
         ],
         "x": [
          2016
         ],
         "xaxis": "x",
         "y": [
          176
         ],
         "yaxis": "y",
         "type": "scatter"
        },
        {
         "hovertemplate": "<b>%{hovertext}</b><br><br>CVE_ID=%{text}<br>YEAR=%{x}<br>COUNT=%{marker.size}<extra></extra>",
         "hovertext": [
          "CVE-2022-22965"
         ],
         "legendgroup": "CVE-2022-22965",
         "marker": {
          "color": "#B6E880",
          "size": [
           173
          ],
          "sizemode": "area",
          "sizeref": 0.03253968253968254,
          "symbol": "circle"
         },
         "mode": "markers+text",
         "name": "CVE-2022-22965",
         "orientation": "v",
         "showlegend": true,
         "text": [
          "CVE-2022-22965"
         ],
         "x": [
          2022
         ],
         "xaxis": "x",
         "y": [
          173
         ],
         "yaxis": "y",
         "type": "scatter"
        },
        {
         "hovertemplate": "<b>%{hovertext}</b><br><br>CVE_ID=%{text}<br>YEAR=%{x}<br>COUNT=%{marker.size}<extra></extra>",
         "hovertext": [
          "CVE-2017-5638"
         ],
         "legendgroup": "CVE-2017-5638",
         "marker": {
          "color": "#FF97FF",
          "size": [
           157
          ],
          "sizemode": "area",
          "sizeref": 0.03253968253968254,
          "symbol": "circle"
         },
         "mode": "markers+text",
         "name": "CVE-2017-5638",
         "orientation": "v",
         "showlegend": true,
         "text": [
          "CVE-2017-5638"
         ],
         "x": [
          2017
         ],
         "xaxis": "x",
         "y": [
          157
         ],
         "yaxis": "y",
         "type": "scatter"
        },
        {
         "hovertemplate": "<b>%{hovertext}</b><br><br>CVE_ID=%{text}<br>YEAR=%{x}<br>COUNT=%{marker.size}<extra></extra>",
         "hovertext": [
          "CVE-2021-3156"
         ],
         "legendgroup": "CVE-2021-3156",
         "marker": {
          "color": "#FECB52",
          "size": [
           150
          ],
          "sizemode": "area",
          "sizeref": 0.03253968253968254,
          "symbol": "circle"
         },
         "mode": "markers+text",
         "name": "CVE-2021-3156",
         "orientation": "v",
         "showlegend": true,
         "text": [
          "CVE-2021-3156"
         ],
         "x": [
          2021
         ],
         "xaxis": "x",
         "y": [
          150
         ],
         "yaxis": "y",
         "type": "scatter"
        }
       ],
       "layout": {
        "template": {
         "data": {
          "histogram2dcontour": [
           {
            "type": "histogram2dcontour",
            "colorbar": {
             "outlinewidth": 0,
             "ticks": ""
            },
            "colorscale": [
             [
              0.0,
              "#0d0887"
             ],
             [
              0.1111111111111111,
              "#46039f"
             ],
             [
              0.2222222222222222,
              "#7201a8"
             ],
             [
              0.3333333333333333,
              "#9c179e"
             ],
             [
              0.4444444444444444,
              "#bd3786"
             ],
             [
              0.5555555555555556,
              "#d8576b"
             ],
             [
              0.6666666666666666,
              "#ed7953"
             ],
             [
              0.7777777777777778,
              "#fb9f3a"
             ],
             [
              0.8888888888888888,
              "#fdca26"
             ],
             [
              1.0,
              "#f0f921"
             ]
            ]
           }
          ],
          "choropleth": [
           {
            "type": "choropleth",
            "colorbar": {
             "outlinewidth": 0,
             "ticks": ""
            }
           }
          ],
          "histogram2d": [
           {
            "type": "histogram2d",
            "colorbar": {
             "outlinewidth": 0,
             "ticks": ""
            },
            "colorscale": [
             [
              0.0,
              "#0d0887"
             ],
             [
              0.1111111111111111,
              "#46039f"
             ],
             [
              0.2222222222222222,
              "#7201a8"
             ],
             [
              0.3333333333333333,
              "#9c179e"
             ],
             [
              0.4444444444444444,
              "#bd3786"
             ],
             [
              0.5555555555555556,
              "#d8576b"
             ],
             [
              0.6666666666666666,
              "#ed7953"
             ],
             [
              0.7777777777777778,
              "#fb9f3a"
             ],
             [
              0.8888888888888888,
              "#fdca26"
             ],
             [
              1.0,
              "#f0f921"
             ]
            ]
           }
          ],
          "heatmap": [
           {
            "type": "heatmap",
            "colorbar": {
             "outlinewidth": 0,
             "ticks": ""
            },
            "colorscale": [
             [
              0.0,
              "#0d0887"
             ],
             [
              0.1111111111111111,
              "#46039f"
             ],
             [
              0.2222222222222222,
              "#7201a8"
             ],
             [
              0.3333333333333333,
              "#9c179e"
             ],
             [
              0.4444444444444444,
              "#bd3786"
             ],
             [
              0.5555555555555556,
              "#d8576b"
             ],
             [
              0.6666666666666666,
              "#ed7953"
             ],
             [
              0.7777777777777778,
              "#fb9f3a"
             ],
             [
              0.8888888888888888,
              "#fdca26"
             ],
             [
              1.0,
              "#f0f921"
             ]
            ]
           }
          ],
          "heatmapgl": [
           {
            "type": "heatmapgl",
            "colorbar": {
             "outlinewidth": 0,
             "ticks": ""
            },
            "colorscale": [
             [
              0.0,
              "#0d0887"
             ],
             [
              0.1111111111111111,
              "#46039f"
             ],
             [
              0.2222222222222222,
              "#7201a8"
             ],
             [
              0.3333333333333333,
              "#9c179e"
             ],
             [
              0.4444444444444444,
              "#bd3786"
             ],
             [
              0.5555555555555556,
              "#d8576b"
             ],
             [
              0.6666666666666666,
              "#ed7953"
             ],
             [
              0.7777777777777778,
              "#fb9f3a"
             ],
             [
              0.8888888888888888,
              "#fdca26"
             ],
             [
              1.0,
              "#f0f921"
             ]
            ]
           }
          ],
          "contourcarpet": [
           {
            "type": "contourcarpet",
            "colorbar": {
             "outlinewidth": 0,
             "ticks": ""
            }
           }
          ],
          "contour": [
           {
            "type": "contour",
            "colorbar": {
             "outlinewidth": 0,
             "ticks": ""
            },
            "colorscale": [
             [
              0.0,
              "#0d0887"
             ],
             [
              0.1111111111111111,
              "#46039f"
             ],
             [
              0.2222222222222222,
              "#7201a8"
             ],
             [
              0.3333333333333333,
              "#9c179e"
             ],
             [
              0.4444444444444444,
              "#bd3786"
             ],
             [
              0.5555555555555556,
              "#d8576b"
             ],
             [
              0.6666666666666666,
              "#ed7953"
             ],
             [
              0.7777777777777778,
              "#fb9f3a"
             ],
             [
              0.8888888888888888,
              "#fdca26"
             ],
             [
              1.0,
              "#f0f921"
             ]
            ]
           }
          ],
          "surface": [
           {
            "type": "surface",
            "colorbar": {
             "outlinewidth": 0,
             "ticks": ""
            },
            "colorscale": [
             [
              0.0,
              "#0d0887"
             ],
             [
              0.1111111111111111,
              "#46039f"
             ],
             [
              0.2222222222222222,
              "#7201a8"
             ],
             [
              0.3333333333333333,
              "#9c179e"
             ],
             [
              0.4444444444444444,
              "#bd3786"
             ],
             [
              0.5555555555555556,
              "#d8576b"
             ],
             [
              0.6666666666666666,
              "#ed7953"
             ],
             [
              0.7777777777777778,
              "#fb9f3a"
             ],
             [
              0.8888888888888888,
              "#fdca26"
             ],
             [
              1.0,
              "#f0f921"
             ]
            ]
           }
          ],
          "mesh3d": [
           {
            "type": "mesh3d",
            "colorbar": {
             "outlinewidth": 0,
             "ticks": ""
            }
           }
          ],
          "scatter": [
           {
            "marker": {
             "line": {
              "color": "#283442"
             }
            },
            "type": "scatter"
           }
          ],
          "parcoords": [
           {
            "type": "parcoords",
            "line": {
             "colorbar": {
              "outlinewidth": 0,
              "ticks": ""
             }
            }
           }
          ],
          "scatterpolargl": [
           {
            "type": "scatterpolargl",
            "marker": {
             "colorbar": {
              "outlinewidth": 0,
              "ticks": ""
             }
            }
           }
          ],
          "bar": [
           {
            "error_x": {
             "color": "#f2f5fa"
            },
            "error_y": {
             "color": "#f2f5fa"
            },
            "marker": {
             "line": {
              "color": "rgb(17,17,17)",
              "width": 0.5
             },
             "pattern": {
              "fillmode": "overlay",
              "size": 10,
              "solidity": 0.2
             }
            },
            "type": "bar"
           }
          ],
          "scattergeo": [
           {
            "type": "scattergeo",
            "marker": {
             "colorbar": {
              "outlinewidth": 0,
              "ticks": ""
             }
            }
           }
          ],
          "scatterpolar": [
           {
            "type": "scatterpolar",
            "marker": {
             "colorbar": {
              "outlinewidth": 0,
              "ticks": ""
             }
            }
           }
          ],
          "histogram": [
           {
            "marker": {
             "pattern": {
              "fillmode": "overlay",
              "size": 10,
              "solidity": 0.2
             }
            },
            "type": "histogram"
           }
          ],
          "scattergl": [
           {
            "marker": {
             "line": {
              "color": "#283442"
             }
            },
            "type": "scattergl"
           }
          ],
          "scatter3d": [
           {
            "type": "scatter3d",
            "line": {
             "colorbar": {
              "outlinewidth": 0,
              "ticks": ""
             }
            },
            "marker": {
             "colorbar": {
              "outlinewidth": 0,
              "ticks": ""
             }
            }
           }
          ],
          "scattermapbox": [
           {
            "type": "scattermapbox",
            "marker": {
             "colorbar": {
              "outlinewidth": 0,
              "ticks": ""
             }
            }
           }
          ],
          "scatterternary": [
           {
            "type": "scatterternary",
            "marker": {
             "colorbar": {
              "outlinewidth": 0,
              "ticks": ""
             }
            }
           }
          ],
          "scattercarpet": [
           {
            "type": "scattercarpet",
            "marker": {
             "colorbar": {
              "outlinewidth": 0,
              "ticks": ""
             }
            }
           }
          ],
          "carpet": [
           {
            "aaxis": {
             "endlinecolor": "#A2B1C6",
             "gridcolor": "#506784",
             "linecolor": "#506784",
             "minorgridcolor": "#506784",
             "startlinecolor": "#A2B1C6"
            },
            "baxis": {
             "endlinecolor": "#A2B1C6",
             "gridcolor": "#506784",
             "linecolor": "#506784",
             "minorgridcolor": "#506784",
             "startlinecolor": "#A2B1C6"
            },
            "type": "carpet"
           }
          ],
          "table": [
           {
            "cells": {
             "fill": {
              "color": "#506784"
             },
             "line": {
              "color": "rgb(17,17,17)"
             }
            },
            "header": {
             "fill": {
              "color": "#2a3f5f"
             },
             "line": {
              "color": "rgb(17,17,17)"
             }
            },
            "type": "table"
           }
          ],
          "barpolar": [
           {
            "marker": {
             "line": {
              "color": "rgb(17,17,17)",
              "width": 0.5
             },
             "pattern": {
              "fillmode": "overlay",
              "size": 10,
              "solidity": 0.2
             }
            },
            "type": "barpolar"
           }
          ],
          "pie": [
           {
            "automargin": true,
            "type": "pie"
           }
          ]
         },
         "layout": {
          "autotypenumbers": "strict",
          "colorway": [
           "#636efa",
           "#EF553B",
           "#00cc96",
           "#ab63fa",
           "#FFA15A",
           "#19d3f3",
           "#FF6692",
           "#B6E880",
           "#FF97FF",
           "#FECB52"
          ],
          "font": {
           "color": "#f2f5fa"
          },
          "hovermode": "closest",
          "hoverlabel": {
           "align": "left"
          },
          "paper_bgcolor": "rgb(17,17,17)",
          "plot_bgcolor": "rgb(17,17,17)",
          "polar": {
           "bgcolor": "rgb(17,17,17)",
           "angularaxis": {
            "gridcolor": "#506784",
            "linecolor": "#506784",
            "ticks": ""
           },
           "radialaxis": {
            "gridcolor": "#506784",
            "linecolor": "#506784",
            "ticks": ""
           }
          },
          "ternary": {
           "bgcolor": "rgb(17,17,17)",
           "aaxis": {
            "gridcolor": "#506784",
            "linecolor": "#506784",
            "ticks": ""
           },
           "baxis": {
            "gridcolor": "#506784",
            "linecolor": "#506784",
            "ticks": ""
           },
           "caxis": {
            "gridcolor": "#506784",
            "linecolor": "#506784",
            "ticks": ""
           }
          },
          "coloraxis": {
           "colorbar": {
            "outlinewidth": 0,
            "ticks": ""
           }
          },
          "colorscale": {
           "sequential": [
            [
             0.0,
             "#0d0887"
            ],
            [
             0.1111111111111111,
             "#46039f"
            ],
            [
             0.2222222222222222,
             "#7201a8"
            ],
            [
             0.3333333333333333,
             "#9c179e"
            ],
            [
             0.4444444444444444,
             "#bd3786"
            ],
            [
             0.5555555555555556,
             "#d8576b"
            ],
            [
             0.6666666666666666,
             "#ed7953"
            ],
            [
             0.7777777777777778,
             "#fb9f3a"
            ],
            [
             0.8888888888888888,
             "#fdca26"
            ],
            [
             1.0,
             "#f0f921"
            ]
           ],
           "sequentialminus": [
            [
             0.0,
             "#0d0887"
            ],
            [
             0.1111111111111111,
             "#46039f"
            ],
            [
             0.2222222222222222,
             "#7201a8"
            ],
            [
             0.3333333333333333,
             "#9c179e"
            ],
            [
             0.4444444444444444,
             "#bd3786"
            ],
            [
             0.5555555555555556,
             "#d8576b"
            ],
            [
             0.6666666666666666,
             "#ed7953"
            ],
            [
             0.7777777777777778,
             "#fb9f3a"
            ],
            [
             0.8888888888888888,
             "#fdca26"
            ],
            [
             1.0,
             "#f0f921"
            ]
           ],
           "diverging": [
            [
             0,
             "#8e0152"
            ],
            [
             0.1,
             "#c51b7d"
            ],
            [
             0.2,
             "#de77ae"
            ],
            [
             0.3,
             "#f1b6da"
            ],
            [
             0.4,
             "#fde0ef"
            ],
            [
             0.5,
             "#f7f7f7"
            ],
            [
             0.6,
             "#e6f5d0"
            ],
            [
             0.7,
             "#b8e186"
            ],
            [
             0.8,
             "#7fbc41"
            ],
            [
             0.9,
             "#4d9221"
            ],
            [
             1,
             "#276419"
            ]
           ]
          },
          "xaxis": {
           "gridcolor": "#283442",
           "linecolor": "#506784",
           "ticks": "",
           "title": {
            "standoff": 15
           },
           "zerolinecolor": "#283442",
           "automargin": true,
           "zerolinewidth": 2
          },
          "yaxis": {
           "gridcolor": "#283442",
           "linecolor": "#506784",
           "ticks": "",
           "title": {
            "standoff": 15
           },
           "zerolinecolor": "#283442",
           "automargin": true,
           "zerolinewidth": 2
          },
          "scene": {
           "xaxis": {
            "backgroundcolor": "rgb(17,17,17)",
            "gridcolor": "#506784",
            "linecolor": "#506784",
            "showbackground": true,
            "ticks": "",
            "zerolinecolor": "#C8D4E3",
            "gridwidth": 2
           },
           "yaxis": {
            "backgroundcolor": "rgb(17,17,17)",
            "gridcolor": "#506784",
            "linecolor": "#506784",
            "showbackground": true,
            "ticks": "",
            "zerolinecolor": "#C8D4E3",
            "gridwidth": 2
           },
           "zaxis": {
            "backgroundcolor": "rgb(17,17,17)",
            "gridcolor": "#506784",
            "linecolor": "#506784",
            "showbackground": true,
            "ticks": "",
            "zerolinecolor": "#C8D4E3",
            "gridwidth": 2
           }
          },
          "shapedefaults": {
           "line": {
            "color": "#f2f5fa"
           }
          },
          "annotationdefaults": {
           "arrowcolor": "#f2f5fa",
           "arrowhead": 0,
           "arrowwidth": 1
          },
          "geo": {
           "bgcolor": "rgb(17,17,17)",
           "landcolor": "rgb(17,17,17)",
           "subunitcolor": "#506784",
           "showland": true,
           "showlakes": true,
           "lakecolor": "rgb(17,17,17)"
          },
          "title": {
           "x": 0.05
          },
          "updatemenudefaults": {
           "bgcolor": "#506784",
           "borderwidth": 0
          },
          "sliderdefaults": {
           "bgcolor": "#C8D4E3",
           "borderwidth": 1,
           "bordercolor": "rgb(17,17,17)",
           "tickwidth": 0
          },
          "mapbox": {
           "style": "dark"
          }
         }
        },
        "xaxis": {
         "anchor": "y",
         "domain": [
          0.0,
          1.0
         ],
         "title": {
          "text": "YEAR"
         },
         "type": "log"
        },
        "yaxis": {
         "anchor": "x",
         "domain": [
          0.0,
          1.0
         ],
         "title": {
          "text": "COUNT"
         },
         "type": "log"
        },
        "legend": {
         "title": {
          "text": "CVE_ID"
         },
         "tracegroupgap": 0,
         "itemsizing": "constant"
        },
        "title": {
         "text": "CVE with most POC"
        },
        "height": 1200,
        "width": 1100
       },
       "config": {
        "plotlyServerURL": "https://plot.ly"
       }
      },
      "text/html": "<div>                            <div id=\"d3540577-e069-4857-8aaa-56b556de7555\" class=\"plotly-graph-div\" style=\"height:1200px; width:1100px;\"></div>            <script type=\"text/javascript\">                require([\"plotly\"], function(Plotly) {                    window.PLOTLYENV=window.PLOTLYENV || {};                                    if (document.getElementById(\"d3540577-e069-4857-8aaa-56b556de7555\")) {                    Plotly.newPlot(                        \"d3540577-e069-4857-8aaa-56b556de7555\",                        [{\"hovertemplate\":\"<b>%{hovertext}</b><br><br>CVE_ID=%{text}<br>YEAR=%{x}<br>COUNT=%{marker.size}<extra></extra>\",\"hovertext\":[\"CVE-2019-11358\"],\"legendgroup\":\"CVE-2019-11358\",\"marker\":{\"color\":\"#636efa\",\"size\":[1435],\"sizemode\":\"area\",\"sizeref\":0.03253968253968254,\"symbol\":\"circle\"},\"mode\":\"markers+text\",\"name\":\"CVE-2019-11358\",\"orientation\":\"v\",\"showlegend\":true,\"text\":[\"CVE-2019-11358\"],\"x\":[2019],\"xaxis\":\"x\",\"y\":[1435],\"yaxis\":\"y\",\"type\":\"scatter\"},{\"hovertemplate\":\"<b>%{hovertext}</b><br><br>CVE_ID=%{text}<br>YEAR=%{x}<br>COUNT=%{marker.size}<extra></extra>\",\"hovertext\":[\"CVE-2021-44228\"],\"legendgroup\":\"CVE-2021-44228\",\"marker\":{\"color\":\"#EF553B\",\"size\":[417],\"sizemode\":\"area\",\"sizeref\":0.03253968253968254,\"symbol\":\"circle\"},\"mode\":\"markers+text\",\"name\":\"CVE-2021-44228\",\"orientation\":\"v\",\"showlegend\":true,\"text\":[\"CVE-2021-44228\"],\"x\":[2021],\"xaxis\":\"x\",\"y\":[417],\"yaxis\":\"y\",\"type\":\"scatter\"},{\"hovertemplate\":\"<b>%{hovertext}</b><br><br>CVE_ID=%{text}<br>YEAR=%{x}<br>COUNT=%{marker.size}<extra></extra>\",\"hovertext\":[\"CVE-2014-6271\"],\"legendgroup\":\"CVE-2014-6271\",\"marker\":{\"color\":\"#00cc96\",\"size\":[395],\"sizemode\":\"area\",\"sizeref\":0.03253968253968254,\"symbol\":\"circle\"},\"mode\":\"markers+text\",\"name\":\"CVE-2014-6271\",\"orientation\":\"v\",\"showlegend\":true,\"text\":[\"CVE-2014-6271\"],\"x\":[2014],\"xaxis\":\"x\",\"y\":[395],\"yaxis\":\"y\",\"type\":\"scatter\"},{\"hovertemplate\":\"<b>%{hovertext}</b><br><br>CVE_ID=%{text}<br>YEAR=%{x}<br>COUNT=%{marker.size}<extra></extra>\",\"hovertext\":[\"CVE-2014-0160\"],\"legendgroup\":\"CVE-2014-0160\",\"marker\":{\"color\":\"#ab63fa\",\"size\":[372],\"sizemode\":\"area\",\"sizeref\":0.03253968253968254,\"symbol\":\"circle\"},\"mode\":\"markers+text\",\"name\":\"CVE-2014-0160\",\"orientation\":\"v\",\"showlegend\":true,\"text\":[\"CVE-2014-0160\"],\"x\":[2014],\"xaxis\":\"x\",\"y\":[372],\"yaxis\":\"y\",\"type\":\"scatter\"},{\"hovertemplate\":\"<b>%{hovertext}</b><br><br>CVE_ID=%{text}<br>YEAR=%{x}<br>COUNT=%{marker.size}<extra></extra>\",\"hovertext\":[\"CVE-2019-0708\"],\"legendgroup\":\"CVE-2019-0708\",\"marker\":{\"color\":\"#FFA15A\",\"size\":[270],\"sizemode\":\"area\",\"sizeref\":0.03253968253968254,\"symbol\":\"circle\"},\"mode\":\"markers+text\",\"name\":\"CVE-2019-0708\",\"orientation\":\"v\",\"showlegend\":true,\"text\":[\"CVE-2019-0708\"],\"x\":[2019],\"xaxis\":\"x\",\"y\":[270],\"yaxis\":\"y\",\"type\":\"scatter\"},{\"hovertemplate\":\"<b>%{hovertext}</b><br><br>CVE_ID=%{text}<br>YEAR=%{x}<br>COUNT=%{marker.size}<extra></extra>\",\"hovertext\":[\"CVE-2020-0796\"],\"legendgroup\":\"CVE-2020-0796\",\"marker\":{\"color\":\"#19d3f3\",\"size\":[189],\"sizemode\":\"area\",\"sizeref\":0.03253968253968254,\"symbol\":\"circle\"},\"mode\":\"markers+text\",\"name\":\"CVE-2020-0796\",\"orientation\":\"v\",\"showlegend\":true,\"text\":[\"CVE-2020-0796\"],\"x\":[2020],\"xaxis\":\"x\",\"y\":[189],\"yaxis\":\"y\",\"type\":\"scatter\"},{\"hovertemplate\":\"<b>%{hovertext}</b><br><br>CVE_ID=%{text}<br>YEAR=%{x}<br>COUNT=%{marker.size}<extra></extra>\",\"hovertext\":[\"CVE-2016-5195\"],\"legendgroup\":\"CVE-2016-5195\",\"marker\":{\"color\":\"#FF6692\",\"size\":[176],\"sizemode\":\"area\",\"sizeref\":0.03253968253968254,\"symbol\":\"circle\"},\"mode\":\"markers+text\",\"name\":\"CVE-2016-5195\",\"orientation\":\"v\",\"showlegend\":true,\"text\":[\"CVE-2016-5195\"],\"x\":[2016],\"xaxis\":\"x\",\"y\":[176],\"yaxis\":\"y\",\"type\":\"scatter\"},{\"hovertemplate\":\"<b>%{hovertext}</b><br><br>CVE_ID=%{text}<br>YEAR=%{x}<br>COUNT=%{marker.size}<extra></extra>\",\"hovertext\":[\"CVE-2022-22965\"],\"legendgroup\":\"CVE-2022-22965\",\"marker\":{\"color\":\"#B6E880\",\"size\":[173],\"sizemode\":\"area\",\"sizeref\":0.03253968253968254,\"symbol\":\"circle\"},\"mode\":\"markers+text\",\"name\":\"CVE-2022-22965\",\"orientation\":\"v\",\"showlegend\":true,\"text\":[\"CVE-2022-22965\"],\"x\":[2022],\"xaxis\":\"x\",\"y\":[173],\"yaxis\":\"y\",\"type\":\"scatter\"},{\"hovertemplate\":\"<b>%{hovertext}</b><br><br>CVE_ID=%{text}<br>YEAR=%{x}<br>COUNT=%{marker.size}<extra></extra>\",\"hovertext\":[\"CVE-2017-5638\"],\"legendgroup\":\"CVE-2017-5638\",\"marker\":{\"color\":\"#FF97FF\",\"size\":[157],\"sizemode\":\"area\",\"sizeref\":0.03253968253968254,\"symbol\":\"circle\"},\"mode\":\"markers+text\",\"name\":\"CVE-2017-5638\",\"orientation\":\"v\",\"showlegend\":true,\"text\":[\"CVE-2017-5638\"],\"x\":[2017],\"xaxis\":\"x\",\"y\":[157],\"yaxis\":\"y\",\"type\":\"scatter\"},{\"hovertemplate\":\"<b>%{hovertext}</b><br><br>CVE_ID=%{text}<br>YEAR=%{x}<br>COUNT=%{marker.size}<extra></extra>\",\"hovertext\":[\"CVE-2021-3156\"],\"legendgroup\":\"CVE-2021-3156\",\"marker\":{\"color\":\"#FECB52\",\"size\":[150],\"sizemode\":\"area\",\"sizeref\":0.03253968253968254,\"symbol\":\"circle\"},\"mode\":\"markers+text\",\"name\":\"CVE-2021-3156\",\"orientation\":\"v\",\"showlegend\":true,\"text\":[\"CVE-2021-3156\"],\"x\":[2021],\"xaxis\":\"x\",\"y\":[150],\"yaxis\":\"y\",\"type\":\"scatter\"}],                        {\"template\":{\"data\":{\"histogram2dcontour\":[{\"type\":\"histogram2dcontour\",\"colorbar\":{\"outlinewidth\":0,\"ticks\":\"\"},\"colorscale\":[[0.0,\"#0d0887\"],[0.1111111111111111,\"#46039f\"],[0.2222222222222222,\"#7201a8\"],[0.3333333333333333,\"#9c179e\"],[0.4444444444444444,\"#bd3786\"],[0.5555555555555556,\"#d8576b\"],[0.6666666666666666,\"#ed7953\"],[0.7777777777777778,\"#fb9f3a\"],[0.8888888888888888,\"#fdca26\"],[1.0,\"#f0f921\"]]}],\"choropleth\":[{\"type\":\"choropleth\",\"colorbar\":{\"outlinewidth\":0,\"ticks\":\"\"}}],\"histogram2d\":[{\"type\":\"histogram2d\",\"colorbar\":{\"outlinewidth\":0,\"ticks\":\"\"},\"colorscale\":[[0.0,\"#0d0887\"],[0.1111111111111111,\"#46039f\"],[0.2222222222222222,\"#7201a8\"],[0.3333333333333333,\"#9c179e\"],[0.4444444444444444,\"#bd3786\"],[0.5555555555555556,\"#d8576b\"],[0.6666666666666666,\"#ed7953\"],[0.7777777777777778,\"#fb9f3a\"],[0.8888888888888888,\"#fdca26\"],[1.0,\"#f0f921\"]]}],\"heatmap\":[{\"type\":\"heatmap\",\"colorbar\":{\"outlinewidth\":0,\"ticks\":\"\"},\"colorscale\":[[0.0,\"#0d0887\"],[0.1111111111111111,\"#46039f\"],[0.2222222222222222,\"#7201a8\"],[0.3333333333333333,\"#9c179e\"],[0.4444444444444444,\"#bd3786\"],[0.5555555555555556,\"#d8576b\"],[0.6666666666666666,\"#ed7953\"],[0.7777777777777778,\"#fb9f3a\"],[0.8888888888888888,\"#fdca26\"],[1.0,\"#f0f921\"]]}],\"heatmapgl\":[{\"type\":\"heatmapgl\",\"colorbar\":{\"outlinewidth\":0,\"ticks\":\"\"},\"colorscale\":[[0.0,\"#0d0887\"],[0.1111111111111111,\"#46039f\"],[0.2222222222222222,\"#7201a8\"],[0.3333333333333333,\"#9c179e\"],[0.4444444444444444,\"#bd3786\"],[0.5555555555555556,\"#d8576b\"],[0.6666666666666666,\"#ed7953\"],[0.7777777777777778,\"#fb9f3a\"],[0.8888888888888888,\"#fdca26\"],[1.0,\"#f0f921\"]]}],\"contourcarpet\":[{\"type\":\"contourcarpet\",\"colorbar\":{\"outlinewidth\":0,\"ticks\":\"\"}}],\"contour\":[{\"type\":\"contour\",\"colorbar\":{\"outlinewidth\":0,\"ticks\":\"\"},\"colorscale\":[[0.0,\"#0d0887\"],[0.1111111111111111,\"#46039f\"],[0.2222222222222222,\"#7201a8\"],[0.3333333333333333,\"#9c179e\"],[0.4444444444444444,\"#bd3786\"],[0.5555555555555556,\"#d8576b\"],[0.6666666666666666,\"#ed7953\"],[0.7777777777777778,\"#fb9f3a\"],[0.8888888888888888,\"#fdca26\"],[1.0,\"#f0f921\"]]}],\"surface\":[{\"type\":\"surface\",\"colorbar\":{\"outlinewidth\":0,\"ticks\":\"\"},\"colorscale\":[[0.0,\"#0d0887\"],[0.1111111111111111,\"#46039f\"],[0.2222222222222222,\"#7201a8\"],[0.3333333333333333,\"#9c179e\"],[0.4444444444444444,\"#bd3786\"],[0.5555555555555556,\"#d8576b\"],[0.6666666666666666,\"#ed7953\"],[0.7777777777777778,\"#fb9f3a\"],[0.8888888888888888,\"#fdca26\"],[1.0,\"#f0f921\"]]}],\"mesh3d\":[{\"type\":\"mesh3d\",\"colorbar\":{\"outlinewidth\":0,\"ticks\":\"\"}}],\"scatter\":[{\"marker\":{\"line\":{\"color\":\"#283442\"}},\"type\":\"scatter\"}],\"parcoords\":[{\"type\":\"parcoords\",\"line\":{\"colorbar\":{\"outlinewidth\":0,\"ticks\":\"\"}}}],\"scatterpolargl\":[{\"type\":\"scatterpolargl\",\"marker\":{\"colorbar\":{\"outlinewidth\":0,\"ticks\":\"\"}}}],\"bar\":[{\"error_x\":{\"color\":\"#f2f5fa\"},\"error_y\":{\"color\":\"#f2f5fa\"},\"marker\":{\"line\":{\"color\":\"rgb(17,17,17)\",\"width\":0.5},\"pattern\":{\"fillmode\":\"overlay\",\"size\":10,\"solidity\":0.2}},\"type\":\"bar\"}],\"scattergeo\":[{\"type\":\"scattergeo\",\"marker\":{\"colorbar\":{\"outlinewidth\":0,\"ticks\":\"\"}}}],\"scatterpolar\":[{\"type\":\"scatterpolar\",\"marker\":{\"colorbar\":{\"outlinewidth\":0,\"ticks\":\"\"}}}],\"histogram\":[{\"marker\":{\"pattern\":{\"fillmode\":\"overlay\",\"size\":10,\"solidity\":0.2}},\"type\":\"histogram\"}],\"scattergl\":[{\"marker\":{\"line\":{\"color\":\"#283442\"}},\"type\":\"scattergl\"}],\"scatter3d\":[{\"type\":\"scatter3d\",\"line\":{\"colorbar\":{\"outlinewidth\":0,\"ticks\":\"\"}},\"marker\":{\"colorbar\":{\"outlinewidth\":0,\"ticks\":\"\"}}}],\"scattermapbox\":[{\"type\":\"scattermapbox\",\"marker\":{\"colorbar\":{\"outlinewidth\":0,\"ticks\":\"\"}}}],\"scatterternary\":[{\"type\":\"scatterternary\",\"marker\":{\"colorbar\":{\"outlinewidth\":0,\"ticks\":\"\"}}}],\"scattercarpet\":[{\"type\":\"scattercarpet\",\"marker\":{\"colorbar\":{\"outlinewidth\":0,\"ticks\":\"\"}}}],\"carpet\":[{\"aaxis\":{\"endlinecolor\":\"#A2B1C6\",\"gridcolor\":\"#506784\",\"linecolor\":\"#506784\",\"minorgridcolor\":\"#506784\",\"startlinecolor\":\"#A2B1C6\"},\"baxis\":{\"endlinecolor\":\"#A2B1C6\",\"gridcolor\":\"#506784\",\"linecolor\":\"#506784\",\"minorgridcolor\":\"#506784\",\"startlinecolor\":\"#A2B1C6\"},\"type\":\"carpet\"}],\"table\":[{\"cells\":{\"fill\":{\"color\":\"#506784\"},\"line\":{\"color\":\"rgb(17,17,17)\"}},\"header\":{\"fill\":{\"color\":\"#2a3f5f\"},\"line\":{\"color\":\"rgb(17,17,17)\"}},\"type\":\"table\"}],\"barpolar\":[{\"marker\":{\"line\":{\"color\":\"rgb(17,17,17)\",\"width\":0.5},\"pattern\":{\"fillmode\":\"overlay\",\"size\":10,\"solidity\":0.2}},\"type\":\"barpolar\"}],\"pie\":[{\"automargin\":true,\"type\":\"pie\"}]},\"layout\":{\"autotypenumbers\":\"strict\",\"colorway\":[\"#636efa\",\"#EF553B\",\"#00cc96\",\"#ab63fa\",\"#FFA15A\",\"#19d3f3\",\"#FF6692\",\"#B6E880\",\"#FF97FF\",\"#FECB52\"],\"font\":{\"color\":\"#f2f5fa\"},\"hovermode\":\"closest\",\"hoverlabel\":{\"align\":\"left\"},\"paper_bgcolor\":\"rgb(17,17,17)\",\"plot_bgcolor\":\"rgb(17,17,17)\",\"polar\":{\"bgcolor\":\"rgb(17,17,17)\",\"angularaxis\":{\"gridcolor\":\"#506784\",\"linecolor\":\"#506784\",\"ticks\":\"\"},\"radialaxis\":{\"gridcolor\":\"#506784\",\"linecolor\":\"#506784\",\"ticks\":\"\"}},\"ternary\":{\"bgcolor\":\"rgb(17,17,17)\",\"aaxis\":{\"gridcolor\":\"#506784\",\"linecolor\":\"#506784\",\"ticks\":\"\"},\"baxis\":{\"gridcolor\":\"#506784\",\"linecolor\":\"#506784\",\"ticks\":\"\"},\"caxis\":{\"gridcolor\":\"#506784\",\"linecolor\":\"#506784\",\"ticks\":\"\"}},\"coloraxis\":{\"colorbar\":{\"outlinewidth\":0,\"ticks\":\"\"}},\"colorscale\":{\"sequential\":[[0.0,\"#0d0887\"],[0.1111111111111111,\"#46039f\"],[0.2222222222222222,\"#7201a8\"],[0.3333333333333333,\"#9c179e\"],[0.4444444444444444,\"#bd3786\"],[0.5555555555555556,\"#d8576b\"],[0.6666666666666666,\"#ed7953\"],[0.7777777777777778,\"#fb9f3a\"],[0.8888888888888888,\"#fdca26\"],[1.0,\"#f0f921\"]],\"sequentialminus\":[[0.0,\"#0d0887\"],[0.1111111111111111,\"#46039f\"],[0.2222222222222222,\"#7201a8\"],[0.3333333333333333,\"#9c179e\"],[0.4444444444444444,\"#bd3786\"],[0.5555555555555556,\"#d8576b\"],[0.6666666666666666,\"#ed7953\"],[0.7777777777777778,\"#fb9f3a\"],[0.8888888888888888,\"#fdca26\"],[1.0,\"#f0f921\"]],\"diverging\":[[0,\"#8e0152\"],[0.1,\"#c51b7d\"],[0.2,\"#de77ae\"],[0.3,\"#f1b6da\"],[0.4,\"#fde0ef\"],[0.5,\"#f7f7f7\"],[0.6,\"#e6f5d0\"],[0.7,\"#b8e186\"],[0.8,\"#7fbc41\"],[0.9,\"#4d9221\"],[1,\"#276419\"]]},\"xaxis\":{\"gridcolor\":\"#283442\",\"linecolor\":\"#506784\",\"ticks\":\"\",\"title\":{\"standoff\":15},\"zerolinecolor\":\"#283442\",\"automargin\":true,\"zerolinewidth\":2},\"yaxis\":{\"gridcolor\":\"#283442\",\"linecolor\":\"#506784\",\"ticks\":\"\",\"title\":{\"standoff\":15},\"zerolinecolor\":\"#283442\",\"automargin\":true,\"zerolinewidth\":2},\"scene\":{\"xaxis\":{\"backgroundcolor\":\"rgb(17,17,17)\",\"gridcolor\":\"#506784\",\"linecolor\":\"#506784\",\"showbackground\":true,\"ticks\":\"\",\"zerolinecolor\":\"#C8D4E3\",\"gridwidth\":2},\"yaxis\":{\"backgroundcolor\":\"rgb(17,17,17)\",\"gridcolor\":\"#506784\",\"linecolor\":\"#506784\",\"showbackground\":true,\"ticks\":\"\",\"zerolinecolor\":\"#C8D4E3\",\"gridwidth\":2},\"zaxis\":{\"backgroundcolor\":\"rgb(17,17,17)\",\"gridcolor\":\"#506784\",\"linecolor\":\"#506784\",\"showbackground\":true,\"ticks\":\"\",\"zerolinecolor\":\"#C8D4E3\",\"gridwidth\":2}},\"shapedefaults\":{\"line\":{\"color\":\"#f2f5fa\"}},\"annotationdefaults\":{\"arrowcolor\":\"#f2f5fa\",\"arrowhead\":0,\"arrowwidth\":1},\"geo\":{\"bgcolor\":\"rgb(17,17,17)\",\"landcolor\":\"rgb(17,17,17)\",\"subunitcolor\":\"#506784\",\"showland\":true,\"showlakes\":true,\"lakecolor\":\"rgb(17,17,17)\"},\"title\":{\"x\":0.05},\"updatemenudefaults\":{\"bgcolor\":\"#506784\",\"borderwidth\":0},\"sliderdefaults\":{\"bgcolor\":\"#C8D4E3\",\"borderwidth\":1,\"bordercolor\":\"rgb(17,17,17)\",\"tickwidth\":0},\"mapbox\":{\"style\":\"dark\"}}},\"xaxis\":{\"anchor\":\"y\",\"domain\":[0.0,1.0],\"title\":{\"text\":\"YEAR\"},\"type\":\"log\"},\"yaxis\":{\"anchor\":\"x\",\"domain\":[0.0,1.0],\"title\":{\"text\":\"COUNT\"},\"type\":\"log\"},\"legend\":{\"title\":{\"text\":\"CVE_ID\"},\"tracegroupgap\":0,\"itemsizing\":\"constant\"},\"title\":{\"text\":\"CVE with most POC\"},\"height\":1200,\"width\":1100},                        {\"responsive\": true}                    ).then(function(){\n                            \nvar gd = document.getElementById('d3540577-e069-4857-8aaa-56b556de7555');\nvar x = new MutationObserver(function (mutations, observer) {{\n        var display = window.getComputedStyle(gd).display;\n        if (!display || display === 'none') {{\n            console.log([gd, 'removed!']);\n            Plotly.purge(gd);\n            observer.disconnect();\n        }}\n}});\n\n// Listen for the removal of the full notebook cells\nvar notebookContainer = gd.closest('#notebook-container');\nif (notebookContainer) {{\n    x.observe(notebookContainer, {childList: true});\n}}\n\n// Listen for the clearing of the current output cell\nvar outputEl = gd.closest('.output');\nif (outputEl) {{\n    x.observe(outputEl, {childList: true});\n}}\n\n                        })                };                });            </script>        </div>"
     },
     "metadata": {},
     "output_type": "display_data"
    }
   ],
   "source": [
    "fig = px.scatter(\n",
    "    df, x=\"YEAR\", y='COUNT', title='CVE with most POC', size='COUNT',color=\"CVE_ID\", hover_name=\"CVE_ID\", text='CVE_ID', log_x=True, log_y=True, size_max=210, width=1100, height=1200)\n",
    "\n",
    "fig.show()"
   ],
   "metadata": {
    "collapsed": false,
    "pycharm": {
     "name": "#%%\n"
    }
   }
  },
  {
   "cell_type": "code",
   "execution_count": null,
   "outputs": [],
   "source": [],
   "metadata": {
    "collapsed": false,
    "pycharm": {
     "name": "#%%\n"
    }
   }
  }
 ],
 "metadata": {
  "kernelspec": {
   "display_name": "Python 3",
   "language": "python",
   "name": "python3"
  },
  "language_info": {
   "codemirror_mode": {
    "name": "ipython",
    "version": 2
   },
   "file_extension": ".py",
   "mimetype": "text/x-python",
   "name": "python",
   "nbconvert_exporter": "python",
   "pygments_lexer": "ipython2",
   "version": "2.7.6"
  }
 },
 "nbformat": 4,
 "nbformat_minor": 0
}